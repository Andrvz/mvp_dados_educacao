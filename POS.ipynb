{
 "cells": [
  {
   "cell_type": "markdown",
   "metadata": {
    "application/vnd.databricks.v1+cell": {
     "cellMetadata": {
      "byteLimit": 2048000,
      "rowLimit": 10000
     },
     "inputWidgets": {},
     "nuid": "2dbcf349-a820-4945-aa01-e55e708f4a93",
     "showTitle": false,
     "tableResultSettingsMap": {},
     "title": ""
    }
   },
   "source": [
    "##### 1. Iniciando Ambiente Python\n",
    "\n"
   ]
  },
  {
   "cell_type": "code",
   "execution_count": 0,
   "metadata": {
    "application/vnd.databricks.v1+cell": {
     "cellMetadata": {
      "byteLimit": 2048000,
      "rowLimit": 10000
     },
     "inputWidgets": {},
     "nuid": "faffad72-ad64-4e5f-8887-9ba1b9884247",
     "showTitle": true,
     "tableResultSettingsMap": {},
     "title": "1.2 - Intalação de Bibliotecas"
    }
   },
   "outputs": [
    {
     "output_type": "stream",
     "name": "stdout",
     "output_type": "stream",
     "text": [
      "Python interpreter will be restarted.\nRequirement already satisfied: pandas in /databricks/python3/lib/python3.9/site-packages (1.4.2)\nCollecting openpyxl\n  Downloading openpyxl-3.1.5-py2.py3-none-any.whl (250 kB)\nCollecting tqdm\n  Downloading tqdm-4.67.1-py3-none-any.whl (78 kB)\nCollecting utils\n  Downloading utils-1.0.2.tar.gz (13 kB)\nCollecting ace_tools\n  Downloading ace_tools-0.0-py3-none-any.whl (1.1 kB)\nCollecting xlrd\n  Downloading xlrd-2.0.1-py2.py3-none-any.whl (96 kB)\nRequirement already satisfied: python-dateutil>=2.8.1 in /databricks/python3/lib/python3.9/site-packages (from pandas) (2.8.2)\nRequirement already satisfied: numpy>=1.18.5 in /databricks/python3/lib/python3.9/site-packages (from pandas) (1.21.5)\nRequirement already satisfied: pytz>=2020.1 in /databricks/python3/lib/python3.9/site-packages (from pandas) (2021.3)\nCollecting et-xmlfile\n  Downloading et_xmlfile-2.0.0-py3-none-any.whl (18 kB)\nRequirement already satisfied: six>=1.5 in /databricks/python3/lib/python3.9/site-packages (from python-dateutil>=2.8.1->pandas) (1.16.0)\nBuilding wheels for collected packages: utils\n  Building wheel for utils (setup.py): started\n  Building wheel for utils (setup.py): finished with status 'done'\n  Created wheel for utils: filename=utils-1.0.2-py2.py3-none-any.whl size=13928 sha256=6c2569c9a9887944350fe0bb3047232ed8f0479aab0dac1286b44d43e36378b3\n  Stored in directory: /root/.cache/pip/wheels/4c/a5/a3/ab48e06c936b39960801612ee2767ff53764119f33d3d646e7\nSuccessfully built utils\nInstalling collected packages: et-xmlfile, xlrd, utils, tqdm, openpyxl, ace-tools\nSuccessfully installed ace-tools-0.0 et-xmlfile-2.0.0 openpyxl-3.1.5 tqdm-4.67.1 utils-1.0.2 xlrd-2.0.1\nPython interpreter will be restarted.\n"
     ]
    }
   ],
   "source": [
    "%pip install pandas openpyxl tqdm utils ace_tools xlrd"
   ]
  },
  {
   "cell_type": "code",
   "execution_count": 0,
   "metadata": {
    "application/vnd.databricks.v1+cell": {
     "cellMetadata": {
      "byteLimit": 2048000,
      "rowLimit": 10000
     },
     "inputWidgets": {},
     "nuid": "e52f13db-2bb1-4f4a-9627-5903c6cbf7c3",
     "showTitle": true,
     "tableResultSettingsMap": {},
     "title": "1.2 - Importação de Bibliotecas"
    }
   },
   "outputs": [
    {
     "output_type": "display_data",
     "data": {
      "application/vnd.databricks.v1+bamboolib_hint": "{\"pd.DataFrames\": [], \"version\": \"0.0.1\"}",
      "text/plain": []
     },
     "metadata": {},
     "output_type": "display_data"
    }
   ],
   "source": [
    "    from platform import python_version\n",
    "    import openpyxl\n",
    "    import pandas as pd\n",
    "    import os\n",
    "    import re\n",
    "    import logging\n",
    "    import time\n",
    "    import tqdm\n",
    "    import logging\n",
    "    import functools\n",
    "    import xlrd\n",
    "    \n",
    "    from tqdm import tqdm\n",
    "    from pyspark.sql import SparkSession\n",
    "    from pyspark.sql import functions as F\n",
    "    from pyspark.sql import types as T\n",
    "    from pyspark.sql.functions import lit\n",
    "    from pyspark.sql.utils import AnalysisException\n",
    "    from platform import python_version\n",
    "\n",
    "    spark.conf.set(\"spark.sql.execution.arrow.pyspark.enabled\", \"false\")"
   ]
  },
  {
   "cell_type": "markdown",
   "metadata": {
    "application/vnd.databricks.v1+cell": {
     "cellMetadata": {
      "byteLimit": 2048000,
      "rowLimit": 10000
     },
     "inputWidgets": {},
     "nuid": "2bb50e3a-e447-42d5-a2aa-e822cad065c0",
     "showTitle": false,
     "tableResultSettingsMap": {},
     "title": ""
    }
   },
   "source": [
    "##### 2. Classes em Python"
   ]
  },
  {
   "cell_type": "code",
   "execution_count": 0,
   "metadata": {
    "application/vnd.databricks.v1+cell": {
     "cellMetadata": {
      "byteLimit": 2048000,
      "rowLimit": 10000
     },
     "inputWidgets": {},
     "nuid": "07976211-a60f-4349-9ad2-da0c9a82e5c6",
     "showTitle": true,
     "tableResultSettingsMap": {},
     "title": "2.0 - Outras Funções"
    }
   },
   "outputs": [],
   "source": [
    "def log_etapa(titulo_etapa):\n",
    "    \"\"\"\n",
    "    Decorador para imprimir cabeçalho e tempo de execução no logger da classe.\n",
    "    Exemplo de uso: @log_etapa(\"Importar Bibliotecas\")\n",
    "    \"\"\"\n",
    "    def decorator(func):\n",
    "        @functools.wraps(func)\n",
    "        def wrapper(self, *args, **kwargs):\n",
    "            linha = \"═\" * 50\n",
    "            mensagem = f\"\"\"\n",
    "\n",
    "    ╔{linha}╗\n",
    "    ║ {titulo_etapa:<48} ║\n",
    "    ╚{linha}╝\n",
    "            \"\"\"\n",
    "            self.logger.info(mensagem)\n",
    "\n",
    "            inicio = time.time()\n",
    "            resultado = func(self, *args, **kwargs)\n",
    "            fim = time.time()\n",
    "\n",
    "            duracao = round(fim - inicio, 1)\n",
    "            self.logger.info(f\"\"\"\n",
    "  ⏱️ Tempo de execução da etapa '{titulo_etapa}': {duracao} segundos\\n\"\"\")\n",
    "            return resultado\n",
    "        return wrapper\n",
    "    return decorator\n",
    "\n",
    "def listar_anos_por_tabela(schema):\n",
    "    tabelas = (\n",
    "        spark.sql(f\"SHOW TABLES IN {schema}\")\n",
    "        .filter(\"isTemporary = false\")\n",
    "        .select(\"tableName\")\n",
    "        .rdd.flatMap(lambda x: x)\n",
    "        .collect()\n",
    "    )\n",
    "\n",
    "    resultados = []\n",
    "\n",
    "    for tabela in tabelas:\n",
    "        nome_completo = f\"{schema}.{tabela}\"\n",
    "        try:\n",
    "            df = spark.table(nome_completo)\n",
    "\n",
    "            # Infos principais\n",
    "            num_linhas = df.count()\n",
    "            num_colunas = len(df.columns)\n",
    "            colunas_exemplo = df.columns\n",
    "\n",
    "            # Anos disponíveis\n",
    "            if \"NU_ANO_CENSO\" in df.columns:\n",
    "                anos = [row[\"NU_ANO_CENSO\"] for row in df.select(\"NU_ANO_CENSO\").distinct().orderBy(\"NU_ANO_CENSO\").collect()]\n",
    "            else:\n",
    "                anos = [\"(sem NU_ANO_CENSO)\"]\n",
    "\n",
    "            resultados.append((tabela, anos, num_linhas, num_colunas, colunas_exemplo))\n",
    "\n",
    "        except AnalysisException as e:\n",
    "            resultados.append((tabela, [f\"(erro: {str(e)})\"], None, None, []))\n",
    "\n",
    "    return spark.createDataFrame(resultados, [\"Tabela\", \"Anos\", \"Qt. Linhas\", \"Qt. Colunas\", \"Colunas\"])\n"
   ]
  },
  {
   "cell_type": "code",
   "execution_count": 0,
   "metadata": {
    "application/vnd.databricks.v1+cell": {
     "cellMetadata": {
      "byteLimit": 2048000,
      "rowLimit": 10000
     },
     "inputWidgets": {},
     "nuid": "d6d3c52e-c9a9-4679-8ae7-5788b91e6dc4",
     "showTitle": true,
     "tableResultSettingsMap": {},
     "title": "2.1 - Transformador DBFS"
    }
   },
   "outputs": [],
   "source": [
    "class TransformadorDBFS:\n",
    "    @staticmethod\n",
    "    def identificar_arquivos(deletar=False):\n",
    "        \"\"\"\n",
    "        Lista recursivamente os arquivos em dbfs:/FileStore/tables.\n",
    "        Se `deletar=True`, remove arquivos e diretórios encontrados.\n",
    "        \"\"\"\n",
    "        caminho_inicial = \"dbfs:/FileStore/tables/\"\n",
    "        logging.info(f\"📦 Acessando: {caminho_inicial}\")\n",
    "\n",
    "        def listar_estrutura(caminho, prefixo=\"\"):\n",
    "            try:\n",
    "                entradas = sorted(dbutils.fs.ls(caminho), key=lambda x: x.name.lower())\n",
    "                for i, entrada in enumerate(entradas):\n",
    "                    nome = entrada.name.rstrip(\"/\")\n",
    "                    is_ultimo = i == len(entradas) - 1\n",
    "                    conector = \"└──\" if is_ultimo else \"├──\"\n",
    "                    novo_prefixo = prefixo + (\"    \" if is_ultimo else \"│   \")\n",
    "                    caminho_completo = entrada.path\n",
    "\n",
    "                    if entrada.path.endswith('/'):\n",
    "                        logging.info(f\"{prefixo}{conector} 📁 {nome}/\")\n",
    "                        listar_estrutura(caminho_completo, novo_prefixo)\n",
    "                        if deletar:\n",
    "                            try:\n",
    "                                dbutils.fs.rm(caminho_completo, True)\n",
    "                                logging.info(f\"{prefixo}✅ Diretório removido: {nome}\")\n",
    "                            except Exception as e:\n",
    "                                logging.error(f\"{prefixo}❌ Erro ao remover diretório {nome}: {e}\")\n",
    "                    else:\n",
    "                        logging.info(f\"{prefixo}{conector} 📄 {nome}\")\n",
    "                        if deletar:\n",
    "                            try:\n",
    "                                dbutils.fs.rm(caminho_completo, True)\n",
    "                                logging.info(f\"{prefixo}✅ Arquivo removido: {nome}\")\n",
    "                            except Exception as e:\n",
    "                                logging.error(f\"{prefixo}❌ Erro ao remover arquivo {nome}: {e}\")\n",
    "            except Exception as e:\n",
    "                logging.warning(f\"{prefixo}⚠️ Erro ao acessar '{caminho}': {e}\")\n",
    "\n",
    "        if deletar:\n",
    "            logging.info(\"🗑️ Modo exclusão ativado.\")\n",
    "        else:\n",
    "            logging.info(\"🔍 Modo leitura ativado.\")\n",
    "        listar_estrutura(caminho_inicial)\n",
    "\n",
    "    @staticmethod\n",
    "    def listar_databases(deletar=False):\n",
    "        \"\"\"\n",
    "        Lista os diretórios de usuários em dbfs:/user/.\n",
    "        Se `deletar=True`, remove os diretórios encontrados.\n",
    "        \"\"\"\n",
    "        caminho_base = \"dbfs:/user/\"\n",
    "        logging.info(f\"📦 Acessando: {caminho_base}\")\n",
    "\n",
    "        try:\n",
    "            arquivos = sorted(dbutils.fs.ls(caminho_base), key=lambda x: x.name.lower())\n",
    "            if not arquivos:\n",
    "                logging.warning(\"⚠️ Nenhum diretório encontrado.\")\n",
    "                return\n",
    "\n",
    "            nomes_existentes = [arquivo.name.rstrip('/') for arquivo in arquivos]\n",
    "            for i, nome in enumerate(nomes_existentes):\n",
    "                conector = \"└──\" if i == len(nomes_existentes) - 1 else \"├──\"\n",
    "                logging.info(f\"{conector} 📁 {nome}/\")\n",
    "\n",
    "            if deletar:\n",
    "                logging.info(\"🗑️ Modo exclusão ativado. Removendo diretórios...\")\n",
    "                for base in nomes_existentes:\n",
    "                    caminho_completo = f\"{caminho_base}{base}\"\n",
    "                    try:\n",
    "                        dbutils.fs.rm(caminho_completo, True)\n",
    "                        logging.info(f\"✅ Diretório removido: {base}\")\n",
    "                    except Exception as erro_remocao:\n",
    "                        logging.error(f\"❌ Erro ao remover '{base}': {erro_remocao}\")\n",
    "            else:\n",
    "                logging.info(\"🔍 Modo leitura: nenhuma base será excluída.\")\n",
    "\n",
    "        except Exception as erro_geral:\n",
    "            logging.error(f\"❌ Erro ao acessar {caminho_base}: {erro_geral}\")\n",
    "\n",
    "    @staticmethod\n",
    "    def listar_parquets(deletar=False):\n",
    "        \"\"\"\n",
    "        Lista arquivos Parquet armazenados em dbfs:/FileStore/parquet_cache.\n",
    "        Se `deletar=True`, remove os arquivos.\n",
    "        \"\"\"\n",
    "        caminho_parquet = \"dbfs:/FileStore/parquet_cache/\"\n",
    "        logging.info(f\"📦 Acessando: {caminho_parquet}\")\n",
    "        logging.info(\"🗂️ Modo: \" + (\"🗑️ Exclusão\" if deletar else \"🔍 Leitura\"))\n",
    "\n",
    "        try:\n",
    "            arquivos = sorted(dbutils.fs.ls(caminho_parquet), key=lambda x: x.name.lower())\n",
    "            if not arquivos:\n",
    "                logging.info(\"⚠️ Nenhum arquivo Parquet encontrado.\")\n",
    "                return\n",
    "\n",
    "            for i, entrada in enumerate(arquivos):\n",
    "                nome = entrada.name\n",
    "                caminho_completo = entrada.path\n",
    "                conector = \"└──\" if i == len(arquivos) - 1 else \"├──\"\n",
    "\n",
    "                if nome.endswith(\".parquet\"):\n",
    "                    logging.info(f\"{conector} 📄 {nome}\")\n",
    "                    if deletar:\n",
    "                        try:\n",
    "                            dbutils.fs.rm(caminho_completo, True)\n",
    "                            logging.info(f\"    ✅ Arquivo removido: {nome}\")\n",
    "                        except Exception as e:\n",
    "                            logging.error(f\"    ❌ Erro ao remover '{nome}': {e}\")\n",
    "\n",
    "        except Exception as e:\n",
    "            logging.warning(f\"⚠️ Diretório não encontrado: {caminho_parquet}\")\n",
    "\n",
    "    @staticmethod\n",
    "    def deletar_arquivos(lista_arquivos):\n",
    "        \"\"\"Remove arquivos individualmente e imprime um resumo formatado.\"\"\"\n",
    "        tabela_str = \"\"\n",
    "        for arquivo in lista_arquivos:\n",
    "            try:\n",
    "                info = dbutils.fs.ls(arquivo)[0]\n",
    "                nome = info.name\n",
    "                tamanho_mb = round(info.size / (1024 * 1024), 2)\n",
    "                modificado = datetime.fromtimestamp(info.modificationTime / 1000).strftime(\"%Y-%m-%d %H:%M:%S\") \\\n",
    "                    if info.modificationTime > 0 else \"N/A\"\n",
    "\n",
    "                dbutils.fs.rm(arquivo, recurse=False)\n",
    "                status = \"✅ REMOVIDO\"\n",
    "                logging.info(f\"🧹 Arquivo removido: {arquivo}\")\n",
    "\n",
    "            except Exception as e:\n",
    "                nome = arquivo.split(\"/\")[-1]\n",
    "                tamanho_mb = \"-\"\n",
    "                modificado = \"-\"\n",
    "                status = \"❌ ERRO\"\n",
    "                logging.error(f\"❌ Erro ao remover {arquivo}: {e}\")\n",
    "\n",
    "            tabela_str += f\"║ {nome:<40} ║ {str(tamanho_mb):>8} MB ║ {modificado:<19} ║ {status:^10} ║\\n\"\n",
    "\n",
    "        cabecalho = (\n",
    "            f\"\\n╔{'':═^42}╦{'':═^12}╦{'':═^21}╦{'':═^12}╗\\n\"\n",
    "            f\"║ {'Arquivo':^40} ║ {'Tamanho':^10} ║ {'Modificado em':^19} ║ {'Status':^10} ║\\n\"\n",
    "            f\"╠{'':═^42}╬{'':═^12}╬{'':═^21}╬{'':═^12}╣\\n\"\n",
    "        )\n",
    "        rodape = f\"╚{'':═^42}╩{'':═^12}╩{'':═^21}╩{'':═^12}╝\\n\"\n",
    "        logging.info(\"\\n\" + cabecalho + tabela_str + rodape)\n",
    "\n",
    "\n",
    "    @staticmethod\n",
    "    def deletar_pastas(lista_pastas):\n",
    "        \"\"\"Remove pastas do DBFS e imprime um resumo com status.\"\"\"\n",
    "        tabela_str = \"\"\n",
    "        for pasta in lista_pastas:\n",
    "            try:\n",
    "                info = dbutils.fs.ls(pasta)[0]\n",
    "                nome = pasta.rstrip(\"/\").split(\"/\")[-1]\n",
    "                modificado = datetime.fromtimestamp(info.modificationTime / 1000).strftime(\"%Y-%m-%d %H:%M:%S\") \\\n",
    "                    if info.modificationTime > 0 else \"N/A\"\n",
    "\n",
    "                dbutils.fs.rm(pasta, recurse=True)\n",
    "                status = \"✅ REMOVIDA\"\n",
    "                logging.info(f\"🧹 Pasta removida: {pasta}\")\n",
    "                tamanho = \"-\"\n",
    "            except Exception as e:\n",
    "                nome = pasta.rstrip(\"/\").split(\"/\")[-1]\n",
    "                modificado = \"-\"\n",
    "                status = \"❌ ERRO\"\n",
    "                tamanho = \"-\"\n",
    "                logging.error(f\"❌ Erro ao remover pasta {pasta}: {e}\")\n",
    "\n",
    "            tabela_str += f\"║ {nome:<40} ║ {tamanho:>8} MB ║ {modificado:<19} ║ {status:^10} ║\\n\"\n",
    "\n",
    "        cabecalho = (\n",
    "            f\"\\n╔{'':═^42}╦{'':═^12}╦{'':═^21}╦{'':═^12}╗\\n\"\n",
    "            f\"║ {'Pasta':^40} ║ {'Tamanho':^10} ║ {'Modificado em':^19} ║ {'Status':^10} ║\\n\"\n",
    "            f\"╠{'':═^42}╬{'':═^12}╬{'':═^21}╬{'':═^12}╣\\n\"\n",
    "        )\n",
    "        rodape = f\"╚{'':═^42}╩{'':═^12}╩{'':═^21}╩{'':═^12}╝\\n\"\n",
    "        logging.info(\"\\n\" + cabecalho + tabela_str + rodape)\n",
    "\n",
    "\n"
   ]
  },
  {
   "cell_type": "code",
   "execution_count": 0,
   "metadata": {
    "application/vnd.databricks.v1+cell": {
     "cellMetadata": {
      "byteLimit": 2048000,
      "rowLimit": 10000
     },
     "inputWidgets": {},
     "nuid": "37667bb0-e1ef-450a-a5dc-c2df0bfafa13",
     "showTitle": true,
     "tableResultSettingsMap": {},
     "title": "2.2 - Transformador Base"
    }
   },
   "outputs": [],
   "source": [
    "class TransformadorBase:\n",
    "    def __init__(self, spark=None, config=None, salvar_em_arquivo=False, caminho_log=\"dbfs:/FileStore/logs/pipeline.log\", log_detalhado=True):\n",
    "        \"\"\"\n",
    "            Classe base para transformação de dados no pipeline em camadas (Bronze, Silver, Gold).\n",
    "\n",
    "            Parâmetros:\n",
    "            -----------\n",
    "            spark : SparkSession, opcional\n",
    "                Sessão Spark ativa. Caso não seja informada, será criada automaticamente.\n",
    "            \n",
    "            config : dict, opcional\n",
    "                Dicionário de configuração do pipeline (ex: table_configs, table_dim_config).\n",
    "            \n",
    "            salvar_em_arquivo : bool, padrão=False\n",
    "                Define se os logs também devem ser salvos em arquivo no DBFS.\n",
    "            \n",
    "            caminho_log : str, padrão=\"dbfs:/FileStore/logs/pipeline.log\"\n",
    "                Caminho no DBFS para salvar o arquivo de log, se `salvar_em_arquivo=True`.\n",
    "            \n",
    "            log_detalhado : bool, padrão=True\n",
    "                Define se os logs da execução devem ser exibidos em nível detalhado\n",
    "                (ex: validação campo por campo). Se False, mostra apenas os resultados principais.\n",
    "        \"\"\"\n",
    "        self.spark = spark or SparkSession.builder.getOrCreate()\n",
    "        self.config = config\n",
    "        self.salvar_em_arquivo = salvar_em_arquivo\n",
    "        self.caminho_log = caminho_log\n",
    "        self.logger = logging.getLogger(self.__class__.__name__)\n",
    "        self.log_detalhado = log_detalhado\n",
    "\n",
    "\n",
    "    def configurar_logger(self):\n",
    "        \"\"\"\n",
    "        Configura o logger com timestamp em décimos de segundo.\n",
    "        Se `self.salvar_em_arquivo=True`, também salva os logs no caminho especificado.\n",
    "        \"\"\"\n",
    "        import time\n",
    "        import os\n",
    "\n",
    "        class OneDecimalFormatter(logging.Formatter):\n",
    "            converter = time.localtime\n",
    "            def formatTime(self, record, datefmt=None):\n",
    "                ct = self.converter(record.created)\n",
    "                t = time.strftime(\"%H:%M:%S\", ct)\n",
    "                fraction = int((record.created - int(record.created)) * 10)\n",
    "                return f\"{t}.{fraction}\"\n",
    "\n",
    "        formatter = OneDecimalFormatter(fmt='%(levelname)s | %(asctime)s ___ %(name)s: %(message)s')\n",
    "\n",
    "        # Console\n",
    "        handler_console = logging.StreamHandler()\n",
    "        handler_console.setFormatter(formatter)\n",
    "        handlers = [handler_console]\n",
    "\n",
    "        # Arquivo (se ativado)\n",
    "        if self.salvar_em_arquivo:\n",
    "            caminho_local = f\"/dbfs{self.caminho_log[5:]}\" if self.caminho_log.startswith(\"dbfs:/\") else self.caminho_log\n",
    "            os.makedirs(os.path.dirname(caminho_local), exist_ok=True)\n",
    "            handler_arquivo = logging.FileHandler(caminho_local, mode=\"w\", encoding=\"utf-8\")\n",
    "            handler_arquivo.setFormatter(formatter)\n",
    "            handlers.append(handler_arquivo)\n",
    "\n",
    "        # Registrar no logger principal\n",
    "        root_logger = logging.getLogger()\n",
    "        root_logger.handlers = []  # limpa handlers antigos\n",
    "        for h in handlers:\n",
    "            root_logger.addHandler(h)\n",
    "        root_logger.setLevel(logging.INFO)\n",
    "\n",
    "        # Atualiza o logger da instância com nome da classe\n",
    "        self.logger = logging.getLogger(self.__class__.__name__)\n",
    "\n",
    "    @log_etapa(\"1.  Importar Bibliotecas\")\n",
    "    def importar_bibliotecas(self):\n",
    "        \"\"\"\n",
    "        Importa bibliotecas padrão usadas no pipeline e exibe a versão de cada uma em formato tabular no log.\n",
    "        Também configura o logger.\n",
    "        \"\"\"\n",
    "        self.configurar_logger()\n",
    "        spark = SparkSession.builder.getOrCreate()\n",
    "\n",
    "        bibliotecas = {\n",
    "            \"tqdm\": tqdm,\n",
    "            \"time\": time,\n",
    "            \"logging\": logging,\n",
    "            \"re\": re,\n",
    "            \"os\": os,\n",
    "            \"spark\": spark,\n",
    "            \"pandas\": pd,\n",
    "            \"openpyxl\": openpyxl,\n",
    "        }\n",
    "\n",
    "        bibliotecas_str = \"\"\n",
    "        for nome, biblioteca in sorted(bibliotecas.items()):\n",
    "            version = getattr(biblioteca, '__version__', None)\n",
    "            if version is None:\n",
    "                version = getattr(biblioteca, 'version', 'N/A')\n",
    "            bibliotecas_str += f\"║ {nome:<23}║ {version:>12} ║\\n\"\n",
    "\n",
    "        versao_python = f\"Versão do Python: {python_version()}\"\n",
    "        largura_total = 35\n",
    "\n",
    "        mensagem = (\n",
    "            \"\\n\"\n",
    "            \"╔════════════════════════╦══════════════╗\\n\"\n",
    "            \"║       Biblioteca       ║    Versão    ║\\n\"\n",
    "            \"╠════════════════════════╬══════════════╣\\n\"\n",
    "          f\"{bibliotecas_str}\"\n",
    "            \"╠════════════════════════╩══════════════╣\\n\"\n",
    "            f\"║  {versao_python:^{largura_total}}  ║\\n\"\n",
    "            \"╚═══════════════════════════════════════╝\"\n",
    "            \"\\n\"\n",
    "        )\n",
    "\n",
    "        self.logger.info(mensagem)\n",
    "\n",
    "    @log_etapa(\"2.  Validação das configurações de fonte de dados\")\n",
    "    def validar_config(self):\n",
    "        def status(condicao, obrigatorio=True):\n",
    "            return \"✅\" if condicao else (\"❌\" if obrigatorio else \"⚠️\")\n",
    "\n",
    "        erros = []\n",
    "\n",
    "        # Validação de table_dim_config\n",
    "        self.logger.info(\"📚 Validação de Tabelas Dimensão\")\n",
    "        for nome, conf in self.config.get(\"table_dim_config\", {}).items():\n",
    "            colunas_ok = \"colunas\" in conf\n",
    "            dados_ok = \"dados\" in conf\n",
    "            tipo_ok = \"tipo\" in conf\n",
    "\n",
    "            if not colunas_ok:\n",
    "                erros.append(f\"table_dim_config -> {nome}: campo 'colunas' ausente.\")\n",
    "            if not dados_ok:\n",
    "                erros.append(f\"table_dim_config -> {nome}: campo 'dados' ausente.\")\n",
    "            if not tipo_ok:\n",
    "                erros.append(f\"table_dim_config -> {nome}: campo 'tipo' ausente.\")\n",
    "\n",
    "            if self.log_detalhado:\n",
    "                self.logger.info(\n",
    "                    f\"  {nome}: {{ colunas: {status(colunas_ok)}, dados: {status(dados_ok)}, tipo: {status(tipo_ok)} }}\"\n",
    "                )\n",
    "            else:\n",
    "                self.logger.info(\n",
    "                    f\"  {nome:<14} -  colunas: {status(colunas_ok)} | dados: {status(dados_ok)} | tipos: {status(tipo_ok)}\"\n",
    "                )\n",
    "\n",
    "        self.logger.info(\"📚 Validação de Tabelas Externas\")\n",
    "        for nome_tabela, conf in self.config.get(\"table_configs\", {}).items():\n",
    "            campos_obrigatorios = [\"anos\", \"pasta\", \"arquivo\", \"formato\", \"nome_tabela\", \"schemas\"]\n",
    "            campos_status = {campo: campo in conf for campo in campos_obrigatorios}\n",
    "\n",
    "            for campo, ok in campos_status.items():\n",
    "                if not ok:\n",
    "                    erros.append(f\"table_configs -> {nome_tabela} - campo obrigatório '{campo}' ausente.\")\n",
    "\n",
    "            if self.log_detalhado:\n",
    "                self.logger.info(f\"  {nome_tabela}: {{\")\n",
    "                for campo, ok in campos_status.items():\n",
    "                    self.logger.info(f\"    {campo}: {status(ok)}\")\n",
    "            else:\n",
    "                linha = f\"  {nome_tabela:<16}: \" + \" | \".join(\n",
    "                    f\"{campo}: {status(ok)}\" for campo, ok in campos_status.items()\n",
    "                )\n",
    "                self.logger.info(linha)\n",
    "\n",
    "            schemas = conf.get(\"schemas\", {})\n",
    "            if not isinstance(schemas, dict):\n",
    "                erros.append(f\"table_configs -> {nome_tabela}: 'schemas' não é um dicionário.\")\n",
    "                continue\n",
    "\n",
    "            for nome_schema, schema in schemas.items():\n",
    "                col_ok = \"colunas\" in schema or \"colunas_prefixo\" in schema or \"prefixos_colunas\" in schema\n",
    "                tipo_ok = \"schema_final_tipos\" in schema\n",
    "\n",
    "                if not col_ok:\n",
    "                    erros.append(f\"table_configs -> {nome_tabela} -> {nome_schema}: sem colunas.\")\n",
    "                if not tipo_ok:\n",
    "                    erros.append(f\"table_configs -> {nome_tabela} -> {nome_schema}: faltando 'schema_final_tipos'.\")\n",
    "\n",
    "                if not self.log_detalhado:\n",
    "                    continue\n",
    "\n",
    "                self.logger.info(f\"      {nome_schema}: {{\")\n",
    "                self.logger.info(f\"        colunas: {status('colunas' in schema, obrigatorio=False)}\")\n",
    "                self.logger.info(f\"        colunas_prefixo: {status('colunas_prefixo' in schema or 'prefixos_colunas' in schema, obrigatorio=False)}\")\n",
    "                self.logger.info(f\"        renomeacoes: {status('renomeacoes' in schema, obrigatorio=False)}\")\n",
    "\n",
    "                sub = schema.get(\"substituir_valores\", {})\n",
    "                self.logger.info(\n",
    "                    f\"        substituir_valores: {{ \"\n",
    "                    f\"valor_original: {status('valor_original' in sub, obrigatorio=False)}, \"\n",
    "                    f\"valor_substituto: {status('valor_substituto' in sub, obrigatorio=False)}, \"\n",
    "                    f\"colunas: {status('colunas' in sub, obrigatorio=False)} }}\"\n",
    "                )\n",
    "\n",
    "                piv = schema.get(\"pivotar_colunas_em_linhas\", {})\n",
    "                if piv:\n",
    "                    for campo_pivot in [\"id_vars\", \"nome_coluna_categoria\", \"nome_coluna_valor\"]:\n",
    "                        if campo_pivot not in piv:\n",
    "                            erros.append(f\"table_configs -> {nome_tabela} -> {nome_schema}: falta '{campo_pivot}' no pivô.\")\n",
    "                    self.logger.info(\n",
    "                        f\"        pivotar_colunas_em_linhas: {{ \"\n",
    "                        f\"id_vars: {status('id_vars' in piv)}, \"\n",
    "                        f\"nome_coluna_categoria: {status('nome_coluna_categoria' in piv)}, \"\n",
    "                        f\"nome_coluna_valor: {status('nome_coluna_valor' in piv)} }}\"\n",
    "                    )\n",
    "                else:\n",
    "                    self.logger.info(\"        pivotar_colunas_em_linhas: ⚠️ (não configurado)\")\n",
    "\n",
    "                self.logger.info(f\"        schema_final_nomes: {status('schema_final_nomes' in schema, obrigatorio=False)}\")\n",
    "                self.logger.info(f\"        schema_final_tipos: {status('schema_final_tipos' in schema)}\")\n",
    "                self.logger.info(f\"        relacionamento: {status('relacionamento' in schema, obrigatorio=False)}\")\n",
    "                self.logger.info(f\"      }}\")\n",
    "\n",
    "            if self.log_detalhado:\n",
    "                self.logger.info(f\"  }}\")\n",
    "\n",
    "        if erros:\n",
    "            self.logger.warning(\"\\n\\n🚨 Resumo de problemas encontrados na validação:\")\n",
    "            for erro in erros:\n",
    "                self.logger.warning(f\"  - {erro}\")\n",
    "        else:\n",
    "            pass\n",
    "\n",
    "    @staticmethod\n",
    "    def converter_xlsx_para_parquet(xlsx_path, parquet_path, sheet, deletar=False):\n",
    "        \"\"\"\n",
    "        Converte um arquivo XLSX do DBFS em Parquet localmente e salva no DBFS.\n",
    "\n",
    "        Parâmetros:\n",
    "        xlsx_path (str): Caminho no DBFS para o arquivo XLSX.\n",
    "        parquet_path (str): Caminho de saída para o Parquet.\n",
    "        sheet (str): Nome da aba do Excel a ser lida.\n",
    "        deletar (bool): Se True, substitui o arquivo Parquet existente.\n",
    "        \"\"\"\n",
    "\n",
    "        tmp_path = \"/tmp/\" + os.path.basename(xlsx_path)\n",
    "        if deletar and os.path.exists(parquet_path):\n",
    "            os.remove(parquet_path)\n",
    "\n",
    "        dbutils.fs.cp(xlsx_path, f\"file:{tmp_path}\")\n",
    "        df = pd.read_excel(tmp_path, engine=\"openpyxl\", sheet_name=sheet)\n",
    "\n",
    "        if \"Unnamed: 0\" in df.columns:\n",
    "            df = df.drop(columns=[\"Unnamed: 0\"])\n",
    "        df = df.astype(str)\n",
    "\n",
    "        df.to_parquet(parquet_path, index=False)\n",
    "        logging.info(f\"✔️ Convertido: {os.path.basename(xlsx_path)} → {parquet_path}\")\n",
    "\n",
    "    def inicializar_database(self, camada):\n",
    "        \"\"\"\n",
    "        (Re)cria o database da camada especificada (bronze, silver ou gold).\n",
    "        \"\"\"\n",
    "        camada = camada.lower().strip()\n",
    "        if camada not in [\"bronze\", \"silver\", \"gold\"]:\n",
    "            raise ValueError(f\"❌ Camada inválida: '{camada}'. Use 'bronze', 'silver' ou 'gold'.\")\n",
    "\n",
    "        try:\n",
    "            self.spark.sql(f\"DROP DATABASE IF EXISTS {camada} CASCADE\")\n",
    "            self.spark.sql(f\"CREATE DATABASE {camada}\")\n",
    "            self.logger.info(f\"🆕 Database `{camada}` recriado com sucesso.\")\n",
    "        except Exception as e:\n",
    "            self.logger.error(f\"❌ Erro ao recriar o database `{camada}`: {e}\")\n",
    "            raise\n"
   ]
  },
  {
   "cell_type": "code",
   "execution_count": 0,
   "metadata": {
    "application/vnd.databricks.v1+cell": {
     "cellMetadata": {
      "byteLimit": 2048000,
      "rowLimit": 10000
     },
     "inputWidgets": {},
     "nuid": "2530d1a9-ede8-4122-8631-c3b778b0e6b9",
     "showTitle": true,
     "tableResultSettingsMap": {},
     "title": "2.3 - Transformador Bronze"
    }
   },
   "outputs": [],
   "source": [
    "class TransformadorBronze(TransformadorBase):\n",
    "    def __init__(self, spark, table_configs, table_dim_config=None, schema_bronze=\"bronze\"):\n",
    "        config = {\n",
    "            \"table_configs\": table_configs,\n",
    "            \"table_dim_config\": table_dim_config or {}\n",
    "        }\n",
    "        super().__init__(spark, config=config)\n",
    "        self.schema_bronze = schema_bronze\n",
    "        self.table_configs = table_configs\n",
    "        self.table_dim_config = table_dim_config or {}\n",
    "\n",
    "    def carregar_csv(self, file_path, year, overwrite, nome_tabela, file_format=\"csv\", schema=\"false\", header=\"true\", delimiter=\";\"):\n",
    "        try:\n",
    "            df = self.spark.read.format(file_format) \\\n",
    "                .option(\"inferSchema\", schema) \\\n",
    "                .option(\"header\", header) \\\n",
    "                .option(\"sep\", delimiter) \\\n",
    "                .option(\"encoding\", \"UTF-8\") \\\n",
    "                .load(file_path)\n",
    "\n",
    "            table_name = f\"{self.schema_bronze}.{nome_tabela}_{year}\"\n",
    "            if self._verificar_tabela_existente(table_name, overwrite):\n",
    "                return\n",
    "\n",
    "            df.write.format(\"parquet\").mode(\"overwrite\").saveAsTable(table_name)\n",
    "            self.logger.info(f\"✅ Tabela {table_name} carregada com sucesso.\")\n",
    "        except Exception as e:\n",
    "            self.logger.error(f\"❌ Erro ao carregar a tabela {table_name}: {e}\")\n",
    "            raise\n",
    "\n",
    "    def carregar_excel(self, file_path, year, sheet_name, overwrite, nome_tabela, engine='openpyxl'):\n",
    "        try:\n",
    "            table_name = f\"{self.schema_bronze}.{nome_tabela}_{year}\"\n",
    "\n",
    "            if self._verificar_tabela_existente(table_name, overwrite):\n",
    "                return\n",
    "\n",
    "            try:\n",
    "                arquivos = [f.name for f in dbutils.fs.ls(os.path.dirname(file_path))]\n",
    "                nome_arquivo = os.path.basename(file_path)\n",
    "                if nome_arquivo not in arquivos:\n",
    "                    self.logger.warning(f\"\"\"⚠️ Arquivo não encontrado no DBFS: {file_path}\"\"\")\n",
    "                    return\n",
    "            except Exception as e:\n",
    "                self.logger.error(f\"❌ Erro ao acessar caminho no DBFS: {file_path} — {e}\")\n",
    "                return\n",
    "\n",
    "            base_name = os.path.basename(file_path)\n",
    "            match = re.search(r\"(.+?)_\\d{4}\\.xlsx$\", base_name)\n",
    "            prefix = match.group(1) if match else \"temp\"\n",
    "            local_path = f\"/tmp/{prefix}_{year}.xlsx\"\n",
    "\n",
    "            dbutils.fs.cp(file_path, f\"file:{local_path}\")\n",
    "\n",
    "            # ⛔ NÃO usa header — carrega tudo como dados\n",
    "            pdf = pd.read_excel(local_path, engine=engine, sheet_name=sheet_name, header=None)\n",
    "            df = self.spark.createDataFrame(pdf.astype(str))\n",
    "\n",
    "            df.write.format(\"parquet\").mode(\"overwrite\").saveAsTable(table_name)\n",
    "            os.remove(local_path)\n",
    "\n",
    "            # self.logger.info(f\"\"\"✅ Tabela {table_name} carregada com sucesso.\"\"\")\n",
    "        except Exception as e:\n",
    "            self.logger.error(\n",
    "                f\"❌ Erro ao carregar a tabela {table_name} a partir do arquivo {file_path} (aba {sheet_name}): {e}\"\n",
    "            )\n",
    "            raise\n",
    "\n",
    "    def _verificar_tabela_existente(self, nome_tabela, overwrite):\n",
    "        tabela_existe = self.spark.catalog.tableExists(nome_tabela)\n",
    "        path_fisico = f\"/user/hive/warehouse/{nome_tabela.replace('.', '/')}\"\n",
    "        pasta_schema = f\"dbfs:/user/hive/warehouse/{self.schema_bronze}.db\"\n",
    "        pasta_existe = False\n",
    "\n",
    "        try:\n",
    "            try:\n",
    "                pastas_hive = dbutils.fs.ls(\"dbfs:/user/hive/warehouse/\")\n",
    "            except Exception as e:\n",
    "                self.logger.warning(f\"⚠️ Diretório hive/warehouse ainda não existe: {e}\")\n",
    "                pastas_hive = []\n",
    "\n",
    "            if any(f.name.rstrip(\"/\") == f\"{self.schema_bronze}.db\" for f in pastas_hive):\n",
    "                try:\n",
    "                    arquivos = dbutils.fs.ls(pasta_schema)\n",
    "                except Exception:\n",
    "                    arquivos = []\n",
    "                nome_tabela_fisica = nome_tabela.split(\".\")[1]\n",
    "                pasta_existe = any(f.name.rstrip(\"/\") == nome_tabela_fisica for f in arquivos)\n",
    "\n",
    "        except Exception as e:\n",
    "            self.logger.warning(f\"⚠️ Erro ao verificar a pasta física de {nome_tabela}: {e}\")\n",
    "\n",
    "        if tabela_existe and overwrite:\n",
    "            self.logger.warning(f\"A tabela {nome_tabela} já existe. Removendo para sobrescrever.\")\n",
    "            self.spark.sql(f\"DROP TABLE {nome_tabela}\")\n",
    "\n",
    "        if (tabela_existe or pasta_existe) and overwrite:\n",
    "            try:\n",
    "                dbutils.fs.rm(f\"dbfs:{path_fisico}\", True)\n",
    "                self.logger.info(f\"📁 Pasta {path_fisico} removida com sucesso.\")\n",
    "            except Exception as e:\n",
    "                self.logger.warning(f\"⚠️ Não foi possível remover a pasta física da tabela {nome_tabela}: {e}\")\n",
    "            return False\n",
    "\n",
    "        if tabela_existe and not overwrite:\n",
    "            # self.logger.info(f\"A tabela {nome_tabela} já existe. Ignorando carregamento conforme overwrite=False.\")\n",
    "            return True\n",
    "\n",
    "        if pasta_existe and not overwrite:\n",
    "            # self.logger.warning(f\"⚠️ Pasta física existente para {nome_tabela}, mas overwrite=False.\")\n",
    "            return True\n",
    "\n",
    "        return False\n",
    "\n",
    "    def _construir_caminho_arquivo(self, config, ano):\n",
    "        return f\"dbfs:/FileStore/tables/{config['pasta']}/{config['arquivo']}{ano}.{config['formato']}\"\n",
    "\n",
    "    def listar_tabelas(self):\n",
    "        schema = self.schema_bronze\n",
    "        self.logger.info(f\"📦 Esquema: {schema}\")\n",
    "        self.logger.info(\"🔎 Listando tabelas existentes no metastore...\")\n",
    "\n",
    "        try:\n",
    "            tabelas = self.spark.catalog.listTables(schema)\n",
    "            if not tabelas:\n",
    "                self.logger.info(f\"⚠️ Nenhuma tabela encontrada no schema '{schema}'.\")\n",
    "                return []\n",
    "\n",
    "            for i, tabela in enumerate(sorted(tabelas, key=lambda x: x.name)):\n",
    "                conector = \"└──\" if i == len(tabelas) - 1 else \"├──\"\n",
    "                tipo = tabela.tableType.lower()\n",
    "                icone = \"📄\" if tipo == \"managed\" else \"📁\"\n",
    "                self.logger.info(f\"{conector} {icone} {tabela.name} ({tipo})\")\n",
    "\n",
    "            return [t.name for t in tabelas]\n",
    "        except Exception as e:\n",
    "            self.logger.error(f\"❌ Erro ao listar tabelas da camada bronze: {e}\")\n",
    "            return []\n",
    "\n",
    "    def listar_tabelas_detalhado(self):\n",
    "        from pyspark.sql.utils import AnalysisException\n",
    "\n",
    "        schema = self.schema_bronze\n",
    "        self.logger.info(f\"📦 Catálogo detalhado da camada '{schema}'\")\n",
    "\n",
    "        try:\n",
    "            tabelas = self.spark.catalog.listTables(schema)\n",
    "            if not tabelas:\n",
    "                self.logger.info(\"⚠️ Nenhuma tabela encontrada.\")\n",
    "                return\n",
    "\n",
    "            resultados = []\n",
    "\n",
    "            for t in sorted(tabelas, key=lambda x: x.name):\n",
    "                nome_completo = f\"{schema}.{t.name}\"\n",
    "                try:\n",
    "                    df = self.spark.table(nome_completo)\n",
    "                    num_colunas = len(df.columns)\n",
    "                    num_registros = df.count()\n",
    "                    metadata = self.spark.sql(f\"DESCRIBE DETAIL {nome_completo}\").collect()[0]\n",
    "                    particionamento = len(metadata['partitionColumns']) > 0\n",
    "                except AnalysisException as e:\n",
    "                    self.logger.warning(f\"⚠️ Não foi possível acessar '{nome_completo}': {e}\")\n",
    "                    num_colunas = \"-\"\n",
    "                    num_registros = \"-\"\n",
    "                    particionamento = \"-\"\n",
    "\n",
    "                resultados.append({\n",
    "                    \"tabela\": t.name,\n",
    "                    \"colunas\": num_colunas,\n",
    "                    \"registros\": num_registros,\n",
    "                    \"particionado\": particionamento,\n",
    "                    \"tipo\": t.tableType.lower(),\n",
    "                    \"temporária\": t.isTemporary\n",
    "                })\n",
    "\n",
    "            df_resultado = self.spark.createDataFrame(resultados)\n",
    "            df_resultado.show(truncate=False)\n",
    "\n",
    "        except Exception as e:\n",
    "            self.logger.error(f\"❌ Erro ao gerar listagem detalhada: {e}\")\n",
    "\n",
    "    @log_etapa(\"3.  Pipeline da Camada Bronze\")\n",
    "    def executar_pipeline(self, deletar=False):\n",
    "        import time\n",
    "        from tqdm import tqdm\n",
    "\n",
    "        inicio = time.time()\n",
    "        status_resumo = {}\n",
    "\n",
    "        # Tabelas dimensão\n",
    "        if hasattr(self, \"table_dim_config\") and self.table_dim_config:\n",
    "            self.criar_dimensoes(self.table_dim_config)\n",
    "            for tabela in self.table_dim_config:\n",
    "                status_resumo[tabela] = {None: True}  # sucesso único\n",
    "\n",
    "        # Tabelas externas\n",
    "        table_configs = self.config[\"table_configs\"]\n",
    "        for tabela, config in table_configs.items():\n",
    "            if tabela in self.table_dim_config:\n",
    "                continue\n",
    "\n",
    "            anos = config.get(\"anos\", [])\n",
    "            if not anos:\n",
    "                self.logger.info(f\"🚫 [IGNORADO] {tabela}: nenhum ano definido para importação.\")\n",
    "                continue\n",
    "\n",
    "            for ano in tqdm(anos, desc=f\"DOWNLOAD | {tabela.ljust(20)}\", unit=\"ano\", leave=True):\n",
    "                nome_tabela = config[\"nome_tabela\"]\n",
    "                tabela_bronze = f\"{self.schema_bronze}.{nome_tabela}_{ano}\"\n",
    "                caminho_arquivo = self._construir_caminho_arquivo(config, ano)\n",
    "                formato = config[\"formato\"]\n",
    "                nome_arquivo = f\"{config['arquivo']}{ano}.{formato}\"\n",
    "\n",
    "                status_resumo.setdefault(tabela, {})[ano] = None  # default: erro\n",
    "\n",
    "                try:\n",
    "                    if formato == \"csv\":\n",
    "                        self.carregar_csv(caminho_arquivo, ano, overwrite=deletar, nome_tabela=nome_tabela)\n",
    "                    elif formato == \"xlsx\":\n",
    "                        self.carregar_excel(\n",
    "                            caminho_arquivo,\n",
    "                            ano,\n",
    "                            sheet_name=config.get(\"aba\", \"Plan1\"),\n",
    "                            overwrite=deletar,\n",
    "                            nome_tabela=nome_tabela\n",
    "                        )\n",
    "                    else:\n",
    "                        self.logger.warning(\n",
    "                            f\"⚠️ [{tabela_bronze}] Formato '{formato}' não suportado. Pulando arquivo: {nome_arquivo}\"\n",
    "                        )\n",
    "                        status_resumo[tabela][ano] = False\n",
    "                        continue\n",
    "\n",
    "                    self.logger.info(f\"✔️ [{tabela_bronze}] Sucesso ao carregar: {nome_arquivo}\")\n",
    "                    status_resumo[tabela][ano] = True\n",
    "\n",
    "                except FileNotFoundError:\n",
    "                    self.logger.warning(f\"⚠️ Arquivo não encontrado no DBFS: {caminho_arquivo}\")\n",
    "                    status_resumo[tabela][ano] = False\n",
    "\n",
    "                except Exception as e:\n",
    "                    self.logger.error(f\"❌ [{tabela_bronze}] Erro ao carregar {nome_arquivo}: {e}\")\n",
    "                    status_resumo[tabela][ano] = None\n",
    "\n",
    "        # RESUMO FINAL\n",
    "        status_icones = {True: \"🟩\", False: \"⚠️\", None: \"❌\"}\n",
    "        anos_totais = sorted({ano for tabela in status_resumo.values() for ano in tabela if ano is not None})\n",
    "        largura = max(len(t) for t in status_resumo) + 2\n",
    "\n",
    "        def montar_tabela(tabelas, com_ano=True):\n",
    "            if com_ano:\n",
    "                header = \" \" * largura + \"\".join(f\"{ano:>8}\" for ano in anos_totais)\n",
    "                linhas = [header, \"-\" * (largura + 8 * len(anos_totais))]\n",
    "                for tabela in tabelas:\n",
    "                    linha = f\"{tabela:<{largura}}\"\n",
    "                    for ano in anos_totais:\n",
    "                        status = status_resumo.get(tabela, {}).get(ano)\n",
    "                        linha += f\"{status_icones.get(status, '⚠️'):>8}\"\n",
    "                    linhas.append(linha)\n",
    "            else:\n",
    "                header = \" \" * largura + \"Status\"\n",
    "                linhas = [header, \"-\" * (largura + 6)]\n",
    "                for tabela in tabelas:\n",
    "                    status = status_resumo.get(tabela, {}).get(None)\n",
    "                    linha = f\"{tabela:<{largura}} {status_icones.get(status, '❌')}\"\n",
    "                    linhas.append(linha)\n",
    "\n",
    "            return \"\\n\".join(linhas)\n",
    "\n",
    "        tabelas_dim = [t for t in status_resumo if list(status_resumo[t].keys()) == [None]]\n",
    "        tabelas_dados = [t for t in status_resumo if t not in tabelas_dim]\n",
    "\n",
    "        self.logger.info(\"\\n📋 Resumo de carregamento - Tabelas de Dimensão\\n\")\n",
    "        self.logger.info(f\"\\n{montar_tabela(tabelas_dim, com_ano=False)}\\n\")\n",
    "\n",
    "        self.logger.info(\"📋 Resumo de carregamento - Tabelas de Dados Externos\\n\")\n",
    "        self.logger.info(f\"\\n{montar_tabela(tabelas_dados, com_ano=True)}\\n\")\n",
    "\n",
    "    def criar_dimensoes(self, config_dimensoes, schema_destino=\"bronze\"):\n",
    "        for nome_dim, parametros in config_dimensoes.items():\n",
    "            tabela_destino = f\"{schema_destino}.{nome_dim}\"\n",
    "            if self.spark.catalog.tableExists(tabela_destino):\n",
    "                self.logger.info(f\"📥 Tabela dimensão `{tabela_destino}` já existe. Etapa ignorada.\")\n",
    "                continue\n",
    "\n",
    "            self.logger.info(f\"🛠️ Criando dimensão `{tabela_destino}`\")\n",
    "\n",
    "            if nome_dim == \"d_Calendario\":\n",
    "                data_inicio = parametros.get(\"data_inicio\")\n",
    "                data_fim = parametros.get(\"data_fim\")\n",
    "\n",
    "                df = self.spark.sql(f\"\"\"\n",
    "                    SELECT sequence(to_date('{data_inicio}'), to_date('{data_fim}'), interval 1 day) AS datas\n",
    "                \"\"\").selectExpr(\"explode(datas) AS DATA\")\n",
    "\n",
    "                df = df \\\n",
    "                    .withColumn(\"ANO\", F.year(\"DATA\")) \\\n",
    "                    .withColumn(\"MES\", F.month(\"DATA\")) \\\n",
    "                    .withColumn(\"DIA\", F.dayofmonth(\"DATA\")) \\\n",
    "                    .withColumn(\"NOME_MES\", F.date_format(\"DATA\", \"MMMM\")) \\\n",
    "                    .withColumn(\"TRIMESTRE\", F.quarter(\"DATA\")) \\\n",
    "                    .withColumn(\"SEMESTRE\", F.when(F.quarter(\"DATA\") <= 2, 1).otherwise(2)) \\\n",
    "                    .withColumn(\"DIA_SEMANA\", F.date_format(\"DATA\", \"E\")) \\\n",
    "                    .withColumn(\"NOME_DIA\", F.date_format(\"DATA\", \"EEEE\")) \\\n",
    "                    .withColumn(\"FIM_SEMANA\", F.when(F.col(\"DIA_SEMANA\").isin(\"Sat\", \"Sun\"), True).otherwise(False)) \\\n",
    "                    .withColumn(\"DATA_ORDENADA\", F.date_format(\"DATA\", \"yyyyMMdd\").cast(\"int\"))\n",
    "\n",
    "                df = df.drop(\"DATA\")\n",
    "\n",
    "            elif nome_dim == \"d_Municipios\":\n",
    "                caminho = parametros.get(\"dados\")\n",
    "                aba = parametros.get(\"aba\")\n",
    "                colunas = parametros.get(\"colunas\")\n",
    "                try:\n",
    "                    self.carregar_xls(\n",
    "                        file_path=caminho,\n",
    "                        year=\"2024\",\n",
    "                        sheet_name=aba,\n",
    "                        overwrite=True,\n",
    "                        nome_tabela=\"temp_d_municipios\"\n",
    "                    )\n",
    "                    df = self.spark.table(f\"{self.schema_bronze}.temp_d_municipios_2024\")\n",
    "                    df = df.toDF(*colunas)\n",
    "                    df = df.filter(F.col(\"Codigo_Municipio_Completo\").isNotNull())\n",
    "                except Exception as e:\n",
    "                    self.logger.error(f\"❌ Erro ao carregar a dimensão `{nome_dim}`: {e}\")\n",
    "                    continue\n",
    "\n",
    "            else:\n",
    "                colunas = parametros.get(\"colunas\")\n",
    "                dados = parametros.get(\"dados\")\n",
    "\n",
    "                if not colunas or not dados:\n",
    "                    self.logger.warning(f\"⚠️ Dados ou colunas ausentes para a dimensão `{nome_dim}`. Pulando...\")\n",
    "                    continue\n",
    "\n",
    "                df = self.spark.createDataFrame(dados, colunas)\n",
    "\n",
    "            tipos = parametros.get(\"tipo\")\n",
    "            if tipos:\n",
    "                for col, tipo in tipos.items():\n",
    "                    df = df.withColumn(col.replace(\" \", \"_\"), F.col(col.replace(\" \", \"_\")).cast(tipo))\n",
    "\n",
    "            df.write.mode(\"overwrite\").format(\"parquet\").saveAsTable(tabela_destino)\n",
    "            self.logger.info(f\"✅ Dimensão `{tabela_destino}` criada com sucesso.\")\n",
    "\n",
    "    def carregar_xls(self, file_path, year, sheet_name, overwrite, nome_tabela, engine='xlrd'):\n",
    "        try:\n",
    "            table_name = f\"{self.schema_bronze}.{nome_tabela}_{year}\"\n",
    "\n",
    "            if self._verificar_tabela_existente(table_name, overwrite):\n",
    "                return\n",
    "\n",
    "            try:\n",
    "                arquivos = [f.name for f in dbutils.fs.ls(os.path.dirname(file_path))]\n",
    "                nome_arquivo = os.path.basename(file_path)\n",
    "                if nome_arquivo not in arquivos:\n",
    "                    self.logger.warning(f\"⚠️ Arquivo não encontrado no DBFS: {file_path}\")\n",
    "                    return\n",
    "            except Exception as e:\n",
    "                self.logger.error(f\"❌ Erro ao acessar caminho no DBFS: {file_path} — {e}\")\n",
    "                return\n",
    "\n",
    "            base_name = os.path.basename(file_path)\n",
    "            match = re.search(r\"(.+?)_\\d{4}\\.xls$\", base_name)\n",
    "            prefix = match.group(1) if match else \"temp\"\n",
    "            local_path = f\"/tmp/{prefix}_{year}.xls\"\n",
    "\n",
    "            dbutils.fs.cp(file_path, f\"file:{local_path}\")\n",
    "\n",
    "            pdf = pd.read_excel(local_path, engine=engine, sheet_name=sheet_name, header=None)\n",
    "            df = self.spark.createDataFrame(pdf.astype(str))\n",
    "\n",
    "            df.write.format(\"parquet\").mode(\"overwrite\").saveAsTable(table_name)\n",
    "            os.remove(local_path)\n",
    "\n",
    "        except Exception as e:\n",
    "            self.logger.error(\n",
    "                f\"❌ Erro ao carregar a tabela {table_name} a partir do arquivo {file_path} (aba {sheet_name}): {e}\"\n",
    "            )\n",
    "            raise"
   ]
  },
  {
   "cell_type": "code",
   "execution_count": 0,
   "metadata": {
    "application/vnd.databricks.v1+cell": {
     "cellMetadata": {
      "byteLimit": 2048000,
      "rowLimit": 10000
     },
     "inputWidgets": {},
     "nuid": "676e8985-426a-4ba3-9f2c-d67bc738c41f",
     "showTitle": true,
     "tableResultSettingsMap": {},
     "title": "2.4- Transformador Prata"
    }
   },
   "outputs": [],
   "source": [
    "class TransformadorPrata(TransformadorBase):\n",
    "    def __init__(self, spark, table_configs, table_dim_config=None, schema_destino=\"silver\"):\n",
    "        config = {\n",
    "            \"table_configs\": table_configs,\n",
    "            \"table_dim_config\": table_dim_config or {}\n",
    "        }\n",
    "        super().__init__(spark, config=config)\n",
    "        self.schema_bronze = \"bronze\"\n",
    "        self.schema_destino = schema_destino\n",
    "        self.table_configs = table_configs\n",
    "        self.table_dim_config = table_dim_config or {}\n",
    "\n",
    "    def carregar_bronze(self, nome_tabela, ano):\n",
    "        return self.spark.table(f\"bronze.{nome_tabela}_{ano}\")\n",
    "\n",
    "    def aplicar_depara_colunas_bronze(self, df, depara):\n",
    "        \"\"\"Renomeia as colunas do DataFrame com base em pares (coluna_origem, coluna_destino).\"\"\"\n",
    "        colunas_atuais = set(df.columns)\n",
    "        colunas_origem = [orig for orig, _ in depara]\n",
    "        colunas_destino = [novo for _, novo in depara]\n",
    "\n",
    "        if set(colunas_destino).issubset(colunas_atuais):\n",
    "            self.logger.info(\"✅ Colunas já renomeadas. Pulando etapa de renomeação.\")\n",
    "            return df\n",
    "\n",
    "        if set(colunas_origem).issubset(colunas_atuais):\n",
    "            df = df.select(*colunas_origem).toDF(*colunas_destino)\n",
    "            self.logger.info(\"🔁 Renomeação aplicada com sucesso.\")\n",
    "            return df\n",
    "\n",
    "        raise ValueError(\"❌ Estrutura de colunas inesperada no DataFrame. Não foi possível aplicar renomeação.\")\n",
    "\n",
    "    def aplicar_renomeacoes(self, df, renomeacoes):\n",
    "        for original, novo in renomeacoes.items():\n",
    "            df = df.withColumnRenamed(original, novo)\n",
    "        return df\n",
    "\n",
    "    def substituir_valores(self, df, colunas, valor_original, valor_substituto):\n",
    "        for col in colunas:\n",
    "            df = df.withColumn(\n",
    "                col,\n",
    "                F.when(F.col(col) == valor_original, valor_substituto).otherwise(F.col(col))\n",
    "            )\n",
    "        return df\n",
    "\n",
    "    def transformar_colunas_em_linhas(self, df, id_vars, nome_categoria, nome_valor):\n",
    "        from pyspark.sql.functions import expr\n",
    "\n",
    "        colunas_variaveis = [col for col in df.columns if col not in id_vars]\n",
    "\n",
    "        exprs = \", \".join(\n",
    "            [f\"stack({len(colunas_variaveis)}, \" + \n",
    "            \", \".join(f\"'{c}', `{c}`\" for c in colunas_variaveis) + \n",
    "            f\") as ({nome_categoria}, {nome_valor})\"]\n",
    "        )\n",
    "        \n",
    "        return df.selectExpr(*id_vars, exprs)\n",
    "\n",
    "    def salvar_tabela_prata(self, df, nome_tabela):\n",
    "        caminho = f\"{self.schema_destino}.{nome_tabela}\"\n",
    "        try:\n",
    "            df.write.partitionBy(\"NU_ANO_CENSO\").format(\"parquet\").mode(\"append\").saveAsTable(caminho)\n",
    "            self.logger.info(f\"✅ Tabela salva como {caminho} (com particionamento por NU_ANO_CENSO)\")\n",
    "        except Exception as e:\n",
    "            self.logger.error(f\"❌ Erro ao salvar tabela {caminho}: {e}\")\n",
    "            raise\n",
    "    \n",
    "    @log_etapa(\"4.  Pipeline da Camada Silver\")\n",
    "    def executar_pipeline(self):\n",
    "        tabelas_dim = [\"d_Series\", \"d_Calendario\", \"d_Municipios\"]\n",
    "        for tabela in tabelas_dim:\n",
    "            origem = f\"{self.schema_bronze}.{tabela}\"\n",
    "            destino = f\"{self.schema_destino}.{tabela}\"\n",
    "\n",
    "            # Verifica se a tabela já existe na camada silver\n",
    "            tabelas_silver = [t.name.lower() for t in self.spark.catalog.listTables(self.schema_destino)]\n",
    "            if tabela.lower() in tabelas_silver:\n",
    "                self.logger.info(f\"📭 Tabela dimensão `{destino}` já existe. Etapa ignorada.\")\n",
    "                continue\n",
    "\n",
    "            try:\n",
    "                df = self.spark.table(origem)\n",
    "                df.write.mode(\"overwrite\").format(\"delta\").saveAsTable(destino)\n",
    "                self.logger.info(f\"📅 Tabela dimensão `{destino}` copiada da camada Bronze.\")\n",
    "            except Exception as e:\n",
    "                self.logger.warning(f\"⚠️ Falha ao copiar `{origem}` para Silver: {e}\")\n",
    "\n",
    "\n",
    "        table_configs = self.config[\"table_configs\"]\n",
    "        tabelas_alvo = list(table_configs.keys())\n",
    "\n",
    "        for nome_tabela in tabelas_alvo:\n",
    "            config = table_configs.get(nome_tabela)\n",
    "            if not config:\n",
    "                self.logger.warning(f\"⚠️ Configuração não encontrada para {nome_tabela}\")\n",
    "                continue\n",
    "\n",
    "            anos = config.get(\"anos\", [])\n",
    "            for ano in anos:\n",
    "                if isinstance(ano, list) and len(ano) == 1:\n",
    "                    ano = ano[0]\n",
    "                elif isinstance(ano, list):\n",
    "                    raise ValueError(f\"⚠️ Valor inesperado para 'ano': {ano} (lista com mais de 1 item)\")\n",
    "\n",
    "                # ✅ VERIFICAÇÃO ANTECIPADA\n",
    "                todas_existem = True\n",
    "                tabelas_silver = [t.name.lower() for t in self.spark.catalog.listTables(self.schema_destino)]\n",
    "                for schema in config.get(\"schemas\", {}).keys():\n",
    "                    nome_final = f\"{nome_tabela}__{schema}\".lower()\n",
    "                    if nome_final not in tabelas_silver:\n",
    "                        todas_existem = False\n",
    "                        break\n",
    "\n",
    "                if todas_existem:\n",
    "                    self.logger.info(f\"📭 Tabela `{nome_tabela}` (ano {ano}) já processada em todos os schemas. Etapa ignorada.\")\n",
    "                    continue\n",
    "\n",
    "                try:\n",
    "                    self.logger.info(\"\\n---------------------------------------------\\n\")\n",
    "                    self.logger.info(f\"📆 Tabela: {nome_tabela.upper()} | Ano: {ano}\")\n",
    "                    self.transformar_tabela(nome_tabela, config, str(ano))\n",
    "\n",
    "                except Exception as e:\n",
    "                    self.logger.error(f\"❌ Falha ao processar {nome_tabela}_{ano}: {e}\")\n",
    "\n",
    "    def transformar_tabela(self, nome_tabela_bronze, config, ano):\n",
    "        try:\n",
    "            df_bronze = self.carregar_bronze(nome_tabela_bronze, ano)\n",
    "\n",
    "            depara = config.get(\"depara_colunas_bronze\")\n",
    "            if depara is not None:\n",
    "                df_renomeado = self.aplicar_depara_colunas_bronze(df_bronze, depara)\n",
    "                self.logger.info(\"  ├── 🔁 Renomeação padrão de colunas aplicada\")\n",
    "            else:\n",
    "                df_renomeado = df_bronze\n",
    "                self.logger.info(\"  ├── 🔁 Renomeação padrão ignorada\")\n",
    "\n",
    "            df_renomeado = df_renomeado.filter(F.col(\"NU_ANO_CENSO\") == ano)\n",
    "            self.logger.info(f\"  ├── 📆 Filtragem por ano (NU_ANO_CENSO = {ano})\")\n",
    "\n",
    "            for chave_schema, schema_info in config.get(\"schemas\", {}).items():\n",
    "                nome_final = f\"{nome_tabela_bronze}__{chave_schema}\"\n",
    "                path_check = f\"{self.schema_destino}.{nome_final}\".lower()\n",
    "                tabelas_silver = [t.name.lower() for t in self.spark.catalog.listTables(self.schema_destino)]\n",
    "\n",
    "                if path_check in tabelas_silver:\n",
    "                    self.logger.info(f\"  ├── ⏩ Tabela {path_check} já existe. Etapa ignorada.\")\n",
    "                    continue\n",
    "\n",
    "                df_trabalho = df_renomeado\n",
    "\n",
    "                colunas_fixas = schema_info.get(\"colunas\", [])\n",
    "                prefixos = schema_info.get(\"colunas_prefixo\") or schema_info.get(\"prefixos_colunas\") or []\n",
    "                if isinstance(prefixos, str):\n",
    "                    prefixos = [prefixos]\n",
    "                colunas_prefixadas = [c for c in df_trabalho.columns if any(c.startswith(p) for p in prefixos)]\n",
    "\n",
    "                colunas = colunas_fixas + colunas_prefixadas\n",
    "                if colunas:\n",
    "                    df_trabalho = df_trabalho.select(*colunas)\n",
    "                    self.logger.info(\"  │   ├─ 📌 Colunas selecionadas\")\n",
    "\n",
    "                renomeacoes = schema_info.get(\"renomeacoes\")\n",
    "                if renomeacoes:\n",
    "                    df_trabalho = self.aplicar_renomeacoes(df_trabalho, renomeacoes)\n",
    "                    self.logger.info(\"  │   ├─ 🔤 Renomeações de colunas\")\n",
    "\n",
    "                substituicoes = schema_info.get(\"substituir_valores\")\n",
    "                if substituicoes:\n",
    "                    df_trabalho = self.substituir_valores(\n",
    "                        df_trabalho,\n",
    "                        substituicoes[\"colunas\"],\n",
    "                        substituicoes[\"valor_original\"],\n",
    "                        substituicoes[\"valor_substituto\"]\n",
    "                    )\n",
    "                    self.logger.info(\"  │   ├─ ♻️ Substituição de valores\")\n",
    "\n",
    "                pivot_config = schema_info.get(\"pivotar_colunas_em_linhas\")\n",
    "                if pivot_config:\n",
    "                    df_trabalho = self.transformar_colunas_em_linhas(\n",
    "                        df_trabalho,\n",
    "                        pivot_config[\"id_vars\"],\n",
    "                        pivot_config[\"nome_coluna_categoria\"],\n",
    "                        pivot_config[\"nome_coluna_valor\"]\n",
    "                    )\n",
    "                    self.logger.info(f\"  │   ├─ 🔃 Unpivot: coluna `{pivot_config['nome_coluna_categoria']}`\")\n",
    "\n",
    "                for tabela_dim, colunas_chave in schema_info.get(\"relacionamento\", {}).items():\n",
    "                    try:\n",
    "                        df_dim = self.spark.table(f\"{self.schema_destino}.{tabela_dim}\")\n",
    "                        for col in colunas_chave:\n",
    "                            df_trabalho = df_trabalho.withColumn(col, F.trim(F.upper(F.col(col))))\n",
    "                            df_dim = df_dim.withColumn(col, F.trim(F.upper(F.col(col))))\n",
    "                        df_trabalho = df_trabalho.join(df_dim, on=colunas_chave, how=\"left\")\n",
    "\n",
    "                        if \"COD_SEGMENTO\" in df_trabalho.columns:\n",
    "                            df_trabalho = df_trabalho.filter(F.col(\"COD_SEGMENTO\").isNotNull())\n",
    "\n",
    "                        self.logger.info(f\"  │   ├─ 🔗 Join com `{tabela_dim}`\")\n",
    "                    except Exception as e:\n",
    "                        self.logger.warning(f\"  │   ├─ ⚠️ Falha no join com {tabela_dim}: {e}\")\n",
    "\n",
    "                nomes_finais = schema_info.get(\"schema_final_nomes\")\n",
    "                colunas_atuais = df_trabalho.columns\n",
    "\n",
    "                if nomes_finais:\n",
    "                    colunas_faltantes = [col for col in nomes_finais if col not in colunas_atuais]\n",
    "                    if colunas_faltantes:\n",
    "                        self.logger.warning(f\"  │   ├─ ⚠️ Colunas ausentes antes da seleção final: {colunas_faltantes}\")\n",
    "                        self.logger.warning(f\"  │   ├─ 🔎 Colunas disponíveis: {colunas_atuais}\")\n",
    "                    else:\n",
    "                        df_trabalho = df_trabalho.select(*nomes_finais)\n",
    "                        self.logger.info(\"  │   ├─ 🏷️ Seleção e ordenação das colunas finais aplicada\")\n",
    "                else:\n",
    "                    self.logger.warning(\"  │   ├─ ⚠️ Lista de nomes finais (`schema_final_nomes`) não definida.\")\n",
    "\n",
    "                tipos_finais = schema_info.get(\"schema_final_tipos\")\n",
    "                if tipos_finais:\n",
    "                    for coluna, tipo in tipos_finais.items():\n",
    "                        df_trabalho = df_trabalho.withColumn(coluna, F.col(coluna).cast(tipo))\n",
    "                    self.logger.info(\"  │   ├─ 📆 Tipagem aplicada\")\n",
    "\n",
    "                self.salvar_tabela_prata(df_trabalho, nome_final)\n",
    "                self.logger.info(f\"  │   └─ ✅ Salvo como {self.schema_destino}.{nome_final}\")\n",
    "\n",
    "        except Exception as e:\n",
    "            self.logger.error(f\"❌ Erro ao transformar tabela {nome_tabela_bronze}_{ano}: {e}\")\n",
    "            raise\n"
   ]
  },
  {
   "cell_type": "code",
   "execution_count": 0,
   "metadata": {
    "application/vnd.databricks.v1+cell": {
     "cellMetadata": {
      "byteLimit": 2048000,
      "rowLimit": 10000
     },
     "inputWidgets": {},
     "nuid": "26475056-db82-4180-9c6e-34ec96000034",
     "showTitle": true,
     "tableResultSettingsMap": {},
     "title": "2.5 - Transformador Ouro"
    }
   },
   "outputs": [
    {
     "output_type": "stream",
     "name": "stderr",
     "output_type": "stream",
     "text": [
      "INFO | 01:29:50.8 ___ py4j.clientserver: Received command c on object id p0\n"
     ]
    }
   ],
   "source": [
    "class TransformadorGold(TransformadorBase):\n",
    "    def __init__(self, spark, table_configs, table_dim_config=None, schema_silver=\"silver\", schema_gold=\"gold\"):\n",
    "        config = {\n",
    "            \"table_configs\": table_configs,\n",
    "            \"table_dim_config\": table_dim_config or {}\n",
    "        }\n",
    "        super().__init__(spark, config=config)\n",
    "        self.schema_silver = schema_silver\n",
    "        self.schema_gold = schema_gold\n",
    "        self.table_configs = table_configs\n",
    "        self.table_dim_config = table_dim_config or {}\n",
    "\n",
    "    def copiar_dimensoes_para_gold(self):\n",
    "        tabelas = [\"d_Series\",  \"d_Calendario\", \"d_Municipios\"]\n",
    "        tabelas_gold = [t.name.lower() for t in self.spark.catalog.listTables(\"gold\")]\n",
    "\n",
    "        for tabela in tabelas:\n",
    "            nome_tabela_gold = tabela.lower()\n",
    "            if nome_tabela_gold in tabelas_gold:\n",
    "                self.logger.info(f\"📭 Tabela `{self.schema_gold}.{tabela}` já existe. Etapa ignorada.\")\n",
    "                continue\n",
    "\n",
    "            origem = f\"{self.schema_silver}.{tabela}\"\n",
    "            destino = f\"{self.schema_gold}.{tabela}\"\n",
    "\n",
    "            try:\n",
    "                df = self.spark.table(origem)\n",
    "                df.write.mode(\"overwrite\").format(\"delta\").saveAsTable(destino)\n",
    "                self.logger.info(f\"✅ Tabela `{tabela}` copiada com sucesso para `{self.schema_gold}`\")\n",
    "            except Exception as e:\n",
    "                self.logger.warning(f\"⚠️ Falha ao copiar `{tabela}` para Gold: {e}\")\n",
    "\n",
    "    def tentar_carregar_tabela(self, nome_tabela, schema=None):\n",
    "        try:\n",
    "            schema = schema or self.schema_silver\n",
    "            return self.spark.table(f\"{schema}.{nome_tabela}\")\n",
    "        except Exception:\n",
    "            self.logger.info(f\"ℹ️ Tabela `{schema}.{nome_tabela}` ausente. Criando colunas com valores nulos.\")\n",
    "            return None\n",
    "\n",
    "    def salvar_tabela_gold(self, df, nome_tabela, particionar_por=None):\n",
    "        try:\n",
    "            from pyspark.sql.functions import col\n",
    "            for column in df.columns:\n",
    "                if df.schema[column].dataType.simpleString() == 'void':\n",
    "                    df = df.withColumn(column, lit(None).cast(\"string\"))\n",
    "\n",
    "            caminho = f\"{self.schema_gold}.{nome_tabela}\"\n",
    "            writer = df.write.format(\"parquet\").mode(\"overwrite\")\n",
    "            if particionar_por:\n",
    "                writer = writer.partitionBy(particionar_por)\n",
    "            writer.saveAsTable(caminho)\n",
    "            self.logger.info(f\"✅ Tabela salva com sucesso como `{caminho}`;\")\n",
    "        except Exception as e:\n",
    "            self.logger.error(f\"❌ Erro ao salvar tabela Gold `{nome_tabela}`: {e}\")\n",
    "            raise\n",
    "\n",
    "    @log_etapa(\"5.  Pipeline da Camada Gold\")\n",
    "    def executar_pipeline(self):\n",
    "        try:\n",
    "            self.copiar_dimensoes_para_gold()\n",
    "\n",
    "            tabelas_existentes = [t.name.lower() for t in self.spark.catalog.listTables(\"gold\")]\n",
    "\n",
    "            if \"indicadores_por_segmento\" not in tabelas_existentes:\n",
    "                self.transformar_indicadores(\"indicadores_por_segmento\")\n",
    "            else:\n",
    "                self.logger.info(\"📭 Tabela `gold.indicadores_por_segmento` já existe. Etapa ignorada.\")\n",
    "\n",
    "        except Exception as e:\n",
    "            self.logger.error(f\"❌ Erro no pipeline da camada Gold: {e}\")\n",
    "            raise\n",
    "\n",
    "\n",
    "    def transformar_indicadores(self, nome_tabela_final):\n",
    "        try:\n",
    "            self.logger.info(\"🚀 Iniciando construção da base com d_Calendario e d_Series\")\n",
    "\n",
    "            df_anos = self.tentar_carregar_tabela(\"d_Calendario\")\n",
    "            df_series = self.tentar_carregar_tabela(\"d_Series\")\n",
    "\n",
    "            if df_anos is None or df_series is None:\n",
    "                raise ValueError(\"❌ Tabelas de dimensão obrigatórias ausentes: d_Calendario ou d_Series\")\n",
    "\n",
    "            df_base = self.spark.table(\"silver.censo_escolar__escolas\").select(\"CO_ENTIDADE\").dropDuplicates()\n",
    "            df_anos = df_anos.select(\"ANO\").withColumnRenamed(\"ANO\", \"NU_ANO_CENSO\").dropDuplicates()\n",
    "            df_series = df_series.select(\"COD_SEGMENTO\", \"COD_SERIE\").dropDuplicates()\n",
    "\n",
    "            df_base = df_base.crossJoin(df_anos).crossJoin(df_series)\n",
    "\n",
    "            tabelas_para_join = [\n",
    "                (\"alunos_por_turma__ATU\",         [\"CO_ENTIDADE\", \"NU_ANO_CENSO\", \"COD_SEGMENTO\", \"COD_SERIE\"], [\"ATU\"]),\n",
    "                (\"hora_aula_diaria__HAD\",         [\"CO_ENTIDADE\", \"NU_ANO_CENSO\", \"COD_SEGMENTO\", \"COD_SERIE\"], [\"HAD\"]),\n",
    "                (\"taxa_escolar__TAP\",             [\"CO_ENTIDADE\", \"NU_ANO_CENSO\", \"COD_SEGMENTO\", \"COD_SERIE\"], [\"TAP\"]),\n",
    "                (\"taxa_escolar__TRE\",             [\"CO_ENTIDADE\", \"NU_ANO_CENSO\", \"COD_SEGMENTO\", \"COD_SERIE\"], [\"TRE\"]),\n",
    "                (\"taxa_escolar__TAB\",             [\"CO_ENTIDADE\", \"NU_ANO_CENSO\", \"COD_SEGMENTO\", \"COD_SERIE\"], [\"TAB\"]),\n",
    "                (\"censo_escolar__QT_MATRICULA\",   [\"CO_ENTIDADE\", \"NU_ANO_CENSO\", \"COD_SEGMENTO\", \"COD_SERIE\"], [\"QT_MAT\"]),\n",
    "                (\"censo_escolar__QT_TURMAS\",      [\"CO_ENTIDADE\", \"NU_ANO_CENSO\", \"COD_SEGMENTO\", \"COD_SERIE\"], [\"QT_TUR\"]),\n",
    "                (\"censo_escolar__QT_DOCENTES\",    [\"CO_ENTIDADE\", \"NU_ANO_CENSO\", \"COD_SEGMENTO\", \"COD_SERIE\"], [\"QT_DOC\"])\n",
    "            ]\n",
    "\n",
    "            from pyspark.sql.functions import lit\n",
    "\n",
    "            for nome_tabela, chaves, colunas in tabelas_para_join:\n",
    "                df_join = self.tentar_carregar_tabela(nome_tabela)\n",
    "                if df_join is None:\n",
    "                    for col in colunas:\n",
    "                        df_base = df_base.withColumn(col, lit(None))\n",
    "                else:\n",
    "                    df_join = df_join.select(*(chaves + colunas))\n",
    "                    df_base = df_base.join(df_join, on=chaves, how=\"left\")\n",
    "                self.logger.info(f\"🔗 Join realizado: + {nome_tabela};\")\n",
    "\n",
    "            df_base = df_base.select(*list(dict.fromkeys(df_base.columns)))\n",
    "            self.salvar_tabela_gold(df_base, nome_tabela_final, particionar_por=\"NU_ANO_CENSO\")\n",
    "\n",
    "        except Exception as e:\n",
    "            self.logger.error(f\"❌ Erro na criação da tabela Gold `{nome_tabela_final}`: {e}\")\n",
    "            raise\n"
   ]
  },
  {
   "cell_type": "markdown",
   "metadata": {
    "application/vnd.databricks.v1+cell": {
     "cellMetadata": {
      "byteLimit": 2048000,
      "rowLimit": 10000
     },
     "inputWidgets": {},
     "nuid": "72d4c6f1-b81e-46cc-aa06-4ad22b40b6a5",
     "showTitle": true,
     "tableResultSettingsMap": {},
     "title": "___ Pipeline ___"
    }
   },
   "source": [
    "##### 3 - Executar Pipeline"
   ]
  },
  {
   "cell_type": "code",
   "execution_count": 0,
   "metadata": {
    "application/vnd.databricks.v1+cell": {
     "cellMetadata": {
      "byteLimit": 2048000,
      "rowLimit": 10000
     },
     "inputWidgets": {},
     "nuid": "20976aea-8b09-4eaa-b66c-6a03a0eccf56",
     "showTitle": true,
     "tableResultSettingsMap": {},
     "title": "3.1 - Config"
    }
   },
   "outputs": [
    {
     "output_type": "stream",
     "name": "stderr",
     "output_type": "stream",
     "text": [
      "INFO | 00:46:33.9 ___ py4j.clientserver: Received command c on object id p0\n"
     ]
    }
   ],
   "source": [
    "anos_config = [2022, 2023, 2024]\n",
    "\n",
    "table_dim_config = {\n",
    "    \"d_Series\": {\n",
    "        \"colunas\": [\"SEGMENTO\", \"COD_SEGMENTO\", \"SERIE\", \"COD_SERIE\", \"NOME_SERIE\"],\n",
    "        \"dados\": [\n",
    "            (\"EI\",   1, \"CRECHE\",         1, \"Creche\"), \n",
    "            (\"EI\",   1, \"PRE_ESCOLA\",     2, \"Pré-Escola\"),\n",
    "            (\"EFI\",  2, \"1_ANO\",         11, \"1º Ano\"), \n",
    "            (\"EFI\",  2, \"2_ANO\",         12, \"2º Ano\"), \n",
    "            (\"EFI\",  2, \"3_ANO\",         13, \"3º Ano\"),\n",
    "            (\"EFI\",  2, \"4_ANO\",         14, \"4º Ano\"), \n",
    "            (\"EFI\",  2, \"5_ANO\",         15, \"5º Ano\"), \n",
    "            (\"EFI\",  2, \"ANOS_INICIAIS\", 16, \"Anos Iniciais\"),\n",
    "            (\"EFII\", 3, \"6_ANO\",         21, \"6º Ano\"), \n",
    "            (\"EFII\", 3, \"7_ANO\",         22, \"7º Ano\"), \n",
    "            (\"EFII\", 3, \"8_ANO\",         23, \"8º Ano\"),\n",
    "            (\"EFII\", 3, \"9_ANO\",         24, \"9º Ano\"), \n",
    "            (\"EFIi\", 2, \"ANOS_FINAIS\",   25, \"Anos Finais\"),\n",
    "            (\"EM\",   4, \"1_SERIE\",       31, \"1ª Série\"), \n",
    "            (\"EM\",   4, \"2_SERIE\",       32, \"2ª Série\"), \n",
    "            (\"EM\",   4, \"3_SERIE\",       33, \"3ª Série\"), \n",
    "            (\"EM\",   4, \"MEDIO\",         34, \"Médio\")],\n",
    "        \"tipo\": {\"SEGMENTO\": \"string\", \"COD_SEGMENTO\": \"int\", \"SERIE\": \"string\", \"COD_SERIE\": \"int\", \"NOME_SERIE\": \"string\"}},\n",
    "    \"d_Calendario\": {\n",
    "        \"colunas\": [\"ANO\", \"MES\", \"DIA\", \"NOME_MES\", \"TRIMESTRE\", \"SEMESTRE\", \"DIA_SEMANA\", \"NOME_DIA\", \"FIM_SEMANA\", \"DATA_ORDENADA\"],\n",
    "        \"dados\": None,\n",
    "        \"tipo\": {\"ANO\": \"int\", \"MES\": \"int\", \"DIA\": \"int\", \n",
    "                 \"NOME_MES\": \"string\", \"TRIMESTRE\": \"int\", \n",
    "                 \"SEMESTRE\": \"int\", \"DIA_SEMANA\": \"string\", \n",
    "                 \"NOME_DIA\": \"string\", \"FIM_SEMANA\": \"string\", \n",
    "                 \"DATA_ORDENADA\": \"int\"},\n",
    "        \"data_inicio\": f\"{min(anos_config)}-01-01\",\n",
    "        \"data_fim\": f\"{max(anos_config)}-12-31\",\n",
    "        \"expressao_colunas\": {\n",
    "        \"ANO\": \"year(DATA)\",\n",
    "        \"MES\": \"month(DATA)\",\n",
    "        \"DIA\": \"dayofmonth(DATA)\",\n",
    "        \"NOME_MES\": \"date_format(DATA, 'MMMM')\",\n",
    "        \"TRIMESTRE\": \"quarter(DATA)\",\n",
    "        \"SEMESTRE\": \"IF(quarter(DATA) <= 2, 1, 2)\",\n",
    "        \"DIA_SEMANA\": \"date_format(DATA, 'E')\",\n",
    "        \"NOME_DIA\": \"date_format(DATA, 'EEEE')\",\n",
    "        \"FIM_SEMANA\": \"IF(date_format(DATA, 'E') IN ('Sat', 'Sun'), True, False)\",\n",
    "        \"DATA_ORDENADA\": \"CAST(date_format(DATA, 'yyyyMMdd') AS int)\"}},\n",
    "\n",
    "    \"d_Municipios\": {\n",
    "        \"aba\": \"DTB_Municipio\",\n",
    "        \"colunas\": [\n",
    "            \"UF\", \"Nome_UF\", \"Regiao_Intermediaria\", \"Nome_Regiao_Intermediaria\",\n",
    "            \"Regiao_Imediata\", \"Nome_Regiao_Imediata\", \"Municipio\",\n",
    "            \"Codigo_Municipio_Completo\", \"Nome_Municipio\"\n",
    "        ],\n",
    "        \"dados\": \"dbfs:/FileStore/tables/MUNICIPIOS/RELATORIO_DTB_BRASIL_MUNICIPIO.xls\",\n",
    "        \"tipo\": {\n",
    "            \"UF\": \"string\",\n",
    "            \"Nome_UF\": \"string\",\n",
    "            \"Regiao_Intermediaria\": \"int\",\n",
    "            \"Nome_Regiao_Intermediaria\": \"string\",\n",
    "            \"Regiao_Imediata\": \"int\",\n",
    "            \"Nome_Regiao_Imediata\": \"string\",\n",
    "            \"Municipio\": \"int\",\n",
    "            \"Codigo_Municipio_Completo\": \"int\",\n",
    "            \"Nome_Municipio\": \"string\"\n",
    "        },\n",
    "        \"renomeacoes\": {}\n",
    "    }\n",
    "    }\n",
    "\n",
    "\n",
    "\n",
    "table_configs = {\n",
    "    \"taxa_escolar\": {\n",
    "        \"anos\": anos_config,\n",
    "        \"pasta\": \"TAXAS\",\n",
    "        \"arquivo\": \"tx_rend_escolas_\",\n",
    "        \"aba\": \"ESCOLAS\",\n",
    "        \"formato\": \"xlsx\",\n",
    "        \"nome_tabela\": \"taxa_escolar\",\n",
    "        \"sobrescrever\": False,\n",
    "        \"depara_colunas_bronze\": [\n",
    "            (\"0\", \"NU_ANO_CENSO\"), (\"1\", \"NO_REGIAO\"), (\"2\", \"SG_UF\"), (\"3\", \"CO_MUNICIPIO\"),\n",
    "            (\"4\", \"NO_MUNICIPIO\"), (\"5\", \"CO_ENTIDADE\"), (\"6\", \"NO_ENTIDADE\"),\n",
    "            (\"7\", \"NO_CATEGORIA\"), (\"8\", \"NO_DEPENDENCIA\"),\n",
    "            (\"9\", \"1_CAT_FUN\"), (\"10\", \"1_CAT_FUN_AI\"), (\"11\", \"1_CAT_FUN_AF\"),\n",
    "            (\"12\", \"1_CAT_FUN_01\"), (\"13\", \"1_CAT_FUN_02\"), (\"14\", \"1_CAT_FUN_03\"),\n",
    "            (\"15\", \"1_CAT_FUN_04\"), (\"16\", \"1_CAT_FUN_05\"), (\"17\", \"1_CAT_FUN_06\"),\n",
    "            (\"18\", \"1_CAT_FUN_07\"), (\"19\", \"1_CAT_FUN_08\"), (\"20\", \"1_CAT_FUN_09\"),\n",
    "            (\"21\", \"1_CAT_MED\"), (\"22\", \"1_CAT_MED_01\"), (\"23\", \"1_CAT_MED_02\"),\n",
    "            (\"24\", \"1_CAT_MED_03\"), (\"25\", \"1_CAT_MED_04\"), (\"26\", \"1_CAT_MED_NS\"),\n",
    "            (\"27\", \"2_CAT_FUN\"), (\"28\", \"2_CAT_FUN_AI\"), (\"29\", \"2_CAT_FUN_AF\"),\n",
    "            (\"30\", \"2_CAT_FUN_01\"), (\"31\", \"2_CAT_FUN_02\"), (\"32\", \"2_CAT_FUN_03\"),\n",
    "            (\"33\", \"2_CAT_FUN_04\"), (\"34\", \"2_CAT_FUN_05\"), (\"35\", \"2_CAT_FUN_06\"),\n",
    "            (\"36\", \"2_CAT_FUN_07\"), (\"37\", \"2_CAT_FUN_08\"), (\"38\", \"2_CAT_FUN_09\"),\n",
    "            (\"39\", \"2_CAT_MED\"), (\"40\", \"2_CAT_MED_01\"), (\"41\", \"2_CAT_MED_02\"),\n",
    "            (\"42\", \"2_CAT_MED_03\"), (\"43\", \"2_CAT_MED_04\"), (\"44\", \"2_CAT_MED_NS\"),\n",
    "            (\"45\", \"3_CAT_FUN\"), (\"46\", \"3_CAT_FUN_AI\"), (\"47\", \"3_CAT_FUN_AF\"),\n",
    "            (\"48\", \"3_CAT_FUN_01\"), (\"49\", \"3_CAT_FUN_02\"), (\"50\", \"3_CAT_FUN_03\"),\n",
    "            (\"51\", \"3_CAT_FUN_04\"), (\"52\", \"3_CAT_FUN_05\"), (\"53\", \"3_CAT_FUN_06\"),\n",
    "            (\"54\", \"3_CAT_FUN_07\"), (\"55\", \"3_CAT_FUN_08\"), (\"56\", \"3_CAT_FUN_09\"),\n",
    "            (\"57\", \"3_CAT_MED\"), (\"58\", \"3_CAT_MED_01\"), (\"59\", \"3_CAT_MED_02\"),\n",
    "            (\"60\", \"3_CAT_MED_03\"), (\"61\", \"3_CAT_MED_04\"), (\"62\", \"3_CAT_MED_NS\")],\n",
    "        \"schemas\": {\n",
    "            \"TAP\": {\n",
    "                \"colunas\": [\"NU_ANO_CENSO\", \"CO_ENTIDADE\"],\n",
    "                \"colunas_prefixo\": \"1_CAT\",\n",
    "                \"renomeacoes\": {\n",
    "                    \"1_CAT_FUN_01\": \"1_ANO\", \"1_CAT_FUN_02\": \"2_ANO\", \"1_CAT_FUN_03\": \"3_ANO\",\n",
    "                    \"1_CAT_FUN_04\": \"4_ANO\", \"1_CAT_FUN_05\": \"5_ANO\", \"1_CAT_FUN_06\": \"6_ANO\",\n",
    "                    \"1_CAT_FUN_07\": \"7_ANO\", \"1_CAT_FUN_08\": \"8_ANO\", \"1_CAT_FUN_09\": \"9_ANO\",\n",
    "                    \"1_CAT_MED_01\": \"1_SERIE\", \"1_CAT_MED_02\": \"2_SERIE\", \"1_CAT_MED_03\": \"3_SERIE\",\n",
    "                    \"1_CAT_FUN_AI\": \"AI\", \"1_CAT_FUN_AF\": \"AF\", \"1_CAT_FUN\": \"FUND\", \"1_CAT_MED\": \"MED\",\n",
    "                    \"1_CAT_MED_04\": \"NS_SERIE\", \"1_CAT_MED_NS\": \"NS_MED\"},\n",
    "                \"substituir_valores\": {\n",
    "                    \"valor_original\": \"--\",\n",
    "                    \"valor_substituto\": None,\n",
    "                    \"colunas\": [\"1_ANO\", \"2_ANO\", \"3_ANO\", \"4_ANO\", \"5_ANO\", \"6_ANO\", \"7_ANO\", \"8_ANO\", \"9_ANO\", \"1_SERIE\", \"2_SERIE\", \"3_SERIE\"]},\n",
    "                \"pivotar_colunas_em_linhas\": {\n",
    "                    \"id_vars\": [\"NU_ANO_CENSO\", \"CO_ENTIDADE\"],\n",
    "                    \"nome_coluna_categoria\": \"SERIE\",\n",
    "                    \"nome_coluna_valor\": \"TAP\"},\n",
    "                \"schema_final_nomes\": \n",
    "                    [\"NU_ANO_CENSO\", \"CO_ENTIDADE\", \"COD_SEGMENTO\", \"COD_SERIE\", \"TAP\"],\n",
    "                \"schema_final_tipos\": {\n",
    "                    \"NU_ANO_CENSO\": \"int\",\n",
    "                    \"CO_ENTIDADE\": \"string\",\n",
    "                    \"COD_SEGMENTO\": \"int\",\n",
    "                    \"COD_SERIE\": \"int\",\n",
    "                    \"TAP\": \"float\"},\n",
    "                \"relacionamento\": {\n",
    "                    \"d_Series\": [\"SERIE\"]}},\n",
    "            \"TRE\": {\n",
    "                \"colunas\": [\"NU_ANO_CENSO\", \"CO_ENTIDADE\"],\n",
    "                \"colunas_prefixo\": \"2_CAT\",\n",
    "                \"renomeacoes\": {\n",
    "                    \"2_CAT_FUN_01\": \"1_ANO\", \"2_CAT_FUN_02\": \"2_ANO\", \"2_CAT_FUN_03\": \"3_ANO\",\n",
    "                    \"2_CAT_FUN_04\": \"4_ANO\", \"2_CAT_FUN_05\": \"5_ANO\", \"2_CAT_FUN_06\": \"6_ANO\",\n",
    "                    \"2_CAT_FUN_07\": \"7_ANO\", \"2_CAT_FUN_08\": \"8_ANO\", \"2_CAT_FUN_09\": \"9_ANO\",\n",
    "                    \"2_CAT_MED_01\": \"1_SERIE\", \"2_CAT_MED_02\": \"2_SERIE\", \"2_CAT_MED_03\": \"3_SERIE\",\n",
    "                    \"2_CAT_FUN_AI\": \"AI\", \"2_CAT_FUN_AF\": \"AF\", \"2_CAT_FUN\": \"FUND\", \"2_CAT_MED\": \"MED\",\n",
    "                    \"2_CAT_MED_04\": \"NS_SERIE\", \"2_CAT_MED_NS\": \"NS_MED\"},\n",
    "                \"substituir_valores\": {\n",
    "                    \"valor_original\": \"--\",\n",
    "                    \"valor_substituto\": None,\n",
    "                    \"colunas\": [\"1_ANO\", \"2_ANO\", \"3_ANO\", \"4_ANO\", \"5_ANO\", \"6_ANO\", \"7_ANO\", \"8_ANO\", \"9_ANO\", \"1_SERIE\", \"2_SERIE\", \"3_SERIE\"]},\n",
    "                \"pivotar_colunas_em_linhas\": {\n",
    "                    \"id_vars\": [\"NU_ANO_CENSO\", \"CO_ENTIDADE\"],\n",
    "                    \"nome_coluna_categoria\": \"SERIE\",\n",
    "                    \"nome_coluna_valor\": \"TRE\"},\n",
    "                \"schema_final_nomes\": \n",
    "                    [\"NU_ANO_CENSO\", \"CO_ENTIDADE\", \"COD_SEGMENTO\", \"COD_SERIE\", \"TRE\"],\n",
    "                \"schema_final_tipos\": {\n",
    "                    \"NU_ANO_CENSO\": \"int\",\n",
    "                    \"CO_ENTIDADE\": \"string\",\n",
    "                    \"COD_SEGMENTO\": \"int\",\n",
    "                    \"COD_SERIE\": \"int\",\n",
    "                    \"TRE\": \"float\"},\n",
    "                \"relacionamento\": {\n",
    "                    \"d_Series\": [\"SERIE\"]}},\n",
    "            \"TAB\": {\n",
    "                \"colunas\": [\"NU_ANO_CENSO\", \"CO_ENTIDADE\"],\n",
    "                \"colunas_prefixo\": \"3_CAT\",\n",
    "                \"renomeacoes\": {\n",
    "                    \"3_CAT_FUN_01\": \"1_ANO\", \"3_CAT_FUN_02\": \"2_ANO\", \"3_CAT_FUN_03\": \"3_ANO\",\n",
    "                    \"3_CAT_FUN_04\": \"4_ANO\", \"3_CAT_FUN_05\": \"5_ANO\", \"3_CAT_FUN_06\": \"6_ANO\",\n",
    "                    \"3_CAT_FUN_07\": \"7_ANO\", \"3_CAT_FUN_08\": \"8_ANO\", \"3_CAT_FUN_09\": \"9_ANO\",\n",
    "                    \"3_CAT_MED_01\": \"1_SERIE\", \"3_CAT_MED_02\": \"2_SERIE\", \"3_CAT_MED_03\": \"3_SERIE\",\n",
    "                    \"3_CAT_FUN_AI\": \"AI\", \"3_CAT_FUN_AF\": \"AF\", \"3_CAT_FUN\": \"FUND\", \"3_CAT_MED\": \"MED\",\n",
    "                    \"3_CAT_MED_04\": \"NS_SERIE\", \"3_CAT_MED_NS\": \"NS_MED\"},\n",
    "                \"substituir_valores\": {\n",
    "                    \"valor_original\": \"--\",\n",
    "                    \"valor_substituto\": None,\n",
    "                    \"colunas\": [\"1_ANO\", \"2_ANO\", \"3_ANO\", \"4_ANO\", \"5_ANO\", \"6_ANO\", \"7_ANO\", \"8_ANO\", \"9_ANO\", \"1_SERIE\", \"2_SERIE\", \"3_SERIE\"]},\n",
    "                \"pivotar_colunas_em_linhas\": {\n",
    "                    \"id_vars\": [\"NU_ANO_CENSO\", \"CO_ENTIDADE\"],\n",
    "                    \"nome_coluna_categoria\": \"SERIE\",\n",
    "                    \"nome_coluna_valor\": \"TAB\"},\n",
    "                \"schema_final_nomes\": \n",
    "                    [\"NU_ANO_CENSO\", \"CO_ENTIDADE\", \"COD_SEGMENTO\", \"COD_SERIE\", \"TAB\"],\n",
    "                \"schema_final_tipos\": {\n",
    "                    \"NU_ANO_CENSO\": \"int\",\n",
    "                    \"CO_ENTIDADE\": \"string\",\n",
    "                    \"COD_SEGMENTO\": \"int\",\n",
    "                    \"COD_SERIE\": \"int\",\n",
    "                    \"TAB\": \"float\"},\n",
    "                \"relacionamento\": {\n",
    "                    \"d_Series\": [\"SERIE\"]}}\n",
    "        }},\n",
    "    \"alunos_por_turma\": {\n",
    "        \"anos\": anos_config,\n",
    "        \"pasta\": \"ATU\",\n",
    "        \"arquivo\": \"ATU_ESCOLAS_\",\n",
    "        \"aba\": \"ESCOLA\",\n",
    "        \"formato\": \"xlsx\",\n",
    "        \"nome_tabela\": \"alunos_por_turma\",\n",
    "        \"sobrescrever\": False,\n",
    "        \"depara_colunas_bronze\": [\n",
    "            (\"0\", \"NU_ANO_CENSO\"),\n",
    "            (\"1\", \"NO_REGIAO\"),\n",
    "            (\"2\", \"SG_UF\"),\n",
    "            (\"3\", \"CO_MUNICIPIO\"),\n",
    "            (\"4\", \"NO_MUNICIPIO\"),\n",
    "            (\"5\", \"CO_ENTIDADE\"),\n",
    "            (\"6\", \"NO_ENTIDADE\"),\n",
    "            (\"7\", \"NO_CATEGORIA\"),\n",
    "            (\"8\", \"NO_DEPENDENCIA\"),\n",
    "            (\"9\", \"ED_INF_CAT_0\"),\n",
    "            (\"10\", \"CRE_CAT_0\"),\n",
    "            (\"11\", \"PRE_CAT_0\"),\n",
    "            (\"12\", \"FUN_CAT_0\"),\n",
    "            (\"13\", \"FUN_AI_CAT_0\"),\n",
    "            (\"14\", \"FUN_AF_CAT_0\"),\n",
    "            (\"15\", \"FUN_01_CAT_0\"),\n",
    "            (\"16\", \"FUN_02_CAT_0\"),\n",
    "            (\"17\", \"FUN_03_CAT_0\"),\n",
    "            (\"18\", \"FUN_04_CAT_0\"),\n",
    "            (\"19\", \"FUN_05_CAT_0\"),\n",
    "            (\"20\", \"FUN_06_CAT_0\"),\n",
    "            (\"21\", \"FUN_07_CAT_0\"),\n",
    "            (\"22\", \"FUN_08_CAT_0\"),\n",
    "            (\"23\", \"FUN_09_CAT_0\"),\n",
    "            (\"24\", \"MED_CAT_0\"),\n",
    "            (\"25\", \"MED_01_CAT_0\"),\n",
    "            (\"26\", \"MED_02_CAT_0\"),\n",
    "            (\"27\", \"MED_03_CAT_0\"),\n",
    "            (\"28\", \"MED_04_CAT_0\"),\n",
    "            (\"29\", \"MED_NS_CAT_0\")],\n",
    "        \"schemas\": {\n",
    "            'ATU': {\n",
    "                \"colunas\": [\n",
    "                    \"NU_ANO_CENSO\", \"CO_ENTIDADE\",\n",
    "                    \"FUN_01_CAT_0\", \"FUN_02_CAT_0\", \"FUN_03_CAT_0\", \"FUN_04_CAT_0\", \"FUN_05_CAT_0\",\n",
    "                    \"FUN_06_CAT_0\", \"FUN_07_CAT_0\", \"FUN_08_CAT_0\", \"FUN_09_CAT_0\",\n",
    "                    \"MED_01_CAT_0\", \"MED_02_CAT_0\", \"MED_03_CAT_0\",\n",
    "                    \"CRE_CAT_0\", \"PRE_CAT_0\"],\n",
    "                \"renomeacoes\": {\n",
    "                    \"FUN_01_CAT_0\": \"1_ANO\", \"FUN_02_CAT_0\": \"2_ANO\", \"FUN_03_CAT_0\": \"3_ANO\",\n",
    "                    \"FUN_04_CAT_0\": \"4_ANO\", \"FUN_05_CAT_0\": \"5_ANO\", \"FUN_06_CAT_0\": \"6_ANO\",\n",
    "                    \"FUN_07_CAT_0\": \"7_ANO\", \"FUN_08_CAT_0\": \"8_ANO\", \"FUN_09_CAT_0\": \"9_ANO\",\n",
    "                    \"MED_01_CAT_0\": \"1_SERIE\", \"MED_02_CAT_0\": \"2_SERIE\", \"MED_03_CAT_0\": \"3_SERIE\", \"CRE_CAT_0\": \"CRECHE\", \"PRE_CAT_0\": \"PRE_ESCOLA\"},\n",
    "                \"substituir_valores\": {\n",
    "                    \"valor_original\": \"--\",\n",
    "                    \"valor_substituto\": None,\n",
    "                    \"colunas\": [\n",
    "                        \"1_ANO\", \"2_ANO\", \"3_ANO\", \"4_ANO\", \"5_ANO\", \"6_ANO\", \"7_ANO\", \"8_ANO\", \"9_ANO\", \"1_SERIE\", \"2_SERIE\", \"3_SERIE\", \"CRECHE\", \"PRE_ESCOLA\"]},\n",
    "                \"pivotar_colunas_em_linhas\": {\n",
    "                    \"id_vars\": [\"NU_ANO_CENSO\", \"CO_ENTIDADE\"],\n",
    "                    \"nome_coluna_categoria\": \"SERIE\",\n",
    "                    \"nome_coluna_valor\": \"ATU\"},\n",
    "                \"schema_final_nomes\": [\"NU_ANO_CENSO\", \"CO_ENTIDADE\", \"COD_SEGMENTO\", \"COD_SERIE\", \"ATU\"],\n",
    "                \"schema_final_tipos\": {\n",
    "                    \"NU_ANO_CENSO\": \"int\",\n",
    "                    \"CO_ENTIDADE\": \"string\",\n",
    "                    \"COD_SEGMENTO\": \"int\",\n",
    "                    \"COD_SERIE\": \"int\",\n",
    "                    \"ATU\": \"float\"},\n",
    "                \"relacionamento\": {\n",
    "                    \"d_Series\": [\"SERIE\"]\n",
    "            }}}}, \n",
    "    \"hora_aula_diaria\": {\n",
    "        \"anos\": anos_config,\n",
    "        \"pasta\": \"HAD\",\n",
    "        \"arquivo\": \"HAD_ESCOLAS_\",\n",
    "        \"aba\": \"ESCOLA\",\n",
    "        \"formato\": \"xlsx\",\n",
    "        \"nome_tabela\": \"hora_aula_diaria\",\n",
    "        \"sobrescrever\": False,\n",
    "        \"depara_colunas_bronze\": [\n",
    "            (\"0\", \"NU_ANO_CENSO\"),\n",
    "            (\"1\", \"NO_REGIAO\"),\n",
    "            (\"2\", \"SG_UF\"),\n",
    "            (\"3\", \"CO_MUNICIPIO\"),\n",
    "            (\"4\", \"NO_MUNICIPIO\"),\n",
    "            (\"5\", \"CO_ENTIDADE\"),\n",
    "            (\"6\", \"NO_ENTIDADE\"),\n",
    "            (\"7\", \"NO_CATEGORIA\"),\n",
    "            (\"8\", \"NO_DEPENDENCIA\"),\n",
    "            (\"9\", \"ED_INF_CAT_0\"),\n",
    "            (\"10\", \"CRE_CAT_0\"),\n",
    "            (\"11\", \"PRE_CAT_0\"),\n",
    "            (\"12\", \"FUN_CAT_0\"),\n",
    "            (\"13\", \"FUN_AI_CAT_0\"),\n",
    "            (\"14\", \"FUN_AF_CAT_0\"),\n",
    "            (\"15\", \"FUN_01_CAT_0\"),\n",
    "            (\"16\", \"FUN_02_CAT_0\"),\n",
    "            (\"17\", \"FUN_03_CAT_0\"),\n",
    "            (\"18\", \"FUN_04_CAT_0\"),\n",
    "            (\"19\", \"FUN_05_CAT_0\"),\n",
    "            (\"20\", \"FUN_06_CAT_0\"),\n",
    "            (\"21\", \"FUN_07_CAT_0\"),\n",
    "            (\"22\", \"FUN_08_CAT_0\"),\n",
    "            (\"23\", \"FUN_09_CAT_0\"),\n",
    "            (\"24\", \"MED_CAT_0\"),\n",
    "            (\"25\", \"MED_01_CAT_0\"),\n",
    "            (\"26\", \"MED_02_CAT_0\"),\n",
    "            (\"27\", \"MED_03_CAT_0\"),\n",
    "            (\"28\", \"MED_04_CAT_0\"),\n",
    "            (\"29\", \"MED_NS_CAT_0\")],\n",
    "        \"schemas\": {\n",
    "            \"HAD\": {\n",
    "                \"colunas\": [\n",
    "                    \"NU_ANO_CENSO\", \"CO_ENTIDADE\",\n",
    "                    \"FUN_01_CAT_0\", \"FUN_02_CAT_0\", \"FUN_03_CAT_0\", \"FUN_04_CAT_0\", \"FUN_05_CAT_0\",\n",
    "                    \"FUN_06_CAT_0\", \"FUN_07_CAT_0\", \"FUN_08_CAT_0\", \"FUN_09_CAT_0\",\n",
    "                    \"MED_01_CAT_0\", \"MED_02_CAT_0\", \"MED_03_CAT_0\",\n",
    "                    \"CRE_CAT_0\", \"PRE_CAT_0\"],\n",
    "                \"renomeacoes\": {\n",
    "                    \"FUN_01_CAT_0\": \"1_ANO\",\n",
    "                    \"FUN_02_CAT_0\": \"2_ANO\",\n",
    "                    \"FUN_03_CAT_0\": \"3_ANO\",\n",
    "                    \"FUN_04_CAT_0\": \"4_ANO\",\n",
    "                    \"FUN_05_CAT_0\": \"5_ANO\",\n",
    "                    \"FUN_06_CAT_0\": \"6_ANO\",\n",
    "                    \"FUN_07_CAT_0\": \"7_ANO\",\n",
    "                    \"FUN_08_CAT_0\": \"8_ANO\",\n",
    "                    \"FUN_09_CAT_0\": \"9_ANO\",\n",
    "                    \"MED_01_CAT_0\": \"1_SERIE\",\n",
    "                    \"MED_02_CAT_0\": \"2_SERIE\",\n",
    "                    \"MED_03_CAT_0\": \"3_SERIE\",\n",
    "                    \"CRE_CAT_0\": \"CRECHE\",\n",
    "                    \"PRE_CAT_0\": \"PRE_ESCOLA\"},\n",
    "                \"substituir_valores\": {\n",
    "                    \"valor_original\": \"--\",\n",
    "                    \"valor_substituto\": None,\n",
    "                    \"colunas\": [\n",
    "                        \"1_ANO\", \"2_ANO\", \"3_ANO\", \"4_ANO\", \"5_ANO\", \"6_ANO\", \"7_ANO\", \"8_ANO\", \"9_ANO\",\n",
    "                        \"1_SERIE\", \"2_SERIE\", \"3_SERIE\", \"CRECHE\", \"PRE_ESCOLA\"]},\n",
    "                \"pivotar_colunas_em_linhas\": {\n",
    "                    \"id_vars\": [\"NU_ANO_CENSO\", \"CO_ENTIDADE\"],\n",
    "                    \"nome_coluna_categoria\": \"SERIE\",\n",
    "                    \"nome_coluna_valor\": \"HAD\"},\n",
    "                \"schema_final_nomes\": \n",
    "                    [\"NU_ANO_CENSO\", \"CO_ENTIDADE\", \"COD_SEGMENTO\", \"COD_SERIE\", \"HAD\"],\n",
    "                \"schema_final_tipos\": {\n",
    "                    \"NU_ANO_CENSO\": \"int\",\n",
    "                    \"CO_ENTIDADE\": \"string\",\n",
    "                    \"COD_SEGMENTO\": \"int\",\n",
    "                    \"COD_SERIE\": \"int\",\n",
    "                    \"HAD\": \"float\"},\n",
    "                \"relacionamento\": {\n",
    "                    \"d_Series\": [\"SERIE\"]}\n",
    "            }\n",
    "        }},\n",
    "    \"censo_escolar\": {\n",
    "        \"anos\": anos_config,\n",
    "        \"pasta\": \"CENSO\",\n",
    "        \"arquivo\": \"microdados_ed_basica_\",\n",
    "        \"formato\": \"csv\",\n",
    "        \"nome_tabela\": \"censo_escolar\",\n",
    "        \"sobrescrever\": False,\n",
    "        \"depara_colunas_bronze\": [],\n",
    "\"schemas\": {\n",
    "    \"escolas\": {\n",
    "        \"colunas\": [\n",
    "            \"NU_ANO_CENSO\", \"CO_ENTIDADE\", \"NO_ENTIDADE\",\n",
    "            \"CO_UF\", \"CO_REGIAO\", \"CO_MUNICIPIO\",\n",
    "            \"SG_UF\", \"NO_UF\", \"NO_BAIRRO\",\n",
    "            \"TP_DEPENDENCIA\", \"TP_LOCALIZACAO\", \"TP_SITUACAO_FUNCIONAMENTO\"\n",
    "        ],\n",
    "        \"schema_final_nomes\": [\n",
    "            \"NU_ANO_CENSO\", \"CO_ENTIDADE\", \"NO_ENTIDADE\",\n",
    "            \"CO_UF\", \"CO_REGIAO\", \"CO_MUNICIPIO\",\n",
    "            \"SG_UF\", \"NO_UF\", \"NO_BAIRRO\",\n",
    "            \"TP_DEPENDENCIA\", \"TP_LOCALIZACAO\", \"TP_SITUACAO_FUNCIONAMENTO\"\n",
    "        ],\n",
    "        \"schema_final_tipos\": {\n",
    "            \"NU_ANO_CENSO\": \"int\",\n",
    "            \"CO_ENTIDADE\": \"string\",\n",
    "            \"NO_ENTIDADE\": \"string\",\n",
    "            \"NO_BAIRRO\": \"string\",\n",
    "            \"TP_DEPENDENCIA\": \"int\",\n",
    "            \"TP_LOCALIZACAO\": \"int\",\n",
    "            \"TP_SITUACAO_FUNCIONAMENTO\": \"int\",\n",
    "            \"NO_UF\": \"string\",\n",
    "            \"SG_UF\": \"string\",\n",
    "            \"CO_UF\": \"string\",\n",
    "            \"CO_REGIAO\": \"string\",\n",
    "            \"CO_MUNICIPIO\": \"string\"\n",
    "        }},\n",
    "            \"QT_MATRICULA\": {\n",
    "                \"colunas\": [\"NU_ANO_CENSO\", \"CO_ENTIDADE\", \"NO_ENTIDADE\"],\n",
    "                \"colunas_prefixo\": \"QT_MAT\",\n",
    "                \"renomeacoes\": {\n",
    "                    \"QT_MAT_INF_CRE\": \"CRECHE\",\n",
    "                    \"QT_MAT_INF_PRE\": \"PRE_ESCOLA\",\n",
    "                    \"QT_MAT_FUND_AI\": \"ANOS_INICIAIS\",\n",
    "                    \"QT_MAT_FUND_AF\": \"ANOS_FINAIS\",\n",
    "                    \"QT_MAT_MEDIO\": \"MEDIO\"},             \n",
    "                \"substituir_valores\": {\n",
    "                    \"valor_original\": None,\n",
    "                    \"valor_substituto\": None,\n",
    "                    \"colunas\": [\"CRECHE\", \"PRE_ESCOLA\", \"ANOS_INICIAIS\", \"ANOS_FINAIS\"]},\n",
    "                \"pivotar_colunas_em_linhas\": {\n",
    "                    \"id_vars\": [\"NU_ANO_CENSO\", \"CO_ENTIDADE\"],\n",
    "                    \"nome_coluna_categoria\": \"SERIE\",\n",
    "                    \"nome_coluna_valor\": \"QT_MAT\"},\n",
    "                \"schema_final_nomes\": \n",
    "                    [\"NU_ANO_CENSO\", \"CO_ENTIDADE\", \"COD_SEGMENTO\", \"COD_SERIE\", \"QT_MAT\"],\n",
    "                \"schema_final_tipos\": {\n",
    "                    \"NU_ANO_CENSO\": \"int\",\n",
    "                    \"CO_ENTIDADE\": \"string\",\n",
    "                    \"COD_SEGMENTO\": \"int\",\n",
    "                    \"COD_SERIE\": \"int\",\n",
    "                    \"QT_MAT\": \"float\"},\n",
    "                \"relacionamento\": {\n",
    "                    \"d_Series\": [\"SERIE\"]}},\n",
    "            \"QT_TURMAS\": {\n",
    "                \"colunas\": [\"NU_ANO_CENSO\", \"CO_ENTIDADE\", \"NO_ENTIDADE\"],\n",
    "                \"colunas_prefixo\": \"QT_TUR\",\n",
    "                \"renomeacoes\": {\n",
    "                    \"QT_TUR_INF_CRE\": \"CRECHE\",\n",
    "                    \"QT_TUR_INF_PRE\": \"PRE_ESCOLA\",\n",
    "                    \"QT_TUR_FUND_AI\": \"ANOS_INICIAIS\",\n",
    "                    \"QT_TUR_FUND_AF\": \"ANOS_FINAIS\",},             \n",
    "                \"substituir_valores\": {\n",
    "                    \"valor_original\": None,\n",
    "                    \"valor_substituto\": None,\n",
    "                    \"colunas\": [\"CRECHE\", \"PRE_ESCOLA\", \"ANOS_INICIAIS\", \"ANOS_FINAIS\"]},\n",
    "                \"pivotar_colunas_em_linhas\": {\n",
    "                    \"id_vars\": [\"NU_ANO_CENSO\", \"CO_ENTIDADE\"],\n",
    "                    \"nome_coluna_categoria\": \"SERIE\",\n",
    "                    \"nome_coluna_valor\": \"QT_TUR\"},\n",
    "                \"schema_final_nomes\": \n",
    "                    [\"NU_ANO_CENSO\", \"CO_ENTIDADE\", \"COD_SEGMENTO\", \"COD_SERIE\", \"QT_TUR\"],\n",
    "                \"schema_final_tipos\": {\n",
    "                    \"NU_ANO_CENSO\": \"int\",\n",
    "                    \"CO_ENTIDADE\": \"string\",\n",
    "                    \"COD_SEGMENTO\": \"int\",\n",
    "                    \"COD_SERIE\": \"int\",\n",
    "                    \"QT_TUR\": \"float\"},\n",
    "                \"relacionamento\": {\n",
    "                    \"d_Series\": [\"SERIE\"]}},           \n",
    "            \"QT_DOCENTES\": {\n",
    "                \"colunas\": [\"NU_ANO_CENSO\", \"CO_ENTIDADE\", \"NO_ENTIDADE\"],\n",
    "                \"colunas_prefixo\": \"QT_DOC\",\n",
    "                \"renomeacoes\": {\n",
    "                    \"QT_DOC_INF_CRE\": \"CRECHE\",\n",
    "                    \"QT_DOC_INF_PRE\": \"PRE_ESCOLA\",\n",
    "                    \"QT_DOC_FUND_AI\": \"ANOS_INICIAIS\",\n",
    "                    \"QT_DOC_FUND_AF\": \"ANOS_FINAIS\"},             \n",
    "                \"substituir_valores\": {\n",
    "                    \"valor_original\": None,\n",
    "                    \"valor_substituto\": None,\n",
    "                    \"colunas\": [\"CRECHE\", \"PRE_ESCOLA\", \"ANOS_INICIAIS\", \"ANOS_FINAIS\"]},\n",
    "                \"pivotar_colunas_em_linhas\": {\n",
    "                    \"id_vars\": [\"NU_ANO_CENSO\", \"CO_ENTIDADE\"],\n",
    "                    \"nome_coluna_categoria\": \"SERIE\",\n",
    "                    \"nome_coluna_valor\": \"QT_DOC\"},\n",
    "                \"schema_final_nomes\": \n",
    "                    [\"NU_ANO_CENSO\", \"CO_ENTIDADE\", \"COD_SEGMENTO\", \"COD_SERIE\", \"QT_DOC\"],\n",
    "                \"schema_final_tipos\": {\n",
    "                    \"NU_ANO_CENSO\": \"int\",\n",
    "                    \"CO_ENTIDADE\": \"string\",\n",
    "                    \"COD_SEGMENTO\": \"int\",\n",
    "                    \"COD_SERIE\": \"int\",\n",
    "                    \"QT_DOC\": \"float\"},\n",
    "                \"relacionamento\": {\n",
    "                    \"d_Series\": [\"SERIE\"]}},\n",
    "            \"INFRA_PROFESSORES\": {\n",
    "                \"colunas\": [\"NU_ANO_CENSO\", \"CO_ENTIDADE\", \"NO_ENTIDADE\"],\n",
    "                \"colunas_prefixo\": \"QT_PROF\",\n",
    "                \"renomeacoes\": {},             \n",
    "                \"substituir_valores\": {},\n",
    "                \"pivotar_colunas_em_linhas\": {},\n",
    "                \"schema_final_nomes\": \n",
    "                    [\"NU_ANO_CENSO\", \"CO_ENTIDADE\", \"QT_PROF_ADMINISTRATIVOS\", \"QT_PROF_SERVICOS_GERAIS\", \"QT_PROF_BIBLIOTECARIO\",\n",
    "                     \"QT_PROF_SAUDE\", \"QT_PROF_COORDENADOR\", \"QT_PROF_FONAUDIOLOGO\", \"QT_PROF_NUTRICIONISTA\",\n",
    "                     \"QT_PROF_PSICOLOGO\", \"QT_PROF_ALIMENTACAO\", \"QT_PROF_PEDAGOGIA\", \"QT_PROF_SECRETARIO\",\n",
    "                     \"QT_PROF_SEGURANCA\", \"QT_PROF_MONITORES\", \"QT_PROF_GESTAO\", \"QT_PROF_ASSIST_SOCIAL\",\n",
    "                     \"QT_PROF_TRAD_LIBRAS\"],\n",
    "                \"pivotar_colunas_em_linhas\": {},\n",
    "                \"schema_final_tipos\": {\n",
    "                    \"NU_ANO_CENSO\": \"int\",\n",
    "                    \"CO_ENTIDADE\": \"string\"},\n",
    "                \"relacionamento\": {}},\n",
    "            \"INFRA_AGUA\": {\n",
    "                \"colunas\": [\"NU_ANO_CENSO\", \"CO_ENTIDADE\", \"NO_ENTIDADE\", 'IN_AGUA_POTAVEL', 'IN_AGUA_REDE_PUBLICA', 'IN_AGUA_POCO_ARTESIANO', 'IN_AGUA_CACIMBA', 'IN_AGUA_FONTE_RIO', 'IN_AGUA_INEXISTENTE'],\n",
    "                \"colunas_prefixo\": \"IN_AGUA\",\n",
    "                \"renomeacoes\": {},             \n",
    "                \"substituir_valores\": {},\n",
    "                \"pivotar_colunas_em_linhas\": {},\n",
    "                \"schema_final_nomes\": \n",
    "                    [\"NU_ANO_CENSO\", \"CO_ENTIDADE\",\n",
    "                     'IN_AGUA_POTAVEL', 'IN_AGUA_REDE_PUBLICA', 'IN_AGUA_POCO_ARTESIANO', 'IN_AGUA_CACIMBA', 'IN_AGUA_FONTE_RIO', 'IN_AGUA_INEXISTENTE'\n",
    "                     ], \n",
    "                \"schema_final_tipos\": {\n",
    "                    \"NU_ANO_CENSO\": \"int\",\n",
    "                    \"CO_ENTIDADE\": \"string\",\n",
    "                    \"IN_AGUA_POTAVEL\": \"boolean\",\n",
    "                    \"IN_AGUA_REDE_PUBLICA\": \"boolean\",\n",
    "                    \"IN_AGUA_POCO_ARTESIANO\": \"boolean\",\n",
    "                    \"IN_AGUA_CACIMBA\": \"boolean\",\n",
    "                    \"IN_AGUA_FONTE_RIO\": \"boolean\",\n",
    "                    \"IN_AGUA_INEXISTENTE\": \"boolean\"},\n",
    "                \"relacionamento\": {\n",
    "                    \"d_Escolas\": [\"CO_ENTIDADE\"]}},\n",
    "            \"INFRA_ESGOTO\": {\n",
    "                \"colunas\": [\"NU_ANO_CENSO\", \"CO_ENTIDADE\", \"NO_ENTIDADE\", 'IN_ESGOTO_REDE_PUBLICA', 'IN_ESGOTO_FOSSA_SEPTICA', 'IN_ESGOTO_FOSSA_COMUM', 'IN_ESGOTO_FOSSA', 'IN_ESGOTO_INEXISTENTE'],\n",
    "                \"colunas_prefixo\": \"IN_ESGOTO\",\n",
    "                \"renomeacoes\": {},             \n",
    "                \"substituir_valores\": {},\n",
    "                \"pivotar_colunas_em_linhas\": {},\n",
    "                \"schema_final_nomes\": \n",
    "                    [\"NU_ANO_CENSO\", \"CO_ENTIDADE\",\n",
    "                     'IN_ESGOTO_REDE_PUBLICA', 'IN_ESGOTO_FOSSA_SEPTICA', 'IN_ESGOTO_FOSSA_COMUM', 'IN_ESGOTO_FOSSA', 'IN_ESGOTO_INEXISTENTE'\n",
    "                     ],\n",
    "                \"schema_final_tipos\": {\n",
    "                    \"NU_ANO_CENSO\": \"int\",\n",
    "                    \"CO_ENTIDADE\": \"string\",\n",
    "                    \"IN_ESGOTO_REDE_PUBLICA\": \"boolean\",\n",
    "                    \"IN_ESGOTO_FOSSA_SEPTICA\": \"boolean\",\n",
    "                    \"IN_ESGOTO_FOSSA_COMUM\": \"boolean\",\n",
    "                    \"IN_ESGOTO_FOSSA\": \"boolean\",\n",
    "                    \"IN_ESGOTO_INEXISTENTE\": \"boolean\"},\n",
    "                \"relacionamento\": {}},\n",
    "            \"INFRA_RECICLAGEM\": {\n",
    "                \"colunas\": [\"NU_ANO_CENSO\", \"CO_ENTIDADE\", \"NO_ENTIDADE\", 'IN_TRATAMENTO_LIXO_SEPARACAO', 'IN_TRATAMENTO_LIXO_REUTILIZA', 'IN_TRATAMENTO_LIXO_RECICLAGEM', 'IN_TRATAMENTO_LIXO_INEXISTENTE'],\n",
    "                \"colunas_prefixo\": \"IN_TRATAMENTO_LIXO\",\n",
    "                \"renomeacoes\": {},             \n",
    "                \"substituir_valores\": {},\n",
    "                \"pivotar_colunas_em_linhas\": {},\n",
    "                \"schema_final_nomes\": \n",
    "                    [\"NU_ANO_CENSO\", \"CO_ENTIDADE\",\n",
    "                     'IN_TRATAMENTO_LIXO_SEPARACAO', 'IN_TRATAMENTO_LIXO_REUTILIZA', 'IN_TRATAMENTO_LIXO_RECICLAGEM', 'IN_TRATAMENTO_LIXO_INEXISTENTE'\n",
    "                     ],\n",
    "                \"schema_final_tipos\": {\n",
    "                    \"NU_ANO_CENSO\": \"int\",\n",
    "                    \"CO_ENTIDADE\": \"string\",\n",
    "                    \"IN_TRATAMENTO_LIXO_SEPARACAO\": \"boolean\",\n",
    "                    \"IN_TRATAMENTO_LIXO_REUTILIZA\": \"boolean\",\n",
    "                    \"IN_TRATAMENTO_LIXO_RECICLAGEM\": \"boolean\",\n",
    "                    \"IN_TRATAMENTO_LIXO_INEXISTENTE\": \"boolean\"},\n",
    "                \"relacionamento\": {\n",
    "                    \"d_Escolas\": [\"CO_ENTIDADE\"]}},\n",
    "            \"INFRA_LIXO\": {\n",
    "                \"colunas\": [\"NU_ANO_CENSO\", \"CO_ENTIDADE\", \"NO_ENTIDADE\",  'IN_LIXO_SERVICO_COLETA', 'IN_LIXO_QUEIMA', 'IN_LIXO_ENTERRA', 'IN_LIXO_DESTINO_FINAL_PUBLICO', 'IN_LIXO_DESCARTA_OUTRA_AREA'],\n",
    "                \"colunas_prefixo\": \"IN_LIXO\",\n",
    "                \"renomeacoes\": {},             \n",
    "                \"substituir_valores\": {},\n",
    "                \"pivotar_colunas_em_linhas\": {},\n",
    "                \"schema_final_nomes\": \n",
    "                    [\"NU_ANO_CENSO\", \"CO_ENTIDADE\",\n",
    "                     'IN_LIXO_SERVICO_COLETA', 'IN_LIXO_QUEIMA', 'IN_LIXO_ENTERRA', 'IN_LIXO_DESTINO_FINAL_PUBLICO', 'IN_LIXO_DESCARTA_OUTRA_AREA'\n",
    "                     ],\n",
    "                \"schema_final_tipos\": {\n",
    "                    \"NU_ANO_CENSO\": \"int\",\n",
    "                    \"CO_ENTIDADE\": \"string\",\n",
    "                    \"IN_LIXO_SERVICO_COLETA\": \"boolean\",\n",
    "                    \"IN_LIXO_QUEIMA\": \"boolean\",\n",
    "                    \"IN_LIXO_ENTERRA\": \"boolean\",\n",
    "                    \"IN_LIXO_DESTINO_FINAL_PUBLICO\": \"boolean\",\n",
    "                    \"IN_LIXO_DESCARTA_OUTRA_AREA\": \"boolean\"},\n",
    "                \"relacionamento\": {\n",
    "                    \"d_Escolas\": [\"CO_ENTIDADE\"]}},\n",
    "            \"INFRA_ACESSIBILIDADE\": {\n",
    "                \"colunas\": [\"NU_ANO_CENSO\", \"CO_ENTIDADE\", \"NO_ENTIDADE\", 'IN_ACESSIBILIDADE_CORRIMAO', 'IN_ACESSIBILIDADE_ELEVADOR', 'IN_ACESSIBILIDADE_PISOS_TATEIS', 'IN_ACESSIBILIDADE_VAO_LIVRE', 'IN_ACESSIBILIDADE_RAMPAS', 'IN_ACESSIBILIDADE_SINAL_SONORO', 'IN_ACESSIBILIDADE_SINAL_TATIL', 'IN_ACESSIBILIDADE_SINAL_VISUAL', 'IN_ACESSIBILIDADE_INEXISTENTE'],\n",
    "                \"colunas_prefixo\": \"IN_ACESSIBILIDADE\",\n",
    "                \"renomeacoes\": {},             \n",
    "                \"substituir_valores\": {},\n",
    "                \"pivotar_colunas_em_linhas\": {},\n",
    "                \"schema_final_nomes\": \n",
    "                    [\"NU_ANO_CENSO\", \"CO_ENTIDADE\",\n",
    "                     'IN_ACESSIBILIDADE_CORRIMAO', 'IN_ACESSIBILIDADE_ELEVADOR', 'IN_ACESSIBILIDADE_PISOS_TATEIS', 'IN_ACESSIBILIDADE_VAO_LIVRE', 'IN_ACESSIBILIDADE_RAMPAS', 'IN_ACESSIBILIDADE_SINAL_SONORO', 'IN_ACESSIBILIDADE_SINAL_TATIL', 'IN_ACESSIBILIDADE_SINAL_VISUAL', 'IN_ACESSIBILIDADE_INEXISTENTE'\n",
    "                     ],\n",
    "                \"schema_final_tipos\": {\n",
    "                    \"NU_ANO_CENSO\": \"int\",\n",
    "                    \"CO_ENTIDADE\": \"string\"},\n",
    "                \"relacionamento\": {\n",
    "                    \"d_Escolas\": [\"CO_ENTIDADE\"]}}\n",
    "        \n",
    "        }},\n",
    "}"
   ]
  },
  {
   "cell_type": "code",
   "execution_count": 0,
   "metadata": {
    "application/vnd.databricks.v1+cell": {
     "cellMetadata": {
      "byteLimit": 2048000,
      "rowLimit": 10000
     },
     "inputWidgets": {},
     "nuid": "ba6822d2-eb2f-41e6-a70c-0d5955abf55a",
     "showTitle": true,
     "tableResultSettingsMap": {},
     "title": "3.2 - Pipeline"
    }
   },
   "outputs": [
    {
     "output_type": "stream",
     "name": "stderr",
     "output_type": "stream",
     "text": [
      "INFO | 01:29:54.1 ___ TransformadorBase: \n\n    ╔══════════════════════════════════════════════════╗\n    ║ 1.  Importar Bibliotecas                         ║\n    ╚══════════════════════════════════════════════════╝\n            \nINFO | 01:29:54.1 ___ TransformadorBase: \n╔════════════════════════╦══════════════╗\n║       Biblioteca       ║    Versão    ║\n╠════════════════════════╬══════════════╣\n║ logging                ║      0.5.1.2 ║\n║ openpyxl               ║        3.1.5 ║\n║ os                     ║          N/A ║\n║ pandas                 ║        1.4.2 ║\n║ re                     ║        2.2.1 ║\n║ spark                  ║        3.3.2 ║\n║ time                   ║          N/A ║\n║ tqdm                   ║          N/A ║\n╠════════════════════════╩══════════════╣\n║       Versão do Python: 3.9.21        ║\n╚═══════════════════════════════════════╝\n\nINFO | 01:29:54.1 ___ TransformadorBase: \n  ⏱️ Tempo de execução da etapa '1.  Importar Bibliotecas': 0.0 segundos\n\nINFO | 01:29:54.1 ___ TransformadorBase: \n\n    ╔══════════════════════════════════════════════════╗\n    ║ 2.  Validação das configurações de fonte de dados ║\n    ╚══════════════════════════════════════════════════╝\n            \nINFO | 01:29:54.1 ___ TransformadorBase: 📚 Validação de Tabelas Dimensão\nINFO | 01:29:54.1 ___ TransformadorBase:   d_Series       -  colunas: ✅ | dados: ✅ | tipos: ✅\nINFO | 01:29:54.1 ___ TransformadorBase:   d_Calendario   -  colunas: ✅ | dados: ✅ | tipos: ✅\nINFO | 01:29:54.1 ___ TransformadorBase:   d_Municipios   -  colunas: ✅ | dados: ✅ | tipos: ✅\nINFO | 01:29:54.1 ___ TransformadorBase: 📚 Validação de Tabelas Externas\nINFO | 01:29:54.1 ___ TransformadorBase:   taxa_escolar    : anos: ✅ | pasta: ✅ | arquivo: ✅ | formato: ✅ | nome_tabela: ✅ | schemas: ✅\nINFO | 01:29:54.1 ___ TransformadorBase:   alunos_por_turma: anos: ✅ | pasta: ✅ | arquivo: ✅ | formato: ✅ | nome_tabela: ✅ | schemas: ✅\nINFO | 01:29:54.1 ___ TransformadorBase:   hora_aula_diaria: anos: ✅ | pasta: ✅ | arquivo: ✅ | formato: ✅ | nome_tabela: ✅ | schemas: ✅\nINFO | 01:29:54.1 ___ TransformadorBase:   censo_escolar   : anos: ✅ | pasta: ✅ | arquivo: ✅ | formato: ✅ | nome_tabela: ✅ | schemas: ✅\nINFO | 01:29:54.1 ___ TransformadorBase: \n  ⏱️ Tempo de execução da etapa '2.  Validação das configurações de fonte de dados': 0.0 segundos\n\nINFO | 01:29:54.1 ___ TransformadorBronze: \n\n    ╔══════════════════════════════════════════════════╗\n    ║ 3.  Pipeline da Camada Bronze                    ║\n    ╚══════════════════════════════════════════════════╝\n            \nINFO | 01:29:54.2 ___ TransformadorBronze: 📥 Tabela dimensão `bronze.d_Series` já existe. Etapa ignorada.\nINFO | 01:29:54.3 ___ TransformadorBronze: 📥 Tabela dimensão `bronze.d_Calendario` já existe. Etapa ignorada.\nINFO | 01:29:54.3 ___ TransformadorBronze: 📥 Tabela dimensão `bronze.d_Municipios` já existe. Etapa ignorada.\n\rDOWNLOAD | taxa_escolar        :   0%|          | 0/3 [00:00<?, ?ano/s]INFO | 01:29:54.6 ___ TransformadorBronze: ✔️ [bronze.taxa_escolar_2022] Sucesso ao carregar: tx_rend_escolas_2022.xlsx\n\rDOWNLOAD | taxa_escolar        :  33%|███▎      | 1/3 [00:00<00:00,  3.63ano/s]INFO | 01:29:54.8 ___ TransformadorBronze: ✔️ [bronze.taxa_escolar_2023] Sucesso ao carregar: tx_rend_escolas_2023.xlsx\n\rDOWNLOAD | taxa_escolar        :  67%|██████▋   | 2/3 [00:00<00:00,  4.38ano/s]WARNING | 01:29:55.0 ___ TransformadorBronze: ⚠️ Arquivo não encontrado no DBFS: dbfs:/FileStore/tables/TAXAS/tx_rend_escolas_2024.xlsx\nINFO | 01:29:55.0 ___ TransformadorBronze: ✔️ [bronze.taxa_escolar_2024] Sucesso ao carregar: tx_rend_escolas_2024.xlsx\n\rDOWNLOAD | taxa_escolar        : 100%|██████████| 3/3 [00:00<00:00,  4.43ano/s]\rDOWNLOAD | taxa_escolar        : 100%|██████████| 3/3 [00:00<00:00,  4.31ano/s]\n\rDOWNLOAD | alunos_por_turma    :   0%|          | 0/3 [00:00<?, ?ano/s]INFO | 01:29:55.3 ___ TransformadorBronze: ✔️ [bronze.alunos_por_turma_2022] Sucesso ao carregar: ATU_ESCOLAS_2022.xlsx\n\rDOWNLOAD | alunos_por_turma    :  33%|███▎      | 1/3 [00:00<00:00,  4.49ano/s]INFO | 01:29:55.5 ___ TransformadorBronze: ✔️ [bronze.alunos_por_turma_2023] Sucesso ao carregar: ATU_ESCOLAS_2023.xlsx\n\rDOWNLOAD | alunos_por_turma    :  67%|██████▋   | 2/3 [00:00<00:00,  4.47ano/s]INFO | 01:29:55.7 ___ TransformadorBronze: ✔️ [bronze.alunos_por_turma_2024] Sucesso ao carregar: ATU_ESCOLAS_2024.xlsx\n\rDOWNLOAD | alunos_por_turma    : 100%|██████████| 3/3 [00:00<00:00,  4.53ano/s]\rDOWNLOAD | alunos_por_turma    : 100%|██████████| 3/3 [00:00<00:00,  4.51ano/s]\n\rDOWNLOAD | hora_aula_diaria    :   0%|          | 0/3 [00:00<?, ?ano/s]INFO | 01:29:55.9 ___ TransformadorBronze: ✔️ [bronze.hora_aula_diaria_2022] Sucesso ao carregar: HAD_ESCOLAS_2022.xlsx\n\rDOWNLOAD | hora_aula_diaria    :  33%|███▎      | 1/3 [00:00<00:00,  5.45ano/s]INFO | 01:29:56.1 ___ TransformadorBronze: ✔️ [bronze.hora_aula_diaria_2023] Sucesso ao carregar: HAD_ESCOLAS_2023.xlsx\n\rDOWNLOAD | hora_aula_diaria    :  67%|██████▋   | 2/3 [00:00<00:00,  5.36ano/s]INFO | 01:29:56.3 ___ TransformadorBronze: ✔️ [bronze.hora_aula_diaria_2024] Sucesso ao carregar: HAD_ESCOLAS_2024.xlsx\n\rDOWNLOAD | hora_aula_diaria    : 100%|██████████| 3/3 [00:00<00:00,  5.15ano/s]\rDOWNLOAD | hora_aula_diaria    : 100%|██████████| 3/3 [00:00<00:00,  5.20ano/s]\n\rDOWNLOAD | censo_escolar       :   0%|          | 0/3 [00:00<?, ?ano/s]INFO | 01:29:57.2 ___ TransformadorBronze: ✔️ [bronze.censo_escolar_2022] Sucesso ao carregar: microdados_ed_basica_2022.csv\n\rDOWNLOAD | censo_escolar       :  33%|███▎      | 1/3 [00:00<00:01,  1.04ano/s]INFO | 01:29:58.2 ___ TransformadorBronze: ✔️ [bronze.censo_escolar_2023] Sucesso ao carregar: microdados_ed_basica_2023.csv\n\rDOWNLOAD | censo_escolar       :  67%|██████▋   | 2/3 [00:01<00:00,  1.04ano/s]INFO | 01:29:59.1 ___ TransformadorBronze: ✔️ [bronze.censo_escolar_2024] Sucesso ao carregar: microdados_ed_basica_2024.csv\n\rDOWNLOAD | censo_escolar       : 100%|██████████| 3/3 [00:02<00:00,  1.09ano/s]\rDOWNLOAD | censo_escolar       : 100%|██████████| 3/3 [00:02<00:00,  1.07ano/s]\nINFO | 01:29:59.1 ___ TransformadorBronze: \n📋 Resumo de carregamento - Tabelas de Dimensão\n\nINFO | 01:29:59.1 ___ TransformadorBronze: \n                  Status\n------------------------\nd_Series           🟩\nd_Calendario       🟩\nd_Municipios       🟩\n\nINFO | 01:29:59.1 ___ TransformadorBronze: 📋 Resumo de carregamento - Tabelas de Dados Externos\n\nINFO | 01:29:59.1 ___ TransformadorBronze: \n                      2022    2023    2024\n------------------------------------------\ntaxa_escolar             🟩       🟩       🟩\nalunos_por_turma         🟩       🟩       🟩\nhora_aula_diaria         🟩       🟩       🟩\ncenso_escolar            🟩       🟩       🟩\n\nINFO | 01:29:59.1 ___ TransformadorBronze: \n  ⏱️ Tempo de execução da etapa '3.  Pipeline da Camada Bronze': 4.9 segundos\n\nINFO | 01:29:59.1 ___ TransformadorPrata: \n\n    ╔══════════════════════════════════════════════════╗\n    ║ 4.  Pipeline da Camada Silver                    ║\n    ╚══════════════════════════════════════════════════╝\n            \nINFO | 01:30:01.0 ___ TransformadorPrata: 📭 Tabela dimensão `silver.d_Series` já existe. Etapa ignorada.\nINFO | 01:30:04.7 ___ TransformadorPrata: 📭 Tabela dimensão `silver.d_Calendario` já existe. Etapa ignorada.\nINFO | 01:30:06.6 ___ TransformadorPrata: 📭 Tabela dimensão `silver.d_Municipios` já existe. Etapa ignorada.\nINFO | 01:30:08.5 ___ TransformadorPrata: 📭 Tabela `taxa_escolar` (ano 2022) já processada em todos os schemas. Etapa ignorada.\nINFO | 01:30:10.7 ___ TransformadorPrata: 📭 Tabela `taxa_escolar` (ano 2023) já processada em todos os schemas. Etapa ignorada.\nINFO | 01:30:12.3 ___ TransformadorPrata: 📭 Tabela `taxa_escolar` (ano 2024) já processada em todos os schemas. Etapa ignorada.\nINFO | 01:30:14.3 ___ TransformadorPrata: 📭 Tabela `alunos_por_turma` (ano 2022) já processada em todos os schemas. Etapa ignorada.\nINFO | 01:30:16.1 ___ TransformadorPrata: 📭 Tabela `alunos_por_turma` (ano 2023) já processada em todos os schemas. Etapa ignorada.\nINFO | 01:30:19.5 ___ TransformadorPrata: 📭 Tabela `alunos_por_turma` (ano 2024) já processada em todos os schemas. Etapa ignorada.\nINFO | 01:30:21.1 ___ TransformadorPrata: 📭 Tabela `hora_aula_diaria` (ano 2022) já processada em todos os schemas. Etapa ignorada.\nINFO | 01:30:22.3 ___ TransformadorPrata: 📭 Tabela `hora_aula_diaria` (ano 2023) já processada em todos os schemas. Etapa ignorada.\nINFO | 01:30:23.6 ___ TransformadorPrata: 📭 Tabela `hora_aula_diaria` (ano 2024) já processada em todos os schemas. Etapa ignorada.\nINFO | 01:30:25.3 ___ TransformadorPrata: 📭 Tabela `censo_escolar` (ano 2022) já processada em todos os schemas. Etapa ignorada.\nINFO | 01:30:27.8 ___ TransformadorPrata: 📭 Tabela `censo_escolar` (ano 2023) já processada em todos os schemas. Etapa ignorada.\nINFO | 01:30:29.7 ___ TransformadorPrata: 📭 Tabela `censo_escolar` (ano 2024) já processada em todos os schemas. Etapa ignorada.\nINFO | 01:30:29.7 ___ TransformadorPrata: \n  ⏱️ Tempo de execução da etapa '4.  Pipeline da Camada Silver': 30.6 segundos\n\nINFO | 01:30:29.7 ___ TransformadorGold: \n\n    ╔══════════════════════════════════════════════════╗\n    ║ 5.  Pipeline da Camada Gold                      ║\n    ╚══════════════════════════════════════════════════╝\n            \nINFO | 01:30:30.4 ___ TransformadorGold: 📭 Tabela `gold.d_Series` já existe. Etapa ignorada.\nINFO | 01:30:30.4 ___ TransformadorGold: 📭 Tabela `gold.d_Calendario` já existe. Etapa ignorada.\nINFO | 01:30:30.4 ___ TransformadorGold: 📭 Tabela `gold.d_Municipios` já existe. Etapa ignorada.\nINFO | 01:30:31.0 ___ TransformadorGold: 🚀 Iniciando construção da base com d_Calendario e d_Series\nINFO | 01:30:31.7 ___ TransformadorGold: 🔗 Join realizado: + alunos_por_turma__ATU;\nINFO | 01:30:31.9 ___ TransformadorGold: 🔗 Join realizado: + hora_aula_diaria__HAD;\nINFO | 01:30:32.4 ___ TransformadorGold: 🔗 Join realizado: + taxa_escolar__TAP;\nINFO | 01:30:32.8 ___ TransformadorGold: 🔗 Join realizado: + taxa_escolar__TRE;\nINFO | 01:30:33.1 ___ TransformadorGold: 🔗 Join realizado: + taxa_escolar__TAB;\nINFO | 01:30:33.3 ___ TransformadorGold: 🔗 Join realizado: + censo_escolar__QT_MATRICULA;\nINFO | 01:30:33.5 ___ TransformadorGold: 🔗 Join realizado: + censo_escolar__QT_TURMAS;\nINFO | 01:30:33.8 ___ TransformadorGold: 🔗 Join realizado: + censo_escolar__QT_DOCENTES;\nINFO | 01:32:35.1 ___ TransformadorGold: ✅ Tabela salva com sucesso como `gold.indicadores_por_segmento`;\nINFO | 01:32:35.1 ___ TransformadorGold: \n  ⏱️ Tempo de execução da etapa '5.  Pipeline da Camada Gold': 125.4 segundos\n\n"
     ]
    }
   ],
   "source": [
    "def pipeline(spark, table_configs, ano):\n",
    "    \"\"\"\n",
    "        Função principal que orquestra a execução do pipeline ETL em três camadas:\n",
    "        Bronze → Silver → Gold, utilizando o Spark no Databricks.\n",
    "\n",
    "        Parâmetros:\n",
    "        ----------\n",
    "        spark : SparkSession\n",
    "            Sessão Spark ativa para execução dos jobs.\n",
    "        table_configs : dict\n",
    "            Dicionário de configuração com todas as tabelas do projeto.\n",
    "        ano : list[int]\n",
    "            Lista de anos de referência para filtrar os dados.\n",
    "    \"\"\"\n",
    "\n",
    "    # =========================================================================\n",
    "    # 🧱 ETAPA 0 - Utilitários DBFS (opcional)\n",
    "    # =========================================================================\n",
    "    # TransformadorDBFS.identificar_arquivos()             # Lista arquivos disponíveis no DBFS\n",
    "    # TransformadorDBFS.listar_parquets(deletar=False)     # Lista tabelas Parquet por camada\n",
    "    # TransformadorDBFS.listar_databases(deletar=True)    # Lista databases Spark disponíveis\n",
    "\n",
    "    # =========================================================================\n",
    "    # 🔧 ETAPA 1 - Configuração da Base\n",
    "    # =========================================================================\n",
    "    base = TransformadorBase(\n",
    "        config={\n",
    "            \"table_configs\": table_configs,         # Configurações de tabelas externas\n",
    "            \"table_dim_config\": table_dim_config    # Configurações de tabelas dimensão\n",
    "        },\n",
    "        salvar_em_arquivo=False,                    # Salvar logs em arquivo DBFS? (True/False)\n",
    "        log_detalhado=False                         # Nível de detalhe nos logs\n",
    "    )\n",
    "\n",
    "    # =========================================================================\n",
    "    # 🔍 ETAPA 2 - Validação Inicial\n",
    "    # =========================================================================\n",
    "    base.configurar_logger()        # Configura o logger com timestamp e emojis\n",
    "    base.importar_bibliotecas()     # Importa bibliotecas requeridas (pandas, spark, tqdm...)\n",
    "    base.validar_config()           # Valida a estrutura do table_configs\n",
    "\n",
    "    # =========================================================================\n",
    "    # 🏗️ ETAPA 3 - Criação dos Databases das Camadas\n",
    "    # =========================================================================\n",
    "    # for camada in [\"bronze\", \"silver\", \"gold\"]:\n",
    "    #     base.inicializar_database(camada)  # Cria os bancos no metastore se não existirem\n",
    "\n",
    "    # =========================================================================\n",
    "    # 🪵 ETAPA 4 - Execução dos Pipelines por Camada\n",
    "    # =========================================================================\n",
    "\n",
    "    # Bronze: carrega arquivos .xlsx/.csv e salva em Parquet\n",
    "    TransformadorBronze(\n",
    "        spark,\n",
    "        table_configs,\n",
    "        table_dim_config\n",
    "    ).executar_pipeline()\n",
    "\n",
    "    # # Silver: aplica transformações semânticas e joins\n",
    "    TransformadorPrata(\n",
    "        spark,\n",
    "        table_configs,\n",
    "        table_dim_config\n",
    "    ).executar_pipeline()\n",
    "\n",
    "    # # # Gold: cria tabelas analíticas e consolidadas para uso final\n",
    "    TransformadorGold(\n",
    "        spark,\n",
    "        table_configs,\n",
    "        table_dim_config\n",
    "    ).executar_pipeline()\n",
    "\n",
    "\n",
    "# Exemplo de execução:\n",
    "# -------------------------------------------------------------------------\n",
    "# Lista de anos a serem processados\n",
    "ano_censo = [2022, 2023, 2024]\n",
    "\n",
    "# Execução do pipeline completo\n",
    "pipeline(spark, table_configs, ano_censo)\n",
    "\n",
    "\n",
    "\n",
    "\n",
    "\n",
    "\n"
   ]
  },
  {
   "cell_type": "markdown",
   "metadata": {
    "application/vnd.databricks.v1+cell": {
     "cellMetadata": {
      "byteLimit": 2048000,
      "rowLimit": 10000
     },
     "inputWidgets": {},
     "nuid": "9d5523dc-c9d4-4b2b-8eea-4fa97416c9c6",
     "showTitle": false,
     "tableResultSettingsMap": {},
     "title": ""
    }
   },
   "source": [
    "##### 4 - Consultas ao Banco de Dados\n"
   ]
  },
  {
   "cell_type": "markdown",
   "metadata": {
    "application/vnd.databricks.v1+cell": {
     "cellMetadata": {
      "byteLimit": 2048000,
      "rowLimit": 10000
     },
     "inputWidgets": {},
     "nuid": "f9d58980-c7e1-495a-805d-715fb48b1cda",
     "showTitle": false,
     "tableResultSettingsMap": {},
     "title": ""
    }
   },
   "source": [
    "###### 4.1 - Camada Bronze - Visão Geral dos Dados Brutos\n",
    "\n",
    "📌 **Descrição**  \n",
    "A camada Bronze armazena os **dados brutos**, extraídos diretamente das fontes oficiais do INEP, em seu formato original (CSV, Excel, ODS), antes de qualquer transformação. É a base do pipeline de dados, garantindo **rastreabilidade e integridade histórica**.\n",
    "\n",
    "📂 **Características principais**\n",
    "- Dados em formato Parquet.\n",
    "- Tabelas nomeadas com o padrão: `bronze.nome_tabela_ano`.\n",
    "- Colunas preservadas conforme estrutura das fontes originais.\n",
    "- Usada como origem para a construção das camadas Silver e Gold.\n",
    "\n",
    "---\n",
    "\n",
    "##### 🔗 Fontes oficiais dos dados\n",
    "\n",
    "- **Taxas de rendimento escolar**  \n",
    "  [`https://www.gov.br/inep/pt-br/acesso-a-informacao/dados-abertos/indicadores-educacionais/taxas-de-rendimento-escolar`](https://www.gov.br/inep/pt-br/acesso-a-informacao/dados-abertos/indicadores-educacionais/taxas-de-rendimento-escolar)\n",
    "\n",
    "- **Microdados do Censo Escolar**  \n",
    "  [`https://www.gov.br/inep/pt-br/acesso-a-informacao/dados-abertos/microdados/censo-escolar`](https://www.gov.br/inep/pt-br/acesso-a-informacao/dados-abertos/microdados/censo-escolar)\n",
    "\n",
    "- **Média de alunos por turma**  \n",
    "  [`https://www.gov.br/inep/pt-br/acesso-a-informacao/dados-abertos/indicadores-educacionais/media-de-alunos-por-turma`](https://www.gov.br/inep/pt-br/acesso-a-informacao/dados-abertos/indicadores-educacionais/media-de-alunos-por-turma)\n",
    "\n",
    "- **Média de horas-aula diária**  \n",
    "  [`https://www.gov.br/inep/pt-br/acesso-a-informacao/dados-abertos/indicadores-educacionais/media-de-horas-aula-diaria`](https://www.gov.br/inep/pt-br/acesso-a-informacao/dados-abertos/indicadores-educacionais/media-de-horas-aula-diaria)\n",
    "\n",
    "---\n",
    "\n",
    "##### 📁 Exemplos de tabelas na Bronze\n",
    "\n",
    "- `bronze.taxa_escolar_tab_2023`\n",
    "- `bronze.taxa_escolar_tap_2023`\n",
    "- `bronze.taxa_escolar_tre_2023`\n",
    "- `bronze.alunos_por_turma_2023`\n",
    "- `bronze.hora_aula_diaria_2023`\n",
    "- `bronze.censo_escolar_qt_matricula_2023`\n",
    "- `bronze.censo_escolar_infra_lixo_2023`\n",
    "- `bronze.d_municipios`\n",
    "\n",
    "---\n",
    "\n",
    "🎯 **Objetivo da camada Bronze**  \n",
    "Ser um repositório confiável e auditável dos dados originais, permitindo reproduzir ou reprocessar qualquer etapa posterior com total rastreabilidade.\n",
    "\n"
   ]
  },
  {
   "cell_type": "code",
   "execution_count": 0,
   "metadata": {
    "application/vnd.databricks.v1+cell": {
     "cellMetadata": {
      "byteLimit": 2048000,
      "implicitDf": true,
      "rowLimit": 10000
     },
     "inputWidgets": {},
     "nuid": "5709a2b6-c70a-481c-bdcc-f330620d7d50",
     "showTitle": true,
     "tableResultSettingsMap": {},
     "title": "Consulta"
    }
   },
   "outputs": [
    {
     "output_type": "stream",
     "name": "stderr",
     "output_type": "stream",
     "text": [
      "INFO | 01:34:07.0 ___ py4j.clientserver: Received command c on object id p0\n"
     ]
    },
    {
     "output_type": "display_data",
     "data": {
      "text/html": [
       "<style scoped>\n",
       "  .table-result-container {\n",
       "    max-height: 300px;\n",
       "    overflow: auto;\n",
       "  }\n",
       "  table, th, td {\n",
       "    border: 1px solid black;\n",
       "    border-collapse: collapse;\n",
       "  }\n",
       "  th, td {\n",
       "    padding: 5px;\n",
       "  }\n",
       "  th {\n",
       "    text-align: left;\n",
       "  }\n",
       "</style><div class='table-result-container'><table class='table-result'><thead style='background-color: white'><tr><th>database</th><th>tableName</th><th>isTemporary</th></tr></thead><tbody><tr><td>bronze</td><td>alunos_por_turma_2022</td><td>false</td></tr><tr><td>bronze</td><td>alunos_por_turma_2023</td><td>false</td></tr><tr><td>bronze</td><td>alunos_por_turma_2024</td><td>false</td></tr><tr><td>bronze</td><td>censo_escolar_2022</td><td>false</td></tr><tr><td>bronze</td><td>censo_escolar_2023</td><td>false</td></tr><tr><td>bronze</td><td>censo_escolar_2024</td><td>false</td></tr><tr><td>bronze</td><td>d_calendario</td><td>false</td></tr><tr><td>bronze</td><td>d_municipios</td><td>false</td></tr><tr><td>bronze</td><td>d_series</td><td>false</td></tr><tr><td>bronze</td><td>hora_aula_diaria_2022</td><td>false</td></tr><tr><td>bronze</td><td>hora_aula_diaria_2023</td><td>false</td></tr><tr><td>bronze</td><td>hora_aula_diaria_2024</td><td>false</td></tr><tr><td>bronze</td><td>taxa_escolar_2022</td><td>false</td></tr><tr><td>bronze</td><td>taxa_escolar_2023</td><td>false</td></tr><tr><td>bronze</td><td>temp_d_municipios_2024</td><td>false</td></tr></tbody></table></div>"
      ]
     },
     "metadata": {
      "application/vnd.databricks.v1+output": {
       "addedWidgets": {},
       "aggData": [],
       "aggError": "",
       "aggOverflow": false,
       "aggSchema": [],
       "aggSeriesLimitReached": false,
       "aggType": "",
       "arguments": {},
       "columnCustomDisplayInfos": {},
       "data": [
        [
         "bronze",
         "alunos_por_turma_2022",
         false
        ],
        [
         "bronze",
         "alunos_por_turma_2023",
         false
        ],
        [
         "bronze",
         "alunos_por_turma_2024",
         false
        ],
        [
         "bronze",
         "censo_escolar_2022",
         false
        ],
        [
         "bronze",
         "censo_escolar_2023",
         false
        ],
        [
         "bronze",
         "censo_escolar_2024",
         false
        ],
        [
         "bronze",
         "d_calendario",
         false
        ],
        [
         "bronze",
         "d_municipios",
         false
        ],
        [
         "bronze",
         "d_series",
         false
        ],
        [
         "bronze",
         "hora_aula_diaria_2022",
         false
        ],
        [
         "bronze",
         "hora_aula_diaria_2023",
         false
        ],
        [
         "bronze",
         "hora_aula_diaria_2024",
         false
        ],
        [
         "bronze",
         "taxa_escolar_2022",
         false
        ],
        [
         "bronze",
         "taxa_escolar_2023",
         false
        ],
        [
         "bronze",
         "temp_d_municipios_2024",
         false
        ]
       ],
       "datasetInfos": [],
       "dbfsResultPath": null,
       "isJsonSchema": true,
       "metadata": {},
       "overflow": false,
       "plotOptions": {
        "customPlotOptions": {},
        "displayType": "table",
        "pivotAggregation": null,
        "pivotColumns": null,
        "xColumns": null,
        "yColumns": null
       },
       "removedWidgets": [],
       "schema": [
        {
         "metadata": "{}",
         "name": "database",
         "type": "\"string\""
        },
        {
         "metadata": "{}",
         "name": "tableName",
         "type": "\"string\""
        },
        {
         "metadata": "{}",
         "name": "isTemporary",
         "type": "\"boolean\""
        }
       ],
       "type": "table"
      }
     },
     "output_type": "display_data"
    }
   ],
   "source": [
    "%sql\n",
    "/* \n",
    "-- =============================================================\n",
    "-- 🔎 Verificação das Tabelas nas Camadas Bronze, Silver e Gold\n",
    "-- =============================================================\n",
    "-- Etapas:\n",
    "--   1. Use o comando `SHOW TABLES IN <schema>` para listar as tabelas.\n",
    "--\n",
    "-- Observações:\n",
    "--   ⚠️ Execute apenas um comando por vez.\n",
    "--   ⚠️ Substitua o schema conforme necessário: bronze | silver | gold.\n",
    "-- ==========================================================\n",
    "*/\n",
    "\n",
    "SHOW TABLES IN bronze;\n"
   ]
  },
  {
   "cell_type": "markdown",
   "metadata": {
    "application/vnd.databricks.v1+cell": {
     "cellMetadata": {
      "byteLimit": 2048000,
      "rowLimit": 10000
     },
     "inputWidgets": {},
     "nuid": "f916cfb4-255b-4f9f-bb96-a78320d71759",
     "showTitle": false,
     "tableResultSettingsMap": {},
     "title": ""
    }
   },
   "source": [
    "###### 4.2 - Camada Silver - Visão Geral das Tabelas\n",
    "\n",
    "📌 **Descrição**  \n",
    "A camada Silver representa a modelagem intermediária do pipeline de dados, responsável por padronizar, limpar e estruturar os dados brutos (camada Bronze) em tabelas temáticas, organizadas por tipo de informação (indicadores, infraestrutura, docentes, turmas, etc.). As tabelas já estão preparadas para agregações e joins na camada Gold.\n",
    "\n",
    "---\n",
    "##### 📅 `d_calendario`  \n",
    "**Descrição**: Dimensão de tempo com datas e ciclos escolares.  \n",
    "**Colunas principais**: `DATA`, `ANO`, `MES`, `DIA_DA_SEMANA`, `FORMATO_YYYYMMDD`.\n",
    "\n",
    "---\n",
    "\n",
    "##### 🌍 `d_municipios`  \n",
    "**Descrição**: Dimensão geográfica com dados oficiais do IBGE.  \n",
    "**Colunas principais**: `CO_MUNICIPIO`, `SG_UF`, `NO_MUNICIPIO`, `REGIAO_IMEDIATA`.\n",
    "\n",
    "---\n",
    "\n",
    "##### 🎓 `d_series`  \n",
    "**Descrição**: Dimensão com hierarquia educacional por segmento e série.  \n",
    "**Colunas principais**: `COD_SEGMENTO`, `SEGMENTO`, `COD_SERIE`, `NOME_SERIE`.\n",
    "\n",
    "---\n",
    "\n",
    "##### ⏰ `hora_aula_diaria__had`  \n",
    "**Descrição**: Indicador da carga horária diária por turma.  \n",
    "**Colunas principais**: `NU_ANO_CENSO`, `CO_ENTIDADE`, `COD_SEGMENTO`, `COD_SERIE`, `HAD`.\n",
    "\n",
    "---\n",
    "\n",
    "##### 👨‍🏫 `alunos_por_turma__atu`  \n",
    "**Descrição**: Indicador de média de alunos por turma por escola, ano e segmento.  \n",
    "**Exemplo de uso**: Analisar distribuição de alunos e identificar superlotação.  \n",
    "**Colunas principais**: `NU_ANO_CENSO`, `CO_ENTIDADE`, `COD_SEGMENTO`, `COD_SERIE`, `ATU`.\n",
    "\n",
    "---\n",
    "\n",
    "##### 🏫 `censo_escolar__escolas`  \n",
    "**Descrição**: Cadastro geral das escolas com localização e características administrativas.  \n",
    "**Colunas principais**: `CO_ENTIDADE`, `SG_UF`, `NO_UF`, `TP_DEPENDENCIA`, `TP_LOCALIZACAO`, `TP_SITUACAO_FUNCIONAMENTO`.\n",
    "\n",
    "---\n",
    "\n",
    "##### 📈 `censo_escolar__qt_docentes`  \n",
    "**Descrição**: Quantidade total de docentes por escola.  \n",
    "**Colunas principais**: `NU_ANO_CENSO`, `CO_ENTIDADE`, `QT_DOCENTES`.\n",
    "\n",
    "---\n",
    "\n",
    "##### 🧒 `censo_escolar__qt_matricula`  \n",
    "**Descrição**: Total de matrículas por escola, ano e segmento.  \n",
    "**Colunas principais**: `NU_ANO_CENSO`, `CO_ENTIDADE`, `COD_SEGMENTO`, `COD_SERIE`, `QT_MAT`.\n",
    "\n",
    "---\n",
    "\n",
    "##### 🏫 `censo_escolar__qt_turmas`  \n",
    "**Descrição**: Total de turmas por escola, ano e etapa de ensino.  \n",
    "**Colunas principais**: `NU_ANO_CENSO`, `CO_ENTIDADE`, `COD_SEGMENTO`, `COD_SERIE`, `QT_TUR`.\n",
    "\n",
    "---\n",
    "\n",
    "##### 📘 `taxa_escolar__tab`  \n",
    "**Descrição**: Taxa de abandono por escola, série e ano.  \n",
    "**Colunas principais**: `TAB`.\n",
    "\n",
    "---\n",
    "\n",
    "##### ✅ `taxa_escolar__tap`  \n",
    "**Descrição**: Taxa de aprovação por escola, série e ano.  \n",
    "**Colunas principais**: `TAP`.\n",
    "\n",
    "---\n",
    "\n",
    "##### ❌ `taxa_escolar__tre`  \n",
    "**Descrição**: Taxa de reprovação por escola, série e ano.  \n",
    "**Colunas principais**: `TRE`.\n",
    "\n",
    "---\n",
    "\n",
    "🎯 **Objetivo da camada Silver**  \n",
    "Consolidar e normalizar os dados do Censo Escolar e indicadores educacionais em tabelas temáticas, garantindo granularidade adequada para transformações analíticas posteriores na camada Gold.\n"
   ]
  },
  {
   "cell_type": "code",
   "execution_count": 0,
   "metadata": {
    "application/vnd.databricks.v1+cell": {
     "cellMetadata": {
      "byteLimit": 2048000,
      "implicitDf": true,
      "rowLimit": 10000
     },
     "inputWidgets": {},
     "nuid": "29f86888-e1c0-401e-9d5d-2f6a0a7ab63a",
     "showTitle": true,
     "tableResultSettingsMap": {},
     "title": "Consulta"
    }
   },
   "outputs": [
    {
     "output_type": "stream",
     "name": "stderr",
     "output_type": "stream",
     "text": [
      "INFO | 01:34:16.4 ___ py4j.clientserver: Received command c on object id p0\n"
     ]
    },
    {
     "output_type": "display_data",
     "data": {
      "text/html": [
       "<style scoped>\n",
       "  .table-result-container {\n",
       "    max-height: 300px;\n",
       "    overflow: auto;\n",
       "  }\n",
       "  table, th, td {\n",
       "    border: 1px solid black;\n",
       "    border-collapse: collapse;\n",
       "  }\n",
       "  th, td {\n",
       "    padding: 5px;\n",
       "  }\n",
       "  th {\n",
       "    text-align: left;\n",
       "  }\n",
       "</style><div class='table-result-container'><table class='table-result'><thead style='background-color: white'><tr><th>database</th><th>tableName</th><th>isTemporary</th></tr></thead><tbody><tr><td>silver</td><td>alunos_por_turma__atu</td><td>false</td></tr><tr><td>silver</td><td>censo_escolar__escolas</td><td>false</td></tr><tr><td>silver</td><td>censo_escolar__infra_acessibilidade</td><td>false</td></tr><tr><td>silver</td><td>censo_escolar__infra_agua</td><td>false</td></tr><tr><td>silver</td><td>censo_escolar__infra_esgoto</td><td>false</td></tr><tr><td>silver</td><td>censo_escolar__infra_lixo</td><td>false</td></tr><tr><td>silver</td><td>censo_escolar__infra_professores</td><td>false</td></tr><tr><td>silver</td><td>censo_escolar__infra_reciclagem</td><td>false</td></tr><tr><td>silver</td><td>censo_escolar__qt_docentes</td><td>false</td></tr><tr><td>silver</td><td>censo_escolar__qt_matricula</td><td>false</td></tr><tr><td>silver</td><td>censo_escolar__qt_turmas</td><td>false</td></tr><tr><td>silver</td><td>d_calendario</td><td>false</td></tr><tr><td>silver</td><td>d_municipios</td><td>false</td></tr><tr><td>silver</td><td>d_series</td><td>false</td></tr><tr><td>silver</td><td>hora_aula_diaria__had</td><td>false</td></tr><tr><td>silver</td><td>taxa_escolar__tab</td><td>false</td></tr><tr><td>silver</td><td>taxa_escolar__tap</td><td>false</td></tr><tr><td>silver</td><td>taxa_escolar__tre</td><td>false</td></tr></tbody></table></div>"
      ]
     },
     "metadata": {
      "application/vnd.databricks.v1+output": {
       "addedWidgets": {},
       "aggData": [],
       "aggError": "",
       "aggOverflow": false,
       "aggSchema": [],
       "aggSeriesLimitReached": false,
       "aggType": "",
       "arguments": {},
       "columnCustomDisplayInfos": {},
       "data": [
        [
         "silver",
         "alunos_por_turma__atu",
         false
        ],
        [
         "silver",
         "censo_escolar__escolas",
         false
        ],
        [
         "silver",
         "censo_escolar__infra_acessibilidade",
         false
        ],
        [
         "silver",
         "censo_escolar__infra_agua",
         false
        ],
        [
         "silver",
         "censo_escolar__infra_esgoto",
         false
        ],
        [
         "silver",
         "censo_escolar__infra_lixo",
         false
        ],
        [
         "silver",
         "censo_escolar__infra_professores",
         false
        ],
        [
         "silver",
         "censo_escolar__infra_reciclagem",
         false
        ],
        [
         "silver",
         "censo_escolar__qt_docentes",
         false
        ],
        [
         "silver",
         "censo_escolar__qt_matricula",
         false
        ],
        [
         "silver",
         "censo_escolar__qt_turmas",
         false
        ],
        [
         "silver",
         "d_calendario",
         false
        ],
        [
         "silver",
         "d_municipios",
         false
        ],
        [
         "silver",
         "d_series",
         false
        ],
        [
         "silver",
         "hora_aula_diaria__had",
         false
        ],
        [
         "silver",
         "taxa_escolar__tab",
         false
        ],
        [
         "silver",
         "taxa_escolar__tap",
         false
        ],
        [
         "silver",
         "taxa_escolar__tre",
         false
        ]
       ],
       "datasetInfos": [],
       "dbfsResultPath": null,
       "isJsonSchema": true,
       "metadata": {},
       "overflow": false,
       "plotOptions": {
        "customPlotOptions": {},
        "displayType": "table",
        "pivotAggregation": null,
        "pivotColumns": null,
        "xColumns": null,
        "yColumns": null
       },
       "removedWidgets": [],
       "schema": [
        {
         "metadata": "{}",
         "name": "database",
         "type": "\"string\""
        },
        {
         "metadata": "{}",
         "name": "tableName",
         "type": "\"string\""
        },
        {
         "metadata": "{}",
         "name": "isTemporary",
         "type": "\"boolean\""
        }
       ],
       "type": "table"
      }
     },
     "output_type": "display_data"
    }
   ],
   "source": [
    "%sql\n",
    "/* \n",
    "-- =============================================================\n",
    "-- 🔎 Verificação das Tabelas nas Camadas Bronze, Silver e Gold\n",
    "-- =============================================================\n",
    "-- Etapas:\n",
    "--   1. Use o comando `SHOW TABLES IN <schema>` para listar as tabelas.\n",
    "--\n",
    "-- Observações:\n",
    "--   ⚠️ Execute apenas um comando por vez.\n",
    "--   ⚠️ Substitua o schema conforme necessário: bronze | silver | gold.\n",
    "-- ==========================================================\n",
    "*/\n",
    "\n",
    "SHOW TABLES IN silver;\n"
   ]
  },
  {
   "cell_type": "markdown",
   "metadata": {
    "application/vnd.databricks.v1+cell": {
     "cellMetadata": {
      "byteLimit": 2048000,
      "rowLimit": 10000
     },
     "inputWidgets": {},
     "nuid": "d81f509c-de4b-4d56-92ac-a13dabaa0e22",
     "showTitle": false,
     "tableResultSettingsMap": {},
     "title": ""
    }
   },
   "source": [
    "###### 4.3 - Camada Gold - Visão Geral das Tabelas e Views\n",
    "\n",
    "**Descrição**  \n",
    "A camada Gold representa a etapa final de modelagem analítica do projeto, onde os dados já foram tratados, integrados e organizados para suportar consultas de alto nível, análises educacionais e visualizações no Power BI. Cada tabela ou view foi desenhada para responder diretamente a perguntas estratégicas relacionadas às metas do Plano Nacional de Educação (PNE).\n",
    "\n",
    "**Tabelas e Views disponíveis**\n",
    "\n",
    "##### 📊 `indicadores_por_segmento`  \n",
    "**Descrição**: Fato principal com indicadores educacionais por escola, série e ano.  \n",
    "**Usos**: Base para todas as análises quantitativas de desempenho e estrutura.  \n",
    "**Exemplos de colunas**: `NU_ANO_CENSO`, `CO_ENTIDADE`, `COD_SEGMENTO`, `TAP`, `TRE`, `TAB`, `ATU`, `HAD`, `QT_MAT`, `QT_TUR`, `QT_DOC`.\n",
    "\n",
    "---\n",
    "\n",
    "##### 🧮 `vw_indicadores`  \n",
    "**Descrição**: View integradora com todas as colunas de indicadores, séries, escolas e dados do Censo.  \n",
    "**Usos**: Base principal para construção de dashboards e análises exploratórias.  \n",
    "**Observação**: Contém já os nomes padronizados e os dados integrados com segmentação.\n",
    "\n",
    "---\n"
   ]
  },
  {
   "cell_type": "code",
   "execution_count": 0,
   "metadata": {
    "application/vnd.databricks.v1+cell": {
     "cellMetadata": {
      "byteLimit": 2048000,
      "implicitDf": true,
      "rowLimit": 10000
     },
     "inputWidgets": {},
     "nuid": "bc17f825-da31-45b0-b397-2ffe607e75d4",
     "showTitle": true,
     "tableResultSettingsMap": {},
     "title": "Consulta"
    }
   },
   "outputs": [
    {
     "output_type": "stream",
     "name": "stderr",
     "output_type": "stream",
     "text": [
      "INFO | 01:34:24.9 ___ py4j.clientserver: Received command c on object id p0\n"
     ]
    },
    {
     "output_type": "display_data",
     "data": {
      "text/html": [
       "<style scoped>\n",
       "  .table-result-container {\n",
       "    max-height: 300px;\n",
       "    overflow: auto;\n",
       "  }\n",
       "  table, th, td {\n",
       "    border: 1px solid black;\n",
       "    border-collapse: collapse;\n",
       "  }\n",
       "  th, td {\n",
       "    padding: 5px;\n",
       "  }\n",
       "  th {\n",
       "    text-align: left;\n",
       "  }\n",
       "</style><div class='table-result-container'><table class='table-result'><thead style='background-color: white'><tr><th>database</th><th>tableName</th><th>isTemporary</th></tr></thead><tbody><tr><td>gold</td><td>d_calendario</td><td>false</td></tr><tr><td>gold</td><td>d_municipios</td><td>false</td></tr><tr><td>gold</td><td>d_series</td><td>false</td></tr><tr><td>gold</td><td>indicadores_por_segmento</td><td>false</td></tr></tbody></table></div>"
      ]
     },
     "metadata": {
      "application/vnd.databricks.v1+output": {
       "addedWidgets": {},
       "aggData": [],
       "aggError": "",
       "aggOverflow": false,
       "aggSchema": [],
       "aggSeriesLimitReached": false,
       "aggType": "",
       "arguments": {},
       "columnCustomDisplayInfos": {},
       "data": [
        [
         "gold",
         "d_calendario",
         false
        ],
        [
         "gold",
         "d_municipios",
         false
        ],
        [
         "gold",
         "d_series",
         false
        ],
        [
         "gold",
         "indicadores_por_segmento",
         false
        ]
       ],
       "datasetInfos": [],
       "dbfsResultPath": null,
       "isJsonSchema": true,
       "metadata": {},
       "overflow": false,
       "plotOptions": {
        "customPlotOptions": {},
        "displayType": "table",
        "pivotAggregation": null,
        "pivotColumns": null,
        "xColumns": null,
        "yColumns": null
       },
       "removedWidgets": [],
       "schema": [
        {
         "metadata": "{}",
         "name": "database",
         "type": "\"string\""
        },
        {
         "metadata": "{}",
         "name": "tableName",
         "type": "\"string\""
        },
        {
         "metadata": "{}",
         "name": "isTemporary",
         "type": "\"boolean\""
        }
       ],
       "type": "table"
      }
     },
     "output_type": "display_data"
    }
   ],
   "source": [
    "%sql\n",
    "/* \n",
    "-- =============================================================\n",
    "-- 🔎 Verificação das Tabelas nas Camadas Bronze, Silver e Gold\n",
    "-- =============================================================\n",
    "-- Etapas:\n",
    "--   1. Use o comando `SHOW TABLES IN <schema>` para listar as tabelas.\n",
    "--\n",
    "-- Observações:\n",
    "--   ⚠️ Execute apenas um comando por vez.\n",
    "--   ⚠️ Substitua o schema conforme necessário: bronze | silver | gold.\n",
    "-- ==========================================================\n",
    "*/\n",
    "\n",
    "SHOW TABLES IN gold;\n"
   ]
  },
  {
   "cell_type": "markdown",
   "metadata": {
    "application/vnd.databricks.v1+cell": {
     "cellMetadata": {
      "byteLimit": 2048000,
      "rowLimit": 10000
     },
     "inputWidgets": {},
     "nuid": "fbdf3004-a2c2-4343-8d7c-aa8108125dcc",
     "showTitle": false,
     "tableResultSettingsMap": {},
     "title": ""
    }
   },
   "source": [
    "##### 5 - Estudo de Caso"
   ]
  },
  {
   "cell_type": "markdown",
   "metadata": {
    "application/vnd.databricks.v1+cell": {
     "cellMetadata": {
      "byteLimit": 2048000,
      "rowLimit": 10000
     },
     "inputWidgets": {},
     "nuid": "44e6d1fc-c057-4561-9a6e-c125b14c0141",
     "showTitle": false,
     "tableResultSettingsMap": {},
     "title": ""
    }
   },
   "source": [
    "###### 5.1 - View Indicadores\n",
    "\n",
    "📌 **Descrição**  \n",
    "Esta view consolida os principais indicadores educacionais por escola, segmento, série e ano, com informações integradas de múltiplas fontes da camada Silver. É a base principal de análise da qualidade, cobertura e estrutura das escolas em atividade no Brasil.\n",
    "\n",
    "🔗 **Fontes utilizadas**  \n",
    "- `gold.indicadores_por_segmento`: indicadores por escola, série e ano  \n",
    "- `silver.d_Series`: segmentação educacional (códigos e nomes)  \n",
    "- `silver.censo_escolar__escolas`: dados complementares da escola por ano do censo\n",
    "\n",
    "🧩 **Chaves de junção**  \n",
    "- `CO_ENTIDADE` + `NU_ANO_CENSO`\n",
    "\n",
    "📎 **Colunas principais**\n",
    "| Coluna                     | Descrição                                                   |\n",
    "|----------------------------|-------------------------------------------------------------|\n",
    "| `ANO`                      | Ano de referência do Censo Educacional                      |\n",
    "| `COD_SEGMENTO`             | Código do segmento (ex: EI, EFI, EFII, EM)                  |\n",
    "| `NOME_SEGMENTO`            | Nome do segmento de ensino                                  |\n",
    "| `NOME_SERIE`               | Série ou etapa do segmento                                  |\n",
    "| `ALUNOS_POR_TURMA`         | Quantidade média de alunos por turma                        |\n",
    "| `HORA_AULA_DIARIA`         | Quantidade média de horas-aula diárias                      |\n",
    "| `TAXA_APROVACAO`           | Taxa de aprovação no segmento/escola                        |\n",
    "| `TAXA_REPROVACAO`          | Taxa de reprovação no segmento/escola                       |\n",
    "| `TAXA_ABANDONO`            | Taxa de abandono escolar                                    |\n",
    "| `QTD_MATRICULAS`           | Número total de matrículas registradas                      |\n",
    "| `QTD_TURMAS`               | Número total de turmas registradas                          |\n",
    "| `QTD_DOCENTES`             | Número total de docentes atuantes                           |\n",
    "| `UF`, `NOME_UF`            | Unidade da Federação e nome completo do estado              |\n",
    "| `BAIRRO`                   | Bairro onde a escola está localizada                        |\n",
    "| `TIPO_DEPENDENCIA`         | Dependência administrativa (Federal, Estadual etc.)         |\n",
    "| `TIPO_LOCALIZACAO`         | Localização da escola (Urbana, Rural ou Não informado)      |\n",
    "| `SITUACAO_FUNCIONAMENTO`   | Situação da escola no ano do censo (Ativa, Paralisada etc.) |\n",
    "\n",
    "\n",
    "🎯 **Utilização recomendada**  \n",
    "A view é ideal para análises comparativas de indicadores educacionais por tempo, território, dependência administrativa e estrutura escolar. É usada como base para construção das views analíticas da camada Gold, especialmente nas metas do PNE.\n"
   ]
  },
  {
   "cell_type": "code",
   "execution_count": 0,
   "metadata": {
    "application/vnd.databricks.v1+cell": {
     "cellMetadata": {
      "byteLimit": 2048000,
      "implicitDf": true,
      "rowLimit": 10000
     },
     "inputWidgets": {},
     "nuid": "7e0439f6-c15c-4836-86bc-518d66a03003",
     "showTitle": true,
     "tableResultSettingsMap": {},
     "title": "Consulta"
    }
   },
   "outputs": [
    {
     "output_type": "stream",
     "name": "stderr",
     "output_type": "stream",
     "text": [
      "INFO | 01:36:12.4 ___ py4j.clientserver: Received command c on object id p0\n"
     ]
    },
    {
     "output_type": "display_data",
     "data": {
      "text/html": [
       "<style scoped>\n",
       "  .table-result-container {\n",
       "    max-height: 300px;\n",
       "    overflow: auto;\n",
       "  }\n",
       "  table, th, td {\n",
       "    border: 1px solid black;\n",
       "    border-collapse: collapse;\n",
       "  }\n",
       "  th, td {\n",
       "    padding: 5px;\n",
       "  }\n",
       "  th {\n",
       "    text-align: left;\n",
       "  }\n",
       "</style><div class='table-result-container'><table class='table-result'><thead style='background-color: white'><tr><th>ANO</th><th>COD_SEGMENTO</th><th>NOME_SEGMENTO</th><th>NOME_SERIE</th><th>ALUNOS_POR_TURMA</th><th>HORA_AULA_DIARIA</th><th>TAXA_ABANDONO</th><th>TAXA_APROVACAO</th><th>TAXA_REPROVACAO</th><th>QTD_MATRICULAS</th><th>QTD_TURMAS</th><th>QTD_DOCENTES</th><th>UF</th><th>NOME_UF</th><th>BAIRRO</th><th>TIPO_DEPENDENCIA</th><th>TIPO_LOCALIZACAO</th><th>SITUACAO_FUNCIONAMENTO</th></tr></thead><tbody><tr><td>2022</td><td>1</td><td>EI</td><td>CRECHE</td><td>12.0</td><td>4.0</td><td>null</td><td>null</td><td>null</td><td>12.0</td><td>1.0</td><td>1.0</td><td>RJ</td><td>Rio de Janeiro</td><td>BELMONTE</td><td>Privada</td><td>Urbana</td><td>Em Atividade</td></tr><tr><td>2022</td><td>1</td><td>EI</td><td>CRECHE</td><td>9.0</td><td>10.5</td><td>null</td><td>null</td><td>null</td><td>54.0</td><td>6.0</td><td>6.0</td><td>SP</td><td>S�o Paulo</td><td>VILA INDUSTRIAL</td><td>Municipal</td><td>Urbana</td><td>Em Atividade</td></tr><tr><td>2022</td><td>3</td><td>EFII</td><td>6_ANO</td><td>32.0</td><td>5.3</td><td>0.0</td><td>100.0</td><td>0.0</td><td>null</td><td>null</td><td>null</td><td>SP</td><td>S�o Paulo</td><td>HEITOR VILLA LOBOS</td><td>Privada</td><td>Urbana</td><td>Em Atividade</td></tr><tr><td>2022</td><td>3</td><td>EFII</td><td>6_ANO</td><td>null</td><td>NaN</td><td>null</td><td>null</td><td>null</td><td>null</td><td>null</td><td>null</td><td>SP</td><td>S�o Paulo</td><td>CONJUNTO HABITACIONAL PAULO FREIRE</td><td>Municipal</td><td>Urbana</td><td>Em Atividade</td></tr><tr><td>2022</td><td>1</td><td>EI</td><td>CRECHE</td><td>null</td><td>NaN</td><td>null</td><td>null</td><td>null</td><td>0.0</td><td>0.0</td><td>0.0</td><td>SP</td><td>S�o Paulo</td><td>GONZAGA</td><td>Privada</td><td>Urbana</td><td>Em Atividade</td></tr><tr><td>2022</td><td>3</td><td>EFII</td><td>6_ANO</td><td>null</td><td>NaN</td><td>null</td><td>null</td><td>null</td><td>null</td><td>null</td><td>null</td><td>SP</td><td>S�o Paulo</td><td>VILA ALBERTINA</td><td>Estadual</td><td>Urbana</td><td>Em Atividade</td></tr><tr><td>2022</td><td>4</td><td>EM</td><td>MEDIO</td><td>null</td><td>null</td><td>null</td><td>null</td><td>null</td><td>null</td><td>null</td><td>null</td><td>RJ</td><td>Rio de Janeiro</td><td>null</td><td>Municipal</td><td>Rural</td><td>Em Atividade</td></tr><tr><td>2022</td><td>1</td><td>EI</td><td>CRECHE</td><td>9.0</td><td>4.5</td><td>null</td><td>null</td><td>null</td><td>9.0</td><td>1.0</td><td>1.0</td><td>RJ</td><td>Rio de Janeiro</td><td>null</td><td>Municipal</td><td>Rural</td><td>Em Atividade</td></tr><tr><td>2022</td><td>4</td><td>EM</td><td>3_SERIE</td><td>null</td><td>NaN</td><td>null</td><td>null</td><td>null</td><td>null</td><td>null</td><td>null</td><td>SP</td><td>S�o Paulo</td><td>PARQUE VIANA</td><td>Municipal</td><td>Urbana</td><td>Em Atividade</td></tr><tr><td>2022</td><td>1</td><td>EI</td><td>PRE_ESCOLA</td><td>15.5</td><td>4.0</td><td>null</td><td>null</td><td>null</td><td>62.0</td><td>4.0</td><td>4.0</td><td>SP</td><td>S�o Paulo</td><td>JARDIM ROSA BRANCA</td><td>Municipal</td><td>Urbana</td><td>Em Atividade</td></tr></tbody></table></div>"
      ]
     },
     "metadata": {
      "application/vnd.databricks.v1+output": {
       "addedWidgets": {},
       "aggData": [],
       "aggError": "",
       "aggOverflow": false,
       "aggSchema": [],
       "aggSeriesLimitReached": false,
       "aggType": "",
       "arguments": {},
       "columnCustomDisplayInfos": {},
       "data": [
        [
         2022,
         1,
         "EI",
         "CRECHE",
         12.0,
         4.0,
         null,
         null,
         null,
         12.0,
         1.0,
         1.0,
         "RJ",
         "Rio de Janeiro",
         "BELMONTE",
         "Privada",
         "Urbana",
         "Em Atividade"
        ],
        [
         2022,
         1,
         "EI",
         "CRECHE",
         9.0,
         10.5,
         null,
         null,
         null,
         54.0,
         6.0,
         6.0,
         "SP",
         "S�o Paulo",
         "VILA INDUSTRIAL",
         "Municipal",
         "Urbana",
         "Em Atividade"
        ],
        [
         2022,
         3,
         "EFII",
         "6_ANO",
         32.0,
         5.3,
         0.0,
         100.0,
         0.0,
         null,
         null,
         null,
         "SP",
         "S�o Paulo",
         "HEITOR VILLA LOBOS",
         "Privada",
         "Urbana",
         "Em Atividade"
        ],
        [
         2022,
         3,
         "EFII",
         "6_ANO",
         null,
         "NaN",
         null,
         null,
         null,
         null,
         null,
         null,
         "SP",
         "S�o Paulo",
         "CONJUNTO HABITACIONAL PAULO FREIRE",
         "Municipal",
         "Urbana",
         "Em Atividade"
        ],
        [
         2022,
         1,
         "EI",
         "CRECHE",
         null,
         "NaN",
         null,
         null,
         null,
         0.0,
         0.0,
         0.0,
         "SP",
         "S�o Paulo",
         "GONZAGA",
         "Privada",
         "Urbana",
         "Em Atividade"
        ],
        [
         2022,
         3,
         "EFII",
         "6_ANO",
         null,
         "NaN",
         null,
         null,
         null,
         null,
         null,
         null,
         "SP",
         "S�o Paulo",
         "VILA ALBERTINA",
         "Estadual",
         "Urbana",
         "Em Atividade"
        ],
        [
         2022,
         4,
         "EM",
         "MEDIO",
         null,
         null,
         null,
         null,
         null,
         null,
         null,
         null,
         "RJ",
         "Rio de Janeiro",
         null,
         "Municipal",
         "Rural",
         "Em Atividade"
        ],
        [
         2022,
         1,
         "EI",
         "CRECHE",
         9.0,
         4.5,
         null,
         null,
         null,
         9.0,
         1.0,
         1.0,
         "RJ",
         "Rio de Janeiro",
         null,
         "Municipal",
         "Rural",
         "Em Atividade"
        ],
        [
         2022,
         4,
         "EM",
         "3_SERIE",
         null,
         "NaN",
         null,
         null,
         null,
         null,
         null,
         null,
         "SP",
         "S�o Paulo",
         "PARQUE VIANA",
         "Municipal",
         "Urbana",
         "Em Atividade"
        ],
        [
         2022,
         1,
         "EI",
         "PRE_ESCOLA",
         15.5,
         4.0,
         null,
         null,
         null,
         62.0,
         4.0,
         4.0,
         "SP",
         "S�o Paulo",
         "JARDIM ROSA BRANCA",
         "Municipal",
         "Urbana",
         "Em Atividade"
        ]
       ],
       "datasetInfos": [],
       "dbfsResultPath": null,
       "isJsonSchema": true,
       "metadata": {},
       "overflow": false,
       "plotOptions": {
        "customPlotOptions": {},
        "displayType": "table",
        "pivotAggregation": null,
        "pivotColumns": null,
        "xColumns": null,
        "yColumns": null
       },
       "removedWidgets": [],
       "schema": [
        {
         "metadata": "{}",
         "name": "ANO",
         "type": "\"integer\""
        },
        {
         "metadata": "{}",
         "name": "COD_SEGMENTO",
         "type": "\"integer\""
        },
        {
         "metadata": "{}",
         "name": "NOME_SEGMENTO",
         "type": "\"string\""
        },
        {
         "metadata": "{}",
         "name": "NOME_SERIE",
         "type": "\"string\""
        },
        {
         "metadata": "{}",
         "name": "ALUNOS_POR_TURMA",
         "type": "\"float\""
        },
        {
         "metadata": "{}",
         "name": "HORA_AULA_DIARIA",
         "type": "\"float\""
        },
        {
         "metadata": "{}",
         "name": "TAXA_ABANDONO",
         "type": "\"float\""
        },
        {
         "metadata": "{}",
         "name": "TAXA_APROVACAO",
         "type": "\"float\""
        },
        {
         "metadata": "{}",
         "name": "TAXA_REPROVACAO",
         "type": "\"float\""
        },
        {
         "metadata": "{}",
         "name": "QTD_MATRICULAS",
         "type": "\"float\""
        },
        {
         "metadata": "{}",
         "name": "QTD_TURMAS",
         "type": "\"float\""
        },
        {
         "metadata": "{}",
         "name": "QTD_DOCENTES",
         "type": "\"float\""
        },
        {
         "metadata": "{}",
         "name": "UF",
         "type": "\"string\""
        },
        {
         "metadata": "{}",
         "name": "NOME_UF",
         "type": "\"string\""
        },
        {
         "metadata": "{}",
         "name": "BAIRRO",
         "type": "\"string\""
        },
        {
         "metadata": "{}",
         "name": "TIPO_DEPENDENCIA",
         "type": "\"string\""
        },
        {
         "metadata": "{}",
         "name": "TIPO_LOCALIZACAO",
         "type": "\"string\""
        },
        {
         "metadata": "{}",
         "name": "SITUACAO_FUNCIONAMENTO",
         "type": "\"string\""
        }
       ],
       "type": "table"
      }
     },
     "output_type": "display_data"
    }
   ],
   "source": [
    "%sql\n",
    "CREATE OR REPLACE VIEW gold.vw_indicadores_completos AS\n",
    "SELECT DISTINCT \n",
    "    ig.NU_ANO_CENSO                 AS ANO,\n",
    "    se.COD_SEGMENTO                 AS COD_SEGMENTO,\n",
    "    se.SEGMENTO                     AS NOME_SEGMENTO,\n",
    "    se.SERIE                        AS NOME_SERIE,\n",
    "    ig.ATU                          AS ALUNOS_POR_TURMA,\n",
    "    ig.HAD                          AS HORA_AULA_DIARIA,\n",
    "    ig.TAB                          AS TAXA_ABANDONO,\n",
    "    ig.TAP                          AS TAXA_APROVACAO,\n",
    "    ig.TRE                          AS TAXA_REPROVACAO,\n",
    "    ig.QT_MAT                       AS QTD_MATRICULAS,\n",
    "    ig.QT_TUR                       AS QTD_TURMAS,\n",
    "    ig.QT_DOC                       AS QTD_DOCENTES,\n",
    "    ce.SG_UF                        AS UF,\n",
    "    ce.NO_UF                        AS NOME_UF,\n",
    "    ce.NO_BAIRRO                   AS BAIRRO,\n",
    "\n",
    "    CASE ce.TP_DEPENDENCIA\n",
    "        WHEN 1 THEN 'Federal'\n",
    "        WHEN 2 THEN 'Estadual'\n",
    "        WHEN 3 THEN 'Municipal'\n",
    "        WHEN 4 THEN 'Privada'\n",
    "        ELSE 'Não informado'\n",
    "    END                            AS TIPO_DEPENDENCIA,\n",
    "\n",
    "    CASE ce.TP_LOCALIZACAO\n",
    "        WHEN 1 THEN 'Urbana'\n",
    "        WHEN 2 THEN 'Rural'\n",
    "        ELSE 'Não informado'\n",
    "    END                            AS TIPO_LOCALIZACAO,\n",
    "\n",
    "    CASE ce.TP_SITUACAO_FUNCIONAMENTO\n",
    "        WHEN 1 THEN 'Em Atividade'\n",
    "        WHEN 2 THEN 'Paralisada'\n",
    "        WHEN 3 THEN 'Extinta (Ano do Censo)'\n",
    "        WHEN 4 THEN 'Extinta em Anos Anteriores'\n",
    "        ELSE 'Não informado'\n",
    "    END                            AS SITUACAO_FUNCIONAMENTO\n",
    "\n",
    "FROM gold.indicadores_por_segmento ig\n",
    "\n",
    "LEFT JOIN silver.d_Series se \n",
    "       ON ig.COD_SEGMENTO = se.COD_SEGMENTO \n",
    "      AND ig.COD_SERIE = se.COD_SERIE\n",
    "\n",
    "LEFT JOIN (\n",
    "    SELECT DISTINCT \n",
    "        CO_ENTIDADE, NU_ANO_CENSO,\n",
    "        SG_UF, NO_UF,\n",
    "        NO_BAIRRO,\n",
    "        TP_DEPENDENCIA,\n",
    "        TP_LOCALIZACAO,\n",
    "        TP_SITUACAO_FUNCIONAMENTO\n",
    "    FROM silver.censo_escolar__escolas\n",
    ") ce\n",
    "    ON ig.CO_ENTIDADE = ce.CO_ENTIDADE\n",
    "   AND ig.NU_ANO_CENSO = ce.NU_ANO_CENSO;\n",
    "\n",
    "\n",
    "SELECT * \n",
    "FROM gold.vw_indicadores_completos LIMIT 10\n"
   ]
  },
  {
   "cell_type": "markdown",
   "metadata": {
    "application/vnd.databricks.v1+cell": {
     "cellMetadata": {
      "byteLimit": 2048000,
      "rowLimit": 10000
     },
     "inputWidgets": {},
     "nuid": "0fec6a60-493d-4c14-8d14-c63020aca7ec",
     "showTitle": false,
     "tableResultSettingsMap": {},
     "title": ""
    }
   },
   "source": [
    "###### 5.2 -  Desempenho Escolar\n",
    "**Quais são os 10 estados com melhor desempenho nas taxas escolares em cada ano?**\n",
    "\n",
    "📌 **Objetivo**:  \n",
    "Classificar as Unidades da Federação (UF) com base em um *score de qualidade educacional*, calculado como:\n",
    "> `Taxa de Aprovação - (Taxa de Reprovação + Taxa de Abandono)`\n",
    "\n",
    "📂 **Fonte**:  \n",
    "View: `gold.vw_indicadores_completos`\n",
    "\n",
    "📎 **Filtros aplicados**:  \n",
    "- `SITUACAO_FUNCIONAMENTO = 'Em Atividade'`  \n",
    "- Agrupamento por `ANO` e `UF`\n",
    "\n",
    "🎯 **Indicadores calculados**:  \n",
    "- Média das taxas de aprovação, reprovação e abandono por ano e UF  \n",
    "- Score de qualidade educacional por ano e UF  \n",
    "- Ranking dos 10 melhores estados em cada ano com base no score\n",
    "\n"
   ]
  },
  {
   "cell_type": "code",
   "execution_count": 0,
   "metadata": {
    "application/vnd.databricks.v1+cell": {
     "cellMetadata": {
      "byteLimit": 2048000,
      "implicitDf": true,
      "rowLimit": 10000
     },
     "inputWidgets": {},
     "nuid": "7e9f9b1b-90f5-4656-8550-43b4e54092c8",
     "showTitle": true,
     "tableResultSettingsMap": {},
     "title": "Consulta"
    }
   },
   "outputs": [
    {
     "output_type": "stream",
     "name": "stderr",
     "output_type": "stream",
     "text": [
      "INFO | 01:37:04.2 ___ py4j.clientserver: Received command c on object id p0\n"
     ]
    },
    {
     "output_type": "display_data",
     "data": {
      "text/html": [
       "<style scoped>\n",
       "  .table-result-container {\n",
       "    max-height: 300px;\n",
       "    overflow: auto;\n",
       "  }\n",
       "  table, th, td {\n",
       "    border: 1px solid black;\n",
       "    border-collapse: collapse;\n",
       "  }\n",
       "  th, td {\n",
       "    padding: 5px;\n",
       "  }\n",
       "  th {\n",
       "    text-align: left;\n",
       "  }\n",
       "</style><div class='table-result-container'><table class='table-result'><thead style='background-color: white'><tr><th>ANO</th><th>UF</th><th>MEDIA_APROVACAO</th><th>MEDIA_REPROVACAO</th><th>MEDIA_ABANDONO</th><th>SCORE_QUALIDADE</th><th>RANK_UF</th></tr></thead><tbody><tr><td>2022</td><td>CE</td><td>98.85</td><td>0.62</td><td>0.53</td><td>97.69</td><td>1</td></tr><tr><td>2022</td><td>SP</td><td>97.58</td><td>1.77</td><td>0.65</td><td>95.16</td><td>2</td></tr><tr><td>2022</td><td>GO</td><td>97.11</td><td>2.38</td><td>0.5</td><td>94.23</td><td>3</td></tr><tr><td>2022</td><td>DF</td><td>95.53</td><td>3.9</td><td>0.57</td><td>91.05</td><td>4</td></tr><tr><td>2022</td><td>MT</td><td>95.23</td><td>3.2</td><td>1.57</td><td>90.47</td><td>5</td></tr><tr><td>2022</td><td>MG</td><td>94.95</td><td>3.5</td><td>1.55</td><td>89.91</td><td>6</td></tr><tr><td>2022</td><td>PR</td><td>94.95</td><td>4.27</td><td>0.78</td><td>89.9</td><td>7</td></tr><tr><td>2022</td><td>ES</td><td>94.87</td><td>4.72</td><td>0.41</td><td>89.75</td><td>8</td></tr><tr><td>2022</td><td>PE</td><td>94.77</td><td>4.39</td><td>0.84</td><td>89.54</td><td>9</td></tr><tr><td>2022</td><td>AL</td><td>94.58</td><td>3.94</td><td>1.48</td><td>89.16</td><td>10</td></tr></tbody></table></div>"
      ]
     },
     "metadata": {
      "application/vnd.databricks.v1+output": {
       "addedWidgets": {},
       "aggData": [],
       "aggError": "",
       "aggOverflow": false,
       "aggSchema": [],
       "aggSeriesLimitReached": false,
       "aggType": "",
       "arguments": {},
       "columnCustomDisplayInfos": {},
       "data": [
        [
         2022,
         "CE",
         98.85,
         0.62,
         0.53,
         97.69,
         1
        ],
        [
         2022,
         "SP",
         97.58,
         1.77,
         0.65,
         95.16,
         2
        ],
        [
         2022,
         "GO",
         97.11,
         2.38,
         0.5,
         94.23,
         3
        ],
        [
         2022,
         "DF",
         95.53,
         3.9,
         0.57,
         91.05,
         4
        ],
        [
         2022,
         "MT",
         95.23,
         3.2,
         1.57,
         90.47,
         5
        ],
        [
         2022,
         "MG",
         94.95,
         3.5,
         1.55,
         89.91,
         6
        ],
        [
         2022,
         "PR",
         94.95,
         4.27,
         0.78,
         89.9,
         7
        ],
        [
         2022,
         "ES",
         94.87,
         4.72,
         0.41,
         89.75,
         8
        ],
        [
         2022,
         "PE",
         94.77,
         4.39,
         0.84,
         89.54,
         9
        ],
        [
         2022,
         "AL",
         94.58,
         3.94,
         1.48,
         89.16,
         10
        ]
       ],
       "datasetInfos": [],
       "dbfsResultPath": null,
       "isJsonSchema": true,
       "metadata": {},
       "overflow": false,
       "plotOptions": {
        "customPlotOptions": {},
        "displayType": "table",
        "pivotAggregation": null,
        "pivotColumns": null,
        "xColumns": null,
        "yColumns": null
       },
       "removedWidgets": [],
       "schema": [
        {
         "metadata": "{}",
         "name": "ANO",
         "type": "\"integer\""
        },
        {
         "metadata": "{}",
         "name": "UF",
         "type": "\"string\""
        },
        {
         "metadata": "{}",
         "name": "MEDIA_APROVACAO",
         "type": "\"double\""
        },
        {
         "metadata": "{}",
         "name": "MEDIA_REPROVACAO",
         "type": "\"double\""
        },
        {
         "metadata": "{}",
         "name": "MEDIA_ABANDONO",
         "type": "\"double\""
        },
        {
         "metadata": "{}",
         "name": "SCORE_QUALIDADE",
         "type": "\"double\""
        },
        {
         "metadata": "{}",
         "name": "RANK_UF",
         "type": "\"integer\""
        }
       ],
       "type": "table"
      }
     },
     "output_type": "display_data"
    }
   ],
   "source": [
    "%sql\n",
    "-- View com ranking dos 5 melhores estados por ano com base nas taxas escolares\n",
    "WITH ranking_uf AS (\n",
    "    SELECT\n",
    "        ig.ANO,\n",
    "        ig.UF AS UF,\n",
    "\n",
    "        ROUND(AVG(ig.TAXA_APROVACAO), 2)   AS MEDIA_APROVACAO,\n",
    "        ROUND(AVG(ig.TAXA_REPROVACAO), 2)  AS MEDIA_REPROVACAO,\n",
    "        ROUND(AVG(ig.TAXA_ABANDONO), 2)    AS MEDIA_ABANDONO,\n",
    "\n",
    "        -- Score de qualidade: aprovação - (reprovação + abandono)\n",
    "        ROUND(\n",
    "            AVG(ig.TAXA_APROVACAO) - AVG(ig.TAXA_REPROVACAO) - AVG(ig.TAXA_ABANDONO),\n",
    "        2) AS SCORE_QUALIDADE,\n",
    "\n",
    "        -- Ranking por ano com base no score\n",
    "        DENSE_RANK() OVER (\n",
    "            PARTITION BY ig.ANO\n",
    "            ORDER BY AVG(ig.TAXA_APROVACAO) - AVG(ig.TAXA_REPROVACAO) - AVG(ig.TAXA_ABANDONO) DESC\n",
    "        ) AS RANK_UF\n",
    "\n",
    "    FROM gold.vw_indicadores_completos ig\n",
    "    WHERE ig.SITUACAO_FUNCIONAMENTO = 'Em Atividade'\n",
    "    GROUP BY ig.ANO, ig.UF\n",
    ")\n",
    "\n",
    "SELECT *\n",
    "FROM ranking_uf\n",
    "WHERE RANK_UF <= 10\n",
    "ORDER BY ANO, RANK_UF;\n"
   ]
  },
  {
   "cell_type": "markdown",
   "metadata": {
    "application/vnd.databricks.v1+cell": {
     "cellMetadata": {
      "byteLimit": 2048000,
      "rowLimit": 10000
     },
     "inputWidgets": {},
     "nuid": "13f63d15-1162-4b4f-a49b-6063e19e6168",
     "showTitle": false,
     "tableResultSettingsMap": {},
     "title": ""
    }
   },
   "source": [
    "###### 5.3 - Qualidade do Atendimento Escolar  \n",
    "**Pergunta 3**: Quais são os 10 estados com melhor estrutura de atendimento escolar, por segmento e ano?\n",
    "\n",
    "📌 **Objetivo**:  \n",
    "Avaliar a qualidade da estrutura educacional com base na **intensidade do atendimento pedagógico**, considerando:\n",
    "- Segmento de ensino (`NOME_SEGMENTO`)\n",
    "- Unidade da Federação (`UF`)\n",
    "\n",
    "📂 **Fonte**:  \n",
    "View: `gold.vw_indicadores_completos`\n",
    "\n",
    "📎 **Filtros aplicados**:  \n",
    "- `SITUACAO_FUNCIONAMENTO = 'Em Atividade'`  \n",
    "- `TIPO_DEPENDENCIA = 'Municipal'`  \n",
    "- `TIPO_LOCALIZACAO = 'Urbana'`  \n",
    "- Exclusão de nulos em `ALUNOS_POR_TURMA` e `HORA_AULA_DIARIA`\n",
    "\n",
    "🎯 **Indicadores calculados**:  \n",
    "- Média de alunos por turma (`ATU`)  \n",
    "- Média de horas-aula diárias (`HAD`)  \n",
    "- Score de atendimento (`HAD / ATU`)  \n",
    "- Ranking dos 10 estados com melhor estrutura, por segmento e ano\n",
    "\n",
    "📊 **Avaliação dos Resultados — Educação Infantil (2023)**  \n",
    "Em 2023, para o segmento da **Educação Infantil (EI)** em redes **municipais e urbanas**, os estados com **melhores condições estruturais** foram:\n",
    "\n",
    "🔝 **Destaques**:\n",
    "- **Goiás (GO)** liderou com score de **0.9474**, resultado de turmas muito reduzidas (4,75 alunos) e 4,5 horas-aula diárias.\n",
    "- **Santa Catarina (SC)** e **Rio Grande do Sul (RS)** mantiveram boa combinação entre carga horária e tamanho de turma.\n",
    "- **São Paulo (SP)** e **Rio de Janeiro (RJ)**, apesar da boa carga horária, apresentaram scores mais baixos devido ao maior número de alunos por turma.\n",
    "\n",
    "📌 O score `HAD / ATU` reflete o **potencial de atenção pedagógica por aluno**. Quanto maior o valor, **melhor a capacidade de atendimento individualizado**.\n"
   ]
  },
  {
   "cell_type": "code",
   "execution_count": 0,
   "metadata": {
    "application/vnd.databricks.v1+cell": {
     "cellMetadata": {
      "byteLimit": 2048000,
      "implicitDf": true,
      "rowLimit": 10000
     },
     "inputWidgets": {},
     "nuid": "ee31251a-cd8e-44b8-9583-50f29f12c2dd",
     "showTitle": true,
     "tableResultSettingsMap": {},
     "title": "Consulta"
    }
   },
   "outputs": [
    {
     "output_type": "stream",
     "name": "stderr",
     "output_type": "stream",
     "text": [
      "INFO | 01:59:26.8 ___ py4j.clientserver: Received command c on object id p0\n"
     ]
    },
    {
     "output_type": "display_data",
     "data": {
      "text/html": [
       "<style scoped>\n",
       "  .table-result-container {\n",
       "    max-height: 300px;\n",
       "    overflow: auto;\n",
       "  }\n",
       "  table, th, td {\n",
       "    border: 1px solid black;\n",
       "    border-collapse: collapse;\n",
       "  }\n",
       "  th, td {\n",
       "    padding: 5px;\n",
       "  }\n",
       "  th {\n",
       "    text-align: left;\n",
       "  }\n",
       "</style><div class='table-result-container'><table class='table-result'><thead style='background-color: white'><tr><th>ANO</th><th>NOME_SEGMENTO</th><th>UF</th><th>MEDIA_ALUNOS_POR_TURMA</th><th>MEDIA_HORA_AULA_DIARIA</th><th>SCORE_ATENDIMENTO</th><th>RANK_UF</th></tr></thead><tbody><tr><td>2022</td><td>EI</td><td>RS</td><td>15.53</td><td>6.97</td><td>0.4488</td><td>1</td></tr><tr><td>2022</td><td>EI</td><td>SC</td><td>16.56</td><td>7.23</td><td>0.4364</td><td>2</td></tr><tr><td>2022</td><td>EI</td><td>PR</td><td>17.4</td><td>6.95</td><td>0.3993</td><td>3</td></tr><tr><td>2022</td><td>EI</td><td>SP</td><td>18.27</td><td>7.18</td><td>0.3931</td><td>4</td></tr><tr><td>2022</td><td>EI</td><td>MG</td><td>16.77</td><td>6.11</td><td>0.3642</td><td>5</td></tr><tr><td>2022</td><td>EI</td><td>GO</td><td>19.62</td><td>6.75</td><td>0.344</td><td>6</td></tr><tr><td>2022</td><td>EI</td><td>RJ</td><td>18.58</td><td>5.93</td><td>0.3192</td><td>7</td></tr><tr><td>2022</td><td>EI</td><td>PB</td><td>19.94</td><td>6.31</td><td>0.3166</td><td>8</td></tr><tr><td>2022</td><td>EI</td><td>ES</td><td>16.57</td><td>5.23</td><td>0.3156</td><td>9</td></tr><tr><td>2022</td><td>EI</td><td>BA</td><td>18.77</td><td>5.79</td><td>0.3085</td><td>10</td></tr></tbody></table></div>"
      ]
     },
     "metadata": {
      "application/vnd.databricks.v1+output": {
       "addedWidgets": {},
       "aggData": [],
       "aggError": "",
       "aggOverflow": false,
       "aggSchema": [],
       "aggSeriesLimitReached": false,
       "aggType": "",
       "arguments": {},
       "columnCustomDisplayInfos": {},
       "data": [
        [
         2022,
         "EI",
         "RS",
         15.53,
         6.97,
         0.4488,
         1
        ],
        [
         2022,
         "EI",
         "SC",
         16.56,
         7.23,
         0.4364,
         2
        ],
        [
         2022,
         "EI",
         "PR",
         17.4,
         6.95,
         0.3993,
         3
        ],
        [
         2022,
         "EI",
         "SP",
         18.27,
         7.18,
         0.3931,
         4
        ],
        [
         2022,
         "EI",
         "MG",
         16.77,
         6.11,
         0.3642,
         5
        ],
        [
         2022,
         "EI",
         "GO",
         19.62,
         6.75,
         0.344,
         6
        ],
        [
         2022,
         "EI",
         "RJ",
         18.58,
         5.93,
         0.3192,
         7
        ],
        [
         2022,
         "EI",
         "PB",
         19.94,
         6.31,
         0.3166,
         8
        ],
        [
         2022,
         "EI",
         "ES",
         16.57,
         5.23,
         0.3156,
         9
        ],
        [
         2022,
         "EI",
         "BA",
         18.77,
         5.79,
         0.3085,
         10
        ]
       ],
       "datasetInfos": [],
       "dbfsResultPath": null,
       "isJsonSchema": true,
       "metadata": {},
       "overflow": false,
       "plotOptions": {
        "customPlotOptions": {},
        "displayType": "table",
        "pivotAggregation": null,
        "pivotColumns": null,
        "xColumns": null,
        "yColumns": null
       },
       "removedWidgets": [],
       "schema": [
        {
         "metadata": "{}",
         "name": "ANO",
         "type": "\"integer\""
        },
        {
         "metadata": "{}",
         "name": "NOME_SEGMENTO",
         "type": "\"string\""
        },
        {
         "metadata": "{}",
         "name": "UF",
         "type": "\"string\""
        },
        {
         "metadata": "{}",
         "name": "MEDIA_ALUNOS_POR_TURMA",
         "type": "\"double\""
        },
        {
         "metadata": "{}",
         "name": "MEDIA_HORA_AULA_DIARIA",
         "type": "\"double\""
        },
        {
         "metadata": "{}",
         "name": "SCORE_ATENDIMENTO",
         "type": "\"double\""
        },
        {
         "metadata": "{}",
         "name": "RANK_UF",
         "type": "\"integer\""
        }
       ],
       "type": "table"
      }
     },
     "output_type": "display_data"
    }
   ],
   "source": [
    "%sql\n",
    "-- View com ranking dos 10 estados por atendimento escolar (HORA_AULA_DIARIA / ALUNOS_POR_TURMA) por segmento\n",
    "WITH atendimento_uf AS (\n",
    "    SELECT\n",
    "        ig.ANO,\n",
    "        ig.NOME_SEGMENTO,\n",
    "        ig.UF,\n",
    "\n",
    "        ROUND(AVG(ig.ALUNOS_POR_TURMA), 2) AS MEDIA_ALUNOS_POR_TURMA,\n",
    "        ROUND(AVG(ig.HORA_AULA_DIARIA), 2) AS MEDIA_HORA_AULA_DIARIA,\n",
    "\n",
    "        -- Score de atendimento: mais HORA_AULA_DIARIA e menos alunos por turma\n",
    "        ROUND(AVG(ig.HORA_AULA_DIARIA) / NULLIF(AVG(ig.ALUNOS_POR_TURMA), 0), 4) AS SCORE_ATENDIMENTO,\n",
    "\n",
    "        DENSE_RANK() OVER (\n",
    "            PARTITION BY ig.ANO, ig.NOME_SEGMENTO\n",
    "            ORDER BY AVG(ig.HORA_AULA_DIARIA) / NULLIF(AVG(ig.ALUNOS_POR_TURMA), 0) DESC\n",
    "        ) AS RANK_UF\n",
    "\n",
    "    FROM gold.vw_indicadores_completos ig\n",
    "    WHERE ig.SITUACAO_FUNCIONAMENTO = 'Em Atividade'\n",
    "      AND ig.ALUNOS_POR_TURMA IS NOT NULL\n",
    "      AND ig.HORA_AULA_DIARIA IS NOT NULL\n",
    "      AND ig.TIPO_DEPENDENCIA = 'Municipal'\n",
    "      AND ig.TIPO_LOCALIZACAO = 'Urbana'\n",
    "    GROUP BY ig.ANO, ig.UF, ig.NOME_SEGMENTO\n",
    ")\n",
    "\n",
    "SELECT *\n",
    "FROM atendimento_uf\n",
    "WHERE RANK_UF <= 10\n",
    "  AND NOME_SEGMENTO IN (\"EI\")\n",
    "ORDER BY ANO, NOME_SEGMENTO, RANK_UF;\n"
   ]
  },
  {
   "cell_type": "markdown",
   "metadata": {
    "application/vnd.databricks.v1+cell": {
     "cellMetadata": {
      "byteLimit": 2048000,
      "rowLimit": 10000
     },
     "inputWidgets": {},
     "nuid": "8cad08e9-0304-46f0-b3ae-84483f312481",
     "showTitle": false,
     "tableResultSettingsMap": {},
     "title": ""
    }
   },
   "source": [
    "###### 5.4 - Distribuição de Matrículas por Segmento (2022)  \n",
    "**Pergunta 4**: Quais são os estados com maior número médio de matrículas por segmento no ano de 2022?\n",
    "\n",
    "📌 **Objetivo**:  \n",
    "Analisar a concentração de matrículas nas redes estaduais, municipais, federais e privadas em **2022**, destacando os estados com maior volume médio de alunos por tipo de escola e localização.\n",
    "\n",
    "📂 **Fonte**:  \n",
    "Tabela: `gold.indicadores_por_segmento`  \n",
    "Dimensões: `silver.censo_escolar__escolas`, `silver.d_Series`\n",
    "\n",
    "📎 **Filtros aplicados**:  \n",
    "- `NU_ANO_CENSO = 2022`  \n",
    "- Apenas registros com valores válidos em `QT_MAT`  \n",
    "- Segmento filtrado como `'EI'` (Educação Infantil)\n",
    "\n",
    "🎯 **Indicadores calculados**:  \n",
    "- Média da quantidade de matrículas por UF (`SG_UF`), tipo de dependência administrativa e localização  \n",
    "- Ranking dos estados com maior média de matrículas na Educação Infantil em 2022\n"
   ]
  },
  {
   "cell_type": "code",
   "execution_count": 0,
   "metadata": {
    "application/vnd.databricks.v1+cell": {
     "cellMetadata": {
      "byteLimit": 2048000,
      "implicitDf": true,
      "rowLimit": 10000
     },
     "inputWidgets": {},
     "nuid": "fb9970d9-c2f8-4d06-9b2a-d84f35c95c85",
     "showTitle": true,
     "tableResultSettingsMap": {},
     "title": "Consulta"
    }
   },
   "outputs": [
    {
     "output_type": "stream",
     "name": "stderr",
     "output_type": "stream",
     "text": [
      "INFO | 01:57:54.0 ___ py4j.clientserver: Received command c on object id p0\n"
     ]
    },
    {
     "output_type": "display_data",
     "data": {
      "text/html": [
       "<style scoped>\n",
       "  .table-result-container {\n",
       "    max-height: 300px;\n",
       "    overflow: auto;\n",
       "  }\n",
       "  table, th, td {\n",
       "    border: 1px solid black;\n",
       "    border-collapse: collapse;\n",
       "  }\n",
       "  th, td {\n",
       "    padding: 5px;\n",
       "  }\n",
       "  th {\n",
       "    text-align: left;\n",
       "  }\n",
       "</style><div class='table-result-container'><table class='table-result'><thead style='background-color: white'><tr><th>UF</th><th>TIPO_DEPENDENCIA</th><th>TIPO_LOCALIZACAO</th><th>MEDIA_MATRICULAS</th></tr></thead><tbody><tr><td>MT</td><td>Municipal</td><td>Urbana</td><td>73.5</td></tr><tr><td>MS</td><td>Municipal</td><td>Urbana</td><td>66.48</td></tr><tr><td>AC</td><td>Municipal</td><td>Urbana</td><td>62.81</td></tr><tr><td>AM</td><td>Municipal</td><td>Urbana</td><td>60.74</td></tr><tr><td>SP</td><td>Municipal</td><td>Urbana</td><td>58.28</td></tr><tr><td>RR</td><td>Municipal</td><td>Urbana</td><td>57.84</td></tr><tr><td>RO</td><td>Municipal</td><td>Urbana</td><td>56.76</td></tr><tr><td>RR</td><td>Privada</td><td>Urbana</td><td>56.35</td></tr><tr><td>SP</td><td>Federal</td><td>Rural</td><td>54.5</td></tr><tr><td>AP</td><td>Municipal</td><td>Urbana</td><td>53.94</td></tr><tr><td>ES</td><td>Municipal</td><td>Urbana</td><td>52.09</td></tr><tr><td>TO</td><td>Municipal</td><td>Urbana</td><td>52.08</td></tr><tr><td>SC</td><td>Municipal</td><td>Urbana</td><td>51.1</td></tr><tr><td>MG</td><td>Municipal</td><td>Urbana</td><td>50.4</td></tr><tr><td>DF</td><td>Privada</td><td>Urbana</td><td>50.12</td></tr><tr><td>MA</td><td>Privada</td><td>Rural</td><td>47.95</td></tr><tr><td>CE</td><td>Municipal</td><td>Urbana</td><td>45.27</td></tr><tr><td>PA</td><td>Municipal</td><td>Urbana</td><td>45.24</td></tr><tr><td>GO</td><td>Municipal</td><td>Urbana</td><td>45.09</td></tr><tr><td>PR</td><td>Municipal</td><td>Urbana</td><td>44.27</td></tr><tr><td>SE</td><td>Municipal</td><td>Urbana</td><td>42.94</td></tr><tr><td>AL</td><td>Municipal</td><td>Urbana</td><td>42.72</td></tr><tr><td>DF</td><td>Privada</td><td>Rural</td><td>42.13</td></tr><tr><td>RJ</td><td>Municipal</td><td>Urbana</td><td>40.92</td></tr><tr><td>RN</td><td>Municipal</td><td>Urbana</td><td>40.8</td></tr><tr><td>RS</td><td>Municipal</td><td>Urbana</td><td>39.79</td></tr><tr><td>DF</td><td>Estadual</td><td>Urbana</td><td>37.43</td></tr><tr><td>SC</td><td>Privada</td><td>Rural</td><td>37.05</td></tr><tr><td>PE</td><td>Municipal</td><td>Urbana</td><td>36.25</td></tr><tr><td>SP</td><td>Privada</td><td>Urbana</td><td>35.3</td></tr><tr><td>MA</td><td>Municipal</td><td>Urbana</td><td>33.07</td></tr><tr><td>PI</td><td>Municipal</td><td>Urbana</td><td>32.92</td></tr><tr><td>PB</td><td>Municipal</td><td>Urbana</td><td>32.52</td></tr><tr><td>MA</td><td>Privada</td><td>Urbana</td><td>32.33</td></tr><tr><td>SC</td><td>Privada</td><td>Urbana</td><td>32.26</td></tr><tr><td>RO</td><td>Privada</td><td>Urbana</td><td>31.9</td></tr><tr><td>CE</td><td>Privada</td><td>Urbana</td><td>30.49</td></tr><tr><td>BA</td><td>Municipal</td><td>Urbana</td><td>30.39</td></tr><tr><td>MS</td><td>Privada</td><td>Urbana</td><td>28.35</td></tr><tr><td>MG</td><td>Privada</td><td>Urbana</td><td>28.08</td></tr><tr><td>RS</td><td>Privada</td><td>Urbana</td><td>27.34</td></tr><tr><td>SP</td><td>Privada</td><td>Rural</td><td>27.31</td></tr><tr><td>GO</td><td>Privada</td><td>Urbana</td><td>27.1</td></tr><tr><td>SE</td><td>Privada</td><td>Urbana</td><td>26.97</td></tr><tr><td>AM</td><td>Privada</td><td>Urbana</td><td>26.83</td></tr><tr><td>PE</td><td>Privada</td><td>Urbana</td><td>26.7</td></tr><tr><td>PR</td><td>Privada</td><td>Urbana</td><td>26.3</td></tr><tr><td>MT</td><td>Privada</td><td>Urbana</td><td>25.92</td></tr><tr><td>RN</td><td>Privada</td><td>Urbana</td><td>25.61</td></tr><tr><td>TO</td><td>Privada</td><td>Urbana</td><td>25.19</td></tr><tr><td>PE</td><td>Privada</td><td>Rural</td><td>24.7</td></tr><tr><td>ES</td><td>Privada</td><td>Urbana</td><td>24.57</td></tr><tr><td>BA</td><td>Privada</td><td>Urbana</td><td>24.48</td></tr><tr><td>AL</td><td>Privada</td><td>Urbana</td><td>24.33</td></tr><tr><td>PB</td><td>Privada</td><td>Urbana</td><td>24.3</td></tr><tr><td>PI</td><td>Privada</td><td>Urbana</td><td>23.8</td></tr><tr><td>RJ</td><td>Privada</td><td>Urbana</td><td>23.8</td></tr><tr><td>AC</td><td>Privada</td><td>Urbana</td><td>23.12</td></tr><tr><td>PA</td><td>Privada</td><td>Urbana</td><td>21.71</td></tr><tr><td>SE</td><td>Privada</td><td>Rural</td><td>21.1</td></tr><tr><td>RJ</td><td>Privada</td><td>Rural</td><td>21.07</td></tr><tr><td>PB</td><td>Privada</td><td>Rural</td><td>20.3</td></tr><tr><td>AP</td><td>Privada</td><td>Urbana</td><td>20.15</td></tr><tr><td>CE</td><td>Municipal</td><td>Rural</td><td>19.6</td></tr><tr><td>DF</td><td>Estadual</td><td>Rural</td><td>17.65</td></tr><tr><td>RJ</td><td>Municipal</td><td>Rural</td><td>17.54</td></tr><tr><td>CE</td><td>Privada</td><td>Rural</td><td>17.39</td></tr><tr><td>AL</td><td>Municipal</td><td>Rural</td><td>17.28</td></tr><tr><td>MS</td><td>Municipal</td><td>Rural</td><td>16.47</td></tr><tr><td>SP</td><td>Municipal</td><td>Rural</td><td>15.78</td></tr><tr><td>RN</td><td>Privada</td><td>Rural</td><td>14.38</td></tr><tr><td>SE</td><td>Municipal</td><td>Rural</td><td>13.9</td></tr><tr><td>SC</td><td>Municipal</td><td>Rural</td><td>13.82</td></tr><tr><td>MS</td><td>Privada</td><td>Rural</td><td>13.8</td></tr><tr><td>RR</td><td>Municipal</td><td>Rural</td><td>12.8</td></tr><tr><td>MT</td><td>Municipal</td><td>Rural</td><td>12.35</td></tr><tr><td>RN</td><td>Municipal</td><td>Rural</td><td>11.74</td></tr><tr><td>PR</td><td>Municipal</td><td>Rural</td><td>11.11</td></tr><tr><td>GO</td><td>Privada</td><td>Rural</td><td>10.91</td></tr><tr><td>PI</td><td>Municipal</td><td>Rural</td><td>10.89</td></tr><tr><td>AP</td><td>Municipal</td><td>Rural</td><td>10.77</td></tr><tr><td>PE</td><td>Municipal</td><td>Rural</td><td>10.7</td></tr><tr><td>BA</td><td>Privada</td><td>Rural</td><td>10.67</td></tr><tr><td>RO</td><td>Municipal</td><td>Rural</td><td>10.08</td></tr><tr><td>RS</td><td>Privada</td><td>Rural</td><td>10.02</td></tr><tr><td>BA</td><td>Municipal</td><td>Rural</td><td>9.82</td></tr><tr><td>TO</td><td>Municipal</td><td>Rural</td><td>9.8</td></tr><tr><td>MG</td><td>Privada</td><td>Rural</td><td>9.79</td></tr><tr><td>AL</td><td>Privada</td><td>Rural</td><td>9.28</td></tr><tr><td>MA</td><td>Municipal</td><td>Rural</td><td>9.16</td></tr><tr><td>RS</td><td>Municipal</td><td>Rural</td><td>8.86</td></tr><tr><td>MT</td><td>Privada</td><td>Rural</td><td>8.83</td></tr><tr><td>PB</td><td>Municipal</td><td>Rural</td><td>8.67</td></tr><tr><td>PR</td><td>Privada</td><td>Rural</td><td>8.15</td></tr><tr><td>GO</td><td>Municipal</td><td>Rural</td><td>8.13</td></tr><tr><td>ES</td><td>Municipal</td><td>Rural</td><td>8.08</td></tr><tr><td>PA</td><td>Municipal</td><td>Rural</td><td>7.63</td></tr><tr><td>MG</td><td>Municipal</td><td>Rural</td><td>7.32</td></tr><tr><td>AM</td><td>Municipal</td><td>Rural</td><td>5.99</td></tr><tr><td>AC</td><td>Municipal</td><td>Rural</td><td>5.97</td></tr><tr><td>PA</td><td>Privada</td><td>Rural</td><td>5.78</td></tr><tr><td>AL</td><td>Estadual</td><td>Rural</td><td>5.44</td></tr><tr><td>RJ</td><td>Federal</td><td>Urbana</td><td>5.28</td></tr><tr><td>PE</td><td>Estadual</td><td>Rural</td><td>4.87</td></tr><tr><td>SP</td><td>Federal</td><td>Urbana</td><td>4.42</td></tr><tr><td>CE</td><td>Estadual</td><td>Rural</td><td>4.04</td></tr><tr><td>RN</td><td>Federal</td><td>Urbana</td><td>3.83</td></tr><tr><td>TO</td><td>Privada</td><td>Rural</td><td>3.5</td></tr><tr><td>MG</td><td>Federal</td><td>Urbana</td><td>2.91</td></tr><tr><td>PB</td><td>Federal</td><td>Urbana</td><td>2.8</td></tr><tr><td>ES</td><td>Federal</td><td>Urbana</td><td>2.75</td></tr><tr><td>SC</td><td>Federal</td><td>Urbana</td><td>2.53</td></tr><tr><td>BA</td><td>Estadual</td><td>Rural</td><td>2.36</td></tr><tr><td>GO</td><td>Federal</td><td>Urbana</td><td>1.93</td></tr><tr><td>PB</td><td>Estadual</td><td>Rural</td><td>1.71</td></tr><tr><td>AC</td><td>Federal</td><td>Urbana</td><td>1.5</td></tr><tr><td>PA</td><td>Federal</td><td>Urbana</td><td>1.39</td></tr><tr><td>RS</td><td>Federal</td><td>Urbana</td><td>1.31</td></tr><tr><td>AM</td><td>Privada</td><td>Rural</td><td>1.0</td></tr><tr><td>RO</td><td>Privada</td><td>Rural</td><td>0.95</td></tr><tr><td>ES</td><td>Privada</td><td>Rural</td><td>0.95</td></tr><tr><td>AP</td><td>Estadual</td><td>Rural</td><td>0.87</td></tr><tr><td>CE</td><td>Federal</td><td>Urbana</td><td>0.86</td></tr><tr><td>PR</td><td>Estadual</td><td>Rural</td><td>0.86</td></tr><tr><td>MG</td><td>Estadual</td><td>Rural</td><td>0.74</td></tr><tr><td>RS</td><td>Estadual</td><td>Rural</td><td>0.66</td></tr><tr><td>MS</td><td>Estadual</td><td>Urbana</td><td>0.51</td></tr><tr><td>CE</td><td>Estadual</td><td>Urbana</td><td>0.36</td></tr><tr><td>AC</td><td>Estadual</td><td>Rural</td><td>0.33</td></tr><tr><td>PA</td><td>Estadual</td><td>Urbana</td><td>0.27</td></tr><tr><td>PA</td><td>Estadual</td><td>Rural</td><td>0.23</td></tr><tr><td>PE</td><td>Estadual</td><td>Urbana</td><td>0.2</td></tr><tr><td>SP</td><td>Estadual</td><td>Rural</td><td>0.17</td></tr><tr><td>MA</td><td>Estadual</td><td>Urbana</td><td>0.17</td></tr><tr><td>TO</td><td>Estadual</td><td>Urbana</td><td>0.17</td></tr><tr><td>RS</td><td>Estadual</td><td>Urbana</td><td>0.17</td></tr><tr><td>AP</td><td>Estadual</td><td>Urbana</td><td>0.13</td></tr><tr><td>RJ</td><td>Estadual</td><td>Urbana</td><td>0.12</td></tr><tr><td>SP</td><td>Estadual</td><td>Urbana</td><td>0.07</td></tr><tr><td>PR</td><td>Estadual</td><td>Urbana</td><td>0.06</td></tr><tr><td>SC</td><td>Estadual</td><td>Urbana</td><td>0.05</td></tr><tr><td>AL</td><td>Estadual</td><td>Urbana</td><td>0.03</td></tr><tr><td>PB</td><td>Estadual</td><td>Urbana</td><td>0.03</td></tr><tr><td>MT</td><td>Estadual</td><td>Urbana</td><td>0.02</td></tr><tr><td>AM</td><td>Estadual</td><td>Urbana</td><td>0.02</td></tr><tr><td>GO</td><td>Estadual</td><td>Urbana</td><td>0.02</td></tr><tr><td>PE</td><td>Federal</td><td>Rural</td><td>0.0</td></tr><tr><td>AP</td><td>Privada</td><td>Rural</td><td>0.0</td></tr><tr><td>DF</td><td>Federal</td><td>Urbana</td><td>0.0</td></tr><tr><td>AC</td><td>Estadual</td><td>Urbana</td><td>0.0</td></tr><tr><td>SE</td><td>Federal</td><td>Rural</td><td>0.0</td></tr><tr><td>BA</td><td>Estadual</td><td>Urbana</td><td>0.0</td></tr><tr><td>MA</td><td>Federal</td><td>Urbana</td><td>0.0</td></tr><tr><td>SC</td><td>Federal</td><td>Rural</td><td>0.0</td></tr><tr><td>RR</td><td>Privada</td><td>Rural</td><td>0.0</td></tr><tr><td>TO</td><td>Federal</td><td>Urbana</td><td>0.0</td></tr><tr><td>PI</td><td>Federal</td><td>Rural</td><td>0.0</td></tr><tr><td>RO</td><td>Estadual</td><td>Urbana</td><td>0.0</td></tr><tr><td>DF</td><td>Federal</td><td>Rural</td><td>0.0</td></tr><tr><td>RJ</td><td>Estadual</td><td>Rural</td><td>0.0</td></tr><tr><td>RN</td><td>Estadual</td><td>Rural</td><td>0.0</td></tr><tr><td>MG</td><td>Federal</td><td>Rural</td><td>0.0</td></tr><tr><td>SC</td><td>Estadual</td><td>Rural</td><td>0.0</td></tr><tr><td>CE</td><td>Federal</td><td>Rural</td><td>0.0</td></tr><tr><td>AL</td><td>Federal</td><td>Urbana</td><td>0.0</td></tr><tr><td>RN</td><td>Estadual</td><td>Urbana</td><td>0.0</td></tr><tr><td>MA</td><td>Federal</td><td>Rural</td><td>0.0</td></tr><tr><td>ES</td><td>Estadual</td><td>Urbana</td><td>0.0</td></tr><tr><td>GO</td><td>Estadual</td><td>Rural</td><td>0.0</td></tr><tr><td>SE</td><td>Estadual</td><td>Urbana</td><td>0.0</td></tr><tr><td>MT</td><td>Estadual</td><td>Rural</td><td>0.0</td></tr><tr><td>PR</td><td>Federal</td><td>Rural</td><td>0.0</td></tr><tr><td>PA</td><td>Federal</td><td>Rural</td><td>0.0</td></tr><tr><td>RJ</td><td>Federal</td><td>Rural</td><td>0.0</td></tr><tr><td>AP</td><td>Federal</td><td>Urbana</td><td>0.0</td></tr><tr><td>MT</td><td>Federal</td><td>Urbana</td><td>0.0</td></tr><tr><td>TO</td><td>Estadual</td><td>Rural</td><td>0.0</td></tr><tr><td>RR</td><td>Federal</td><td>Urbana</td><td>0.0</td></tr><tr><td>TO</td><td>Federal</td><td>Rural</td><td>0.0</td></tr><tr><td>PB</td><td>Federal</td><td>Rural</td><td>0.0</td></tr><tr><td>MA</td><td>Estadual</td><td>Rural</td><td>0.0</td></tr><tr><td>BA</td><td>Federal</td><td>Urbana</td><td>0.0</td></tr><tr><td>PI</td><td>Estadual</td><td>Rural</td><td>0.0</td></tr><tr><td>RO</td><td>Estadual</td><td>Rural</td><td>0.0</td></tr><tr><td>PE</td><td>Federal</td><td>Urbana</td><td>0.0</td></tr><tr><td>PI</td><td>Privada</td><td>Rural</td><td>0.0</td></tr><tr><td>RR</td><td>Federal</td><td>Rural</td><td>0.0</td></tr><tr><td>MT</td><td>Federal</td><td>Rural</td><td>0.0</td></tr><tr><td>SE</td><td>Estadual</td><td>Rural</td><td>0.0</td></tr><tr><td>MS</td><td>Federal</td><td>Urbana</td><td>0.0</td></tr><tr><td>RO</td><td>Federal</td><td>Urbana</td><td>0.0</td></tr><tr><td>RO</td><td>Federal</td><td>Rural</td><td>0.0</td></tr><tr><td>PI</td><td>Estadual</td><td>Urbana</td><td>0.0</td></tr><tr><td>GO</td><td>Federal</td><td>Rural</td><td>0.0</td></tr><tr><td>AM</td><td>Estadual</td><td>Rural</td><td>0.0</td></tr><tr><td>ES</td><td>Estadual</td><td>Rural</td><td>0.0</td></tr><tr><td>ES</td><td>Federal</td><td>Rural</td><td>0.0</td></tr><tr><td>BA</td><td>Federal</td><td>Rural</td><td>0.0</td></tr><tr><td>SE</td><td>Federal</td><td>Urbana</td><td>0.0</td></tr><tr><td>PR</td><td>Federal</td><td>Urbana</td><td>0.0</td></tr><tr><td>RR</td><td>Estadual</td><td>Urbana</td><td>0.0</td></tr><tr><td>RR</td><td>Estadual</td><td>Rural</td><td>0.0</td></tr><tr><td>AM</td><td>Federal</td><td>Urbana</td><td>0.0</td></tr><tr><td>AM</td><td>Federal</td><td>Rural</td><td>0.0</td></tr><tr><td>MG</td><td>Estadual</td><td>Urbana</td><td>0.0</td></tr><tr><td>RS</td><td>Federal</td><td>Rural</td><td>0.0</td></tr><tr><td>RN</td><td>Federal</td><td>Rural</td><td>0.0</td></tr><tr><td>MS</td><td>Estadual</td><td>Rural</td><td>0.0</td></tr><tr><td>PI</td><td>Federal</td><td>Urbana</td><td>0.0</td></tr><tr><td>MS</td><td>Federal</td><td>Rural</td><td>0.0</td></tr></tbody></table></div>"
      ]
     },
     "metadata": {
      "application/vnd.databricks.v1+output": {
       "addedWidgets": {},
       "aggData": [],
       "aggError": "",
       "aggOverflow": false,
       "aggSchema": [],
       "aggSeriesLimitReached": false,
       "aggType": "",
       "arguments": {},
       "columnCustomDisplayInfos": {},
       "data": [
        [
         "MT",
         "Municipal",
         "Urbana",
         73.5
        ],
        [
         "MS",
         "Municipal",
         "Urbana",
         66.48
        ],
        [
         "AC",
         "Municipal",
         "Urbana",
         62.81
        ],
        [
         "AM",
         "Municipal",
         "Urbana",
         60.74
        ],
        [
         "SP",
         "Municipal",
         "Urbana",
         58.28
        ],
        [
         "RR",
         "Municipal",
         "Urbana",
         57.84
        ],
        [
         "RO",
         "Municipal",
         "Urbana",
         56.76
        ],
        [
         "RR",
         "Privada",
         "Urbana",
         56.35
        ],
        [
         "SP",
         "Federal",
         "Rural",
         54.5
        ],
        [
         "AP",
         "Municipal",
         "Urbana",
         53.94
        ],
        [
         "ES",
         "Municipal",
         "Urbana",
         52.09
        ],
        [
         "TO",
         "Municipal",
         "Urbana",
         52.08
        ],
        [
         "SC",
         "Municipal",
         "Urbana",
         51.1
        ],
        [
         "MG",
         "Municipal",
         "Urbana",
         50.4
        ],
        [
         "DF",
         "Privada",
         "Urbana",
         50.12
        ],
        [
         "MA",
         "Privada",
         "Rural",
         47.95
        ],
        [
         "CE",
         "Municipal",
         "Urbana",
         45.27
        ],
        [
         "PA",
         "Municipal",
         "Urbana",
         45.24
        ],
        [
         "GO",
         "Municipal",
         "Urbana",
         45.09
        ],
        [
         "PR",
         "Municipal",
         "Urbana",
         44.27
        ],
        [
         "SE",
         "Municipal",
         "Urbana",
         42.94
        ],
        [
         "AL",
         "Municipal",
         "Urbana",
         42.72
        ],
        [
         "DF",
         "Privada",
         "Rural",
         42.13
        ],
        [
         "RJ",
         "Municipal",
         "Urbana",
         40.92
        ],
        [
         "RN",
         "Municipal",
         "Urbana",
         40.8
        ],
        [
         "RS",
         "Municipal",
         "Urbana",
         39.79
        ],
        [
         "DF",
         "Estadual",
         "Urbana",
         37.43
        ],
        [
         "SC",
         "Privada",
         "Rural",
         37.05
        ],
        [
         "PE",
         "Municipal",
         "Urbana",
         36.25
        ],
        [
         "SP",
         "Privada",
         "Urbana",
         35.3
        ],
        [
         "MA",
         "Municipal",
         "Urbana",
         33.07
        ],
        [
         "PI",
         "Municipal",
         "Urbana",
         32.92
        ],
        [
         "PB",
         "Municipal",
         "Urbana",
         32.52
        ],
        [
         "MA",
         "Privada",
         "Urbana",
         32.33
        ],
        [
         "SC",
         "Privada",
         "Urbana",
         32.26
        ],
        [
         "RO",
         "Privada",
         "Urbana",
         31.9
        ],
        [
         "CE",
         "Privada",
         "Urbana",
         30.49
        ],
        [
         "BA",
         "Municipal",
         "Urbana",
         30.39
        ],
        [
         "MS",
         "Privada",
         "Urbana",
         28.35
        ],
        [
         "MG",
         "Privada",
         "Urbana",
         28.08
        ],
        [
         "RS",
         "Privada",
         "Urbana",
         27.34
        ],
        [
         "SP",
         "Privada",
         "Rural",
         27.31
        ],
        [
         "GO",
         "Privada",
         "Urbana",
         27.1
        ],
        [
         "SE",
         "Privada",
         "Urbana",
         26.97
        ],
        [
         "AM",
         "Privada",
         "Urbana",
         26.83
        ],
        [
         "PE",
         "Privada",
         "Urbana",
         26.7
        ],
        [
         "PR",
         "Privada",
         "Urbana",
         26.3
        ],
        [
         "MT",
         "Privada",
         "Urbana",
         25.92
        ],
        [
         "RN",
         "Privada",
         "Urbana",
         25.61
        ],
        [
         "TO",
         "Privada",
         "Urbana",
         25.19
        ],
        [
         "PE",
         "Privada",
         "Rural",
         24.7
        ],
        [
         "ES",
         "Privada",
         "Urbana",
         24.57
        ],
        [
         "BA",
         "Privada",
         "Urbana",
         24.48
        ],
        [
         "AL",
         "Privada",
         "Urbana",
         24.33
        ],
        [
         "PB",
         "Privada",
         "Urbana",
         24.3
        ],
        [
         "PI",
         "Privada",
         "Urbana",
         23.8
        ],
        [
         "RJ",
         "Privada",
         "Urbana",
         23.8
        ],
        [
         "AC",
         "Privada",
         "Urbana",
         23.12
        ],
        [
         "PA",
         "Privada",
         "Urbana",
         21.71
        ],
        [
         "SE",
         "Privada",
         "Rural",
         21.1
        ],
        [
         "RJ",
         "Privada",
         "Rural",
         21.07
        ],
        [
         "PB",
         "Privada",
         "Rural",
         20.3
        ],
        [
         "AP",
         "Privada",
         "Urbana",
         20.15
        ],
        [
         "CE",
         "Municipal",
         "Rural",
         19.6
        ],
        [
         "DF",
         "Estadual",
         "Rural",
         17.65
        ],
        [
         "RJ",
         "Municipal",
         "Rural",
         17.54
        ],
        [
         "CE",
         "Privada",
         "Rural",
         17.39
        ],
        [
         "AL",
         "Municipal",
         "Rural",
         17.28
        ],
        [
         "MS",
         "Municipal",
         "Rural",
         16.47
        ],
        [
         "SP",
         "Municipal",
         "Rural",
         15.78
        ],
        [
         "RN",
         "Privada",
         "Rural",
         14.38
        ],
        [
         "SE",
         "Municipal",
         "Rural",
         13.9
        ],
        [
         "SC",
         "Municipal",
         "Rural",
         13.82
        ],
        [
         "MS",
         "Privada",
         "Rural",
         13.8
        ],
        [
         "RR",
         "Municipal",
         "Rural",
         12.8
        ],
        [
         "MT",
         "Municipal",
         "Rural",
         12.35
        ],
        [
         "RN",
         "Municipal",
         "Rural",
         11.74
        ],
        [
         "PR",
         "Municipal",
         "Rural",
         11.11
        ],
        [
         "GO",
         "Privada",
         "Rural",
         10.91
        ],
        [
         "PI",
         "Municipal",
         "Rural",
         10.89
        ],
        [
         "AP",
         "Municipal",
         "Rural",
         10.77
        ],
        [
         "PE",
         "Municipal",
         "Rural",
         10.7
        ],
        [
         "BA",
         "Privada",
         "Rural",
         10.67
        ],
        [
         "RO",
         "Municipal",
         "Rural",
         10.08
        ],
        [
         "RS",
         "Privada",
         "Rural",
         10.02
        ],
        [
         "BA",
         "Municipal",
         "Rural",
         9.82
        ],
        [
         "TO",
         "Municipal",
         "Rural",
         9.8
        ],
        [
         "MG",
         "Privada",
         "Rural",
         9.79
        ],
        [
         "AL",
         "Privada",
         "Rural",
         9.28
        ],
        [
         "MA",
         "Municipal",
         "Rural",
         9.16
        ],
        [
         "RS",
         "Municipal",
         "Rural",
         8.86
        ],
        [
         "MT",
         "Privada",
         "Rural",
         8.83
        ],
        [
         "PB",
         "Municipal",
         "Rural",
         8.67
        ],
        [
         "PR",
         "Privada",
         "Rural",
         8.15
        ],
        [
         "GO",
         "Municipal",
         "Rural",
         8.13
        ],
        [
         "ES",
         "Municipal",
         "Rural",
         8.08
        ],
        [
         "PA",
         "Municipal",
         "Rural",
         7.63
        ],
        [
         "MG",
         "Municipal",
         "Rural",
         7.32
        ],
        [
         "AM",
         "Municipal",
         "Rural",
         5.99
        ],
        [
         "AC",
         "Municipal",
         "Rural",
         5.97
        ],
        [
         "PA",
         "Privada",
         "Rural",
         5.78
        ],
        [
         "AL",
         "Estadual",
         "Rural",
         5.44
        ],
        [
         "RJ",
         "Federal",
         "Urbana",
         5.28
        ],
        [
         "PE",
         "Estadual",
         "Rural",
         4.87
        ],
        [
         "SP",
         "Federal",
         "Urbana",
         4.42
        ],
        [
         "CE",
         "Estadual",
         "Rural",
         4.04
        ],
        [
         "RN",
         "Federal",
         "Urbana",
         3.83
        ],
        [
         "TO",
         "Privada",
         "Rural",
         3.5
        ],
        [
         "MG",
         "Federal",
         "Urbana",
         2.91
        ],
        [
         "PB",
         "Federal",
         "Urbana",
         2.8
        ],
        [
         "ES",
         "Federal",
         "Urbana",
         2.75
        ],
        [
         "SC",
         "Federal",
         "Urbana",
         2.53
        ],
        [
         "BA",
         "Estadual",
         "Rural",
         2.36
        ],
        [
         "GO",
         "Federal",
         "Urbana",
         1.93
        ],
        [
         "PB",
         "Estadual",
         "Rural",
         1.71
        ],
        [
         "AC",
         "Federal",
         "Urbana",
         1.5
        ],
        [
         "PA",
         "Federal",
         "Urbana",
         1.39
        ],
        [
         "RS",
         "Federal",
         "Urbana",
         1.31
        ],
        [
         "AM",
         "Privada",
         "Rural",
         1.0
        ],
        [
         "RO",
         "Privada",
         "Rural",
         0.95
        ],
        [
         "ES",
         "Privada",
         "Rural",
         0.95
        ],
        [
         "AP",
         "Estadual",
         "Rural",
         0.87
        ],
        [
         "CE",
         "Federal",
         "Urbana",
         0.86
        ],
        [
         "PR",
         "Estadual",
         "Rural",
         0.86
        ],
        [
         "MG",
         "Estadual",
         "Rural",
         0.74
        ],
        [
         "RS",
         "Estadual",
         "Rural",
         0.66
        ],
        [
         "MS",
         "Estadual",
         "Urbana",
         0.51
        ],
        [
         "CE",
         "Estadual",
         "Urbana",
         0.36
        ],
        [
         "AC",
         "Estadual",
         "Rural",
         0.33
        ],
        [
         "PA",
         "Estadual",
         "Urbana",
         0.27
        ],
        [
         "PA",
         "Estadual",
         "Rural",
         0.23
        ],
        [
         "PE",
         "Estadual",
         "Urbana",
         0.2
        ],
        [
         "SP",
         "Estadual",
         "Rural",
         0.17
        ],
        [
         "MA",
         "Estadual",
         "Urbana",
         0.17
        ],
        [
         "TO",
         "Estadual",
         "Urbana",
         0.17
        ],
        [
         "RS",
         "Estadual",
         "Urbana",
         0.17
        ],
        [
         "AP",
         "Estadual",
         "Urbana",
         0.13
        ],
        [
         "RJ",
         "Estadual",
         "Urbana",
         0.12
        ],
        [
         "SP",
         "Estadual",
         "Urbana",
         0.07
        ],
        [
         "PR",
         "Estadual",
         "Urbana",
         0.06
        ],
        [
         "SC",
         "Estadual",
         "Urbana",
         0.05
        ],
        [
         "AL",
         "Estadual",
         "Urbana",
         0.03
        ],
        [
         "PB",
         "Estadual",
         "Urbana",
         0.03
        ],
        [
         "MT",
         "Estadual",
         "Urbana",
         0.02
        ],
        [
         "AM",
         "Estadual",
         "Urbana",
         0.02
        ],
        [
         "GO",
         "Estadual",
         "Urbana",
         0.02
        ],
        [
         "PE",
         "Federal",
         "Rural",
         0.0
        ],
        [
         "AP",
         "Privada",
         "Rural",
         0.0
        ],
        [
         "DF",
         "Federal",
         "Urbana",
         0.0
        ],
        [
         "AC",
         "Estadual",
         "Urbana",
         0.0
        ],
        [
         "SE",
         "Federal",
         "Rural",
         0.0
        ],
        [
         "BA",
         "Estadual",
         "Urbana",
         0.0
        ],
        [
         "MA",
         "Federal",
         "Urbana",
         0.0
        ],
        [
         "SC",
         "Federal",
         "Rural",
         0.0
        ],
        [
         "RR",
         "Privada",
         "Rural",
         0.0
        ],
        [
         "TO",
         "Federal",
         "Urbana",
         0.0
        ],
        [
         "PI",
         "Federal",
         "Rural",
         0.0
        ],
        [
         "RO",
         "Estadual",
         "Urbana",
         0.0
        ],
        [
         "DF",
         "Federal",
         "Rural",
         0.0
        ],
        [
         "RJ",
         "Estadual",
         "Rural",
         0.0
        ],
        [
         "RN",
         "Estadual",
         "Rural",
         0.0
        ],
        [
         "MG",
         "Federal",
         "Rural",
         0.0
        ],
        [
         "SC",
         "Estadual",
         "Rural",
         0.0
        ],
        [
         "CE",
         "Federal",
         "Rural",
         0.0
        ],
        [
         "AL",
         "Federal",
         "Urbana",
         0.0
        ],
        [
         "RN",
         "Estadual",
         "Urbana",
         0.0
        ],
        [
         "MA",
         "Federal",
         "Rural",
         0.0
        ],
        [
         "ES",
         "Estadual",
         "Urbana",
         0.0
        ],
        [
         "GO",
         "Estadual",
         "Rural",
         0.0
        ],
        [
         "SE",
         "Estadual",
         "Urbana",
         0.0
        ],
        [
         "MT",
         "Estadual",
         "Rural",
         0.0
        ],
        [
         "PR",
         "Federal",
         "Rural",
         0.0
        ],
        [
         "PA",
         "Federal",
         "Rural",
         0.0
        ],
        [
         "RJ",
         "Federal",
         "Rural",
         0.0
        ],
        [
         "AP",
         "Federal",
         "Urbana",
         0.0
        ],
        [
         "MT",
         "Federal",
         "Urbana",
         0.0
        ],
        [
         "TO",
         "Estadual",
         "Rural",
         0.0
        ],
        [
         "RR",
         "Federal",
         "Urbana",
         0.0
        ],
        [
         "TO",
         "Federal",
         "Rural",
         0.0
        ],
        [
         "PB",
         "Federal",
         "Rural",
         0.0
        ],
        [
         "MA",
         "Estadual",
         "Rural",
         0.0
        ],
        [
         "BA",
         "Federal",
         "Urbana",
         0.0
        ],
        [
         "PI",
         "Estadual",
         "Rural",
         0.0
        ],
        [
         "RO",
         "Estadual",
         "Rural",
         0.0
        ],
        [
         "PE",
         "Federal",
         "Urbana",
         0.0
        ],
        [
         "PI",
         "Privada",
         "Rural",
         0.0
        ],
        [
         "RR",
         "Federal",
         "Rural",
         0.0
        ],
        [
         "MT",
         "Federal",
         "Rural",
         0.0
        ],
        [
         "SE",
         "Estadual",
         "Rural",
         0.0
        ],
        [
         "MS",
         "Federal",
         "Urbana",
         0.0
        ],
        [
         "RO",
         "Federal",
         "Urbana",
         0.0
        ],
        [
         "RO",
         "Federal",
         "Rural",
         0.0
        ],
        [
         "PI",
         "Estadual",
         "Urbana",
         0.0
        ],
        [
         "GO",
         "Federal",
         "Rural",
         0.0
        ],
        [
         "AM",
         "Estadual",
         "Rural",
         0.0
        ],
        [
         "ES",
         "Estadual",
         "Rural",
         0.0
        ],
        [
         "ES",
         "Federal",
         "Rural",
         0.0
        ],
        [
         "BA",
         "Federal",
         "Rural",
         0.0
        ],
        [
         "SE",
         "Federal",
         "Urbana",
         0.0
        ],
        [
         "PR",
         "Federal",
         "Urbana",
         0.0
        ],
        [
         "RR",
         "Estadual",
         "Urbana",
         0.0
        ],
        [
         "RR",
         "Estadual",
         "Rural",
         0.0
        ],
        [
         "AM",
         "Federal",
         "Urbana",
         0.0
        ],
        [
         "AM",
         "Federal",
         "Rural",
         0.0
        ],
        [
         "MG",
         "Estadual",
         "Urbana",
         0.0
        ],
        [
         "RS",
         "Federal",
         "Rural",
         0.0
        ],
        [
         "RN",
         "Federal",
         "Rural",
         0.0
        ],
        [
         "MS",
         "Estadual",
         "Rural",
         0.0
        ],
        [
         "PI",
         "Federal",
         "Urbana",
         0.0
        ],
        [
         "MS",
         "Federal",
         "Rural",
         0.0
        ]
       ],
       "datasetInfos": [],
       "dbfsResultPath": null,
       "isJsonSchema": true,
       "metadata": {},
       "overflow": false,
       "plotOptions": {
        "customPlotOptions": {},
        "displayType": "table",
        "pivotAggregation": null,
        "pivotColumns": null,
        "xColumns": null,
        "yColumns": null
       },
       "removedWidgets": [],
       "schema": [
        {
         "metadata": "{}",
         "name": "UF",
         "type": "\"string\""
        },
        {
         "metadata": "{}",
         "name": "TIPO_DEPENDENCIA",
         "type": "\"string\""
        },
        {
         "metadata": "{}",
         "name": "TIPO_LOCALIZACAO",
         "type": "\"string\""
        },
        {
         "metadata": "{}",
         "name": "MEDIA_MATRICULAS",
         "type": "\"double\""
        }
       ],
       "type": "table"
      }
     },
     "output_type": "display_data"
    }
   ],
   "source": [
    "%sql\n",
    "-- Consulta da média de matrículas por UF, tipo de dependência e localização no segmento EI\n",
    "SELECT\n",
    "    ce.SG_UF AS UF, \n",
    "\n",
    "    CASE ce.TP_DEPENDENCIA\n",
    "        WHEN 1 THEN 'Federal'\n",
    "        WHEN 2 THEN 'Estadual'\n",
    "        WHEN 3 THEN 'Municipal'\n",
    "        WHEN 4 THEN 'Privada'\n",
    "        ELSE 'Não informado'\n",
    "    END AS TIPO_DEPENDENCIA,\n",
    "\n",
    "    CASE ce.TP_LOCALIZACAO\n",
    "        WHEN 1 THEN 'Urbana'\n",
    "        WHEN 2 THEN 'Rural'\n",
    "        ELSE 'Não informado'\n",
    "    END AS TIPO_LOCALIZACAO,\n",
    "\n",
    "    ROUND(AVG(ig.QT_MAT), 2) AS MEDIA_MATRICULAS\n",
    "\n",
    "FROM gold.indicadores_por_segmento ig\n",
    "\n",
    "LEFT JOIN silver.censo_escolar__escolas ce\n",
    "  ON ig.CO_ENTIDADE = ce.CO_ENTIDADE AND ig.NU_ANO_CENSO = ce.NU_ANO_CENSO\n",
    "\n",
    "LEFT JOIN silver.d_Series se\n",
    "  ON ig.COD_SEGMENTO = se.COD_SEGMENTO AND ig.COD_SERIE = se.COD_SERIE\n",
    "\n",
    "WHERE ig.NU_ANO_CENSO = 2022\n",
    "  AND ig.QT_MAT IS NOT NULL\n",
    "  AND se.SEGMENTO = 'EI'\n",
    "  -- AND ce.TP_LOCALIZACAOipo = 'Municipal'\n",
    "  -- AND ce.TP_DEPENDENCIA = 'Urbana'\n",
    "\n",
    "GROUP BY\n",
    "    ce.SG_UF,\n",
    "    TIPO_DEPENDENCIA,\n",
    "    TIPO_LOCALIZACAO\n",
    "\n",
    "ORDER BY MEDIA_MATRICULAS DESC;\n"
   ]
  },
  {
   "cell_type": "markdown",
   "metadata": {
    "application/vnd.databricks.v1+cell": {
     "cellMetadata": {
      "byteLimit": 2048000,
      "rowLimit": 10000
     },
     "inputWidgets": {},
     "nuid": "4d515051-13b5-4890-b4b7-9815a30d2655",
     "showTitle": false,
     "tableResultSettingsMap": {},
     "title": ""
    }
   },
   "source": [
    "###### 5.4 - Quantidade de Turmas por Estado e Segmento  \n",
    "**Pergunta 4**: Quais estados apresentam maior número médio de turmas por segmento?\n",
    "\n",
    "📌 **Objetivo**:  \n",
    "Analisar quais redes concentram maior oferta de turmas, segmentadas por estado e etapa de ensino.\n",
    "\n",
    "📂 **Fonte**:  \n",
    "View: `gold.vw_indicadores_completos`\n",
    "\n",
    "📎 **Filtros aplicados**:  \n",
    "- Apenas escolas com `SITUACAO_FUNCIONAMENTO = 'Em Atividade'`  \n",
    "- Valores não nulos em `QT_TURMAS`  \n",
    "- Segmentação por `UF` e `NOME_SEGMENTO`\n",
    "\n",
    "🎯 **Indicadores calculados**:  \n",
    "- Média da quantidade de turmas por estado e segmento  \n",
    "- Ranking dos estados com maior oferta média de turmas\n"
   ]
  },
  {
   "cell_type": "code",
   "execution_count": 0,
   "metadata": {
    "application/vnd.databricks.v1+cell": {
     "cellMetadata": {
      "byteLimit": 2048000,
      "implicitDf": true,
      "rowLimit": 10000
     },
     "inputWidgets": {},
     "nuid": "9f98efef-ba7a-4ca1-83d3-d4eabb21204d",
     "showTitle": true,
     "tableResultSettingsMap": {},
     "title": "Consulta"
    }
   },
   "outputs": [
    {
     "output_type": "stream",
     "name": "stderr",
     "output_type": "stream",
     "text": [
      "INFO | 02:02:09.3 ___ py4j.clientserver: Received command c on object id p0\n"
     ]
    },
    {
     "output_type": "display_data",
     "data": {
      "text/html": [
       "<style scoped>\n",
       "  .table-result-container {\n",
       "    max-height: 300px;\n",
       "    overflow: auto;\n",
       "  }\n",
       "  table, th, td {\n",
       "    border: 1px solid black;\n",
       "    border-collapse: collapse;\n",
       "  }\n",
       "  th, td {\n",
       "    padding: 5px;\n",
       "  }\n",
       "  th {\n",
       "    text-align: left;\n",
       "  }\n",
       "</style><div class='table-result-container'><table class='table-result'><thead style='background-color: white'><tr><th>ANO</th><th>UF</th><th>NOME_SEGMENTO</th><th>MEDIA_TURMAS</th></tr></thead><tbody><tr><td>2022</td><td>DF</td><td>EFI</td><td>11.56</td></tr><tr><td>2022</td><td>DF</td><td>EFIi</td><td>9.07</td></tr><tr><td>2022</td><td>MS</td><td>EFI</td><td>6.4</td></tr><tr><td>2022</td><td>SP</td><td>EFI</td><td>6.24</td></tr><tr><td>2022</td><td>RJ</td><td>EFI</td><td>6.07</td></tr><tr><td>2022</td><td>GO</td><td>EFI</td><td>5.96</td></tr><tr><td>2022</td><td>MG</td><td>EFI</td><td>5.96</td></tr><tr><td>2022</td><td>RO</td><td>EFI</td><td>5.84</td></tr><tr><td>2022</td><td>AL</td><td>EFI</td><td>5.79</td></tr><tr><td>2022</td><td>PR</td><td>EFI</td><td>5.69</td></tr><tr><td>2022</td><td>MT</td><td>EFI</td><td>5.61</td></tr><tr><td>2022</td><td>RO</td><td>EFIi</td><td>5.6</td></tr><tr><td>2022</td><td>PE</td><td>EFI</td><td>5.57</td></tr><tr><td>2022</td><td>SC</td><td>EFI</td><td>5.5</td></tr><tr><td>2022</td><td>AL</td><td>EFIi</td><td>5.37</td></tr><tr><td>2022</td><td>RR</td><td>EFI</td><td>5.36</td></tr><tr><td>2022</td><td>RS</td><td>EFI</td><td>5.35</td></tr><tr><td>2022</td><td>ES</td><td>EFI</td><td>5.31</td></tr><tr><td>2022</td><td>AP</td><td>EFI</td><td>5.27</td></tr><tr><td>2022</td><td>RR</td><td>EFIi</td><td>5.26</td></tr><tr><td>2022</td><td>SE</td><td>EFIi</td><td>5.24</td></tr><tr><td>2022</td><td>CE</td><td>EFI</td><td>5.23</td></tr><tr><td>2022</td><td>AM</td><td>EFI</td><td>5.2</td></tr><tr><td>2022</td><td>SE</td><td>EFI</td><td>5.08</td></tr><tr><td>2022</td><td>PA</td><td>EFIi</td><td>5.0</td></tr><tr><td>2022</td><td>BA</td><td>EFIi</td><td>4.97</td></tr><tr><td>2022</td><td>PE</td><td>EFIi</td><td>4.97</td></tr><tr><td>2022</td><td>MG</td><td>EFIi</td><td>4.95</td></tr><tr><td>2022</td><td>RN</td><td>EFI</td><td>4.9</td></tr><tr><td>2022</td><td>BA</td><td>EFI</td><td>4.88</td></tr><tr><td>2022</td><td>PA</td><td>EFI</td><td>4.8</td></tr><tr><td>2022</td><td>AM</td><td>EFIi</td><td>4.79</td></tr><tr><td>2022</td><td>TO</td><td>EFI</td><td>4.74</td></tr><tr><td>2022</td><td>SP</td><td>EFIi</td><td>4.69</td></tr><tr><td>2022</td><td>PB</td><td>EFIi</td><td>4.65</td></tr><tr><td>2022</td><td>PB</td><td>EFI</td><td>4.65</td></tr><tr><td>2022</td><td>RN</td><td>EFIi</td><td>4.64</td></tr><tr><td>2022</td><td>TO</td><td>EFIi</td><td>4.62</td></tr><tr><td>2022</td><td>MT</td><td>EFIi</td><td>4.58</td></tr><tr><td>2022</td><td>MS</td><td>EFIi</td><td>4.56</td></tr><tr><td>2022</td><td>CE</td><td>EFIi</td><td>4.49</td></tr><tr><td>2022</td><td>AP</td><td>EFIi</td><td>4.45</td></tr><tr><td>2022</td><td>RJ</td><td>EFIi</td><td>4.41</td></tr><tr><td>2022</td><td>ES</td><td>EFIi</td><td>4.32</td></tr><tr><td>2022</td><td>RS</td><td>EFIi</td><td>4.32</td></tr><tr><td>2022</td><td>PI</td><td>EFI</td><td>4.29</td></tr><tr><td>2022</td><td>GO</td><td>EFIi</td><td>4.23</td></tr><tr><td>2022</td><td>SC</td><td>EFIi</td><td>4.21</td></tr><tr><td>2022</td><td>PR</td><td>EFIi</td><td>4.21</td></tr><tr><td>2022</td><td>PI</td><td>EFIi</td><td>4.15</td></tr><tr><td>2022</td><td>MA</td><td>EFI</td><td>4.06</td></tr><tr><td>2022</td><td>MA</td><td>EFIi</td><td>4.04</td></tr><tr><td>2022</td><td>AC</td><td>EFIi</td><td>3.91</td></tr><tr><td>2022</td><td>DF</td><td>EI</td><td>3.88</td></tr><tr><td>2022</td><td>AC</td><td>EFI</td><td>3.77</td></tr><tr><td>2022</td><td>SP</td><td>EI</td><td>3.38</td></tr><tr><td>2022</td><td>SC</td><td>EI</td><td>2.97</td></tr><tr><td>2022</td><td>MS</td><td>EI</td><td>2.84</td></tr><tr><td>2022</td><td>MG</td><td>EI</td><td>2.72</td></tr><tr><td>2022</td><td>RS</td><td>EI</td><td>2.53</td></tr><tr><td>2022</td><td>ES</td><td>EI</td><td>2.52</td></tr><tr><td>2022</td><td>PR</td><td>EI</td><td>2.47</td></tr><tr><td>2022</td><td>MT</td><td>EI</td><td>2.47</td></tr><tr><td>2022</td><td>RJ</td><td>EI</td><td>2.35</td></tr><tr><td>2022</td><td>CE</td><td>EI</td><td>2.33</td></tr><tr><td>2022</td><td>AL</td><td>EI</td><td>2.3</td></tr><tr><td>2022</td><td>TO</td><td>EI</td><td>2.22</td></tr><tr><td>2022</td><td>RO</td><td>EI</td><td>2.22</td></tr><tr><td>2022</td><td>GO</td><td>EI</td><td>2.19</td></tr><tr><td>2022</td><td>RN</td><td>EI</td><td>2.13</td></tr><tr><td>2022</td><td>PE</td><td>EI</td><td>2.02</td></tr><tr><td>2022</td><td>RR</td><td>EI</td><td>2.01</td></tr><tr><td>2022</td><td>AM</td><td>EI</td><td>1.96</td></tr><tr><td>2022</td><td>SE</td><td>EI</td><td>1.94</td></tr><tr><td>2022</td><td>BA</td><td>EI</td><td>1.88</td></tr><tr><td>2022</td><td>PA</td><td>EI</td><td>1.8</td></tr><tr><td>2022</td><td>MA</td><td>EI</td><td>1.79</td></tr><tr><td>2022</td><td>PB</td><td>EI</td><td>1.79</td></tr><tr><td>2022</td><td>AC</td><td>EI</td><td>1.73</td></tr><tr><td>2022</td><td>PI</td><td>EI</td><td>1.7</td></tr><tr><td>2022</td><td>AP</td><td>EI</td><td>1.49</td></tr></tbody></table></div>"
      ]
     },
     "metadata": {
      "application/vnd.databricks.v1+output": {
       "addedWidgets": {},
       "aggData": [],
       "aggError": "",
       "aggOverflow": false,
       "aggSchema": [],
       "aggSeriesLimitReached": false,
       "aggType": "",
       "arguments": {},
       "columnCustomDisplayInfos": {},
       "data": [
        [
         2022,
         "DF",
         "EFI",
         11.56
        ],
        [
         2022,
         "DF",
         "EFIi",
         9.07
        ],
        [
         2022,
         "MS",
         "EFI",
         6.4
        ],
        [
         2022,
         "SP",
         "EFI",
         6.24
        ],
        [
         2022,
         "RJ",
         "EFI",
         6.07
        ],
        [
         2022,
         "GO",
         "EFI",
         5.96
        ],
        [
         2022,
         "MG",
         "EFI",
         5.96
        ],
        [
         2022,
         "RO",
         "EFI",
         5.84
        ],
        [
         2022,
         "AL",
         "EFI",
         5.79
        ],
        [
         2022,
         "PR",
         "EFI",
         5.69
        ],
        [
         2022,
         "MT",
         "EFI",
         5.61
        ],
        [
         2022,
         "RO",
         "EFIi",
         5.6
        ],
        [
         2022,
         "PE",
         "EFI",
         5.57
        ],
        [
         2022,
         "SC",
         "EFI",
         5.5
        ],
        [
         2022,
         "AL",
         "EFIi",
         5.37
        ],
        [
         2022,
         "RR",
         "EFI",
         5.36
        ],
        [
         2022,
         "RS",
         "EFI",
         5.35
        ],
        [
         2022,
         "ES",
         "EFI",
         5.31
        ],
        [
         2022,
         "AP",
         "EFI",
         5.27
        ],
        [
         2022,
         "RR",
         "EFIi",
         5.26
        ],
        [
         2022,
         "SE",
         "EFIi",
         5.24
        ],
        [
         2022,
         "CE",
         "EFI",
         5.23
        ],
        [
         2022,
         "AM",
         "EFI",
         5.2
        ],
        [
         2022,
         "SE",
         "EFI",
         5.08
        ],
        [
         2022,
         "PA",
         "EFIi",
         5.0
        ],
        [
         2022,
         "BA",
         "EFIi",
         4.97
        ],
        [
         2022,
         "PE",
         "EFIi",
         4.97
        ],
        [
         2022,
         "MG",
         "EFIi",
         4.95
        ],
        [
         2022,
         "RN",
         "EFI",
         4.9
        ],
        [
         2022,
         "BA",
         "EFI",
         4.88
        ],
        [
         2022,
         "PA",
         "EFI",
         4.8
        ],
        [
         2022,
         "AM",
         "EFIi",
         4.79
        ],
        [
         2022,
         "TO",
         "EFI",
         4.74
        ],
        [
         2022,
         "SP",
         "EFIi",
         4.69
        ],
        [
         2022,
         "PB",
         "EFIi",
         4.65
        ],
        [
         2022,
         "PB",
         "EFI",
         4.65
        ],
        [
         2022,
         "RN",
         "EFIi",
         4.64
        ],
        [
         2022,
         "TO",
         "EFIi",
         4.62
        ],
        [
         2022,
         "MT",
         "EFIi",
         4.58
        ],
        [
         2022,
         "MS",
         "EFIi",
         4.56
        ],
        [
         2022,
         "CE",
         "EFIi",
         4.49
        ],
        [
         2022,
         "AP",
         "EFIi",
         4.45
        ],
        [
         2022,
         "RJ",
         "EFIi",
         4.41
        ],
        [
         2022,
         "ES",
         "EFIi",
         4.32
        ],
        [
         2022,
         "RS",
         "EFIi",
         4.32
        ],
        [
         2022,
         "PI",
         "EFI",
         4.29
        ],
        [
         2022,
         "GO",
         "EFIi",
         4.23
        ],
        [
         2022,
         "SC",
         "EFIi",
         4.21
        ],
        [
         2022,
         "PR",
         "EFIi",
         4.21
        ],
        [
         2022,
         "PI",
         "EFIi",
         4.15
        ],
        [
         2022,
         "MA",
         "EFI",
         4.06
        ],
        [
         2022,
         "MA",
         "EFIi",
         4.04
        ],
        [
         2022,
         "AC",
         "EFIi",
         3.91
        ],
        [
         2022,
         "DF",
         "EI",
         3.88
        ],
        [
         2022,
         "AC",
         "EFI",
         3.77
        ],
        [
         2022,
         "SP",
         "EI",
         3.38
        ],
        [
         2022,
         "SC",
         "EI",
         2.97
        ],
        [
         2022,
         "MS",
         "EI",
         2.84
        ],
        [
         2022,
         "MG",
         "EI",
         2.72
        ],
        [
         2022,
         "RS",
         "EI",
         2.53
        ],
        [
         2022,
         "ES",
         "EI",
         2.52
        ],
        [
         2022,
         "PR",
         "EI",
         2.47
        ],
        [
         2022,
         "MT",
         "EI",
         2.47
        ],
        [
         2022,
         "RJ",
         "EI",
         2.35
        ],
        [
         2022,
         "CE",
         "EI",
         2.33
        ],
        [
         2022,
         "AL",
         "EI",
         2.3
        ],
        [
         2022,
         "TO",
         "EI",
         2.22
        ],
        [
         2022,
         "RO",
         "EI",
         2.22
        ],
        [
         2022,
         "GO",
         "EI",
         2.19
        ],
        [
         2022,
         "RN",
         "EI",
         2.13
        ],
        [
         2022,
         "PE",
         "EI",
         2.02
        ],
        [
         2022,
         "RR",
         "EI",
         2.01
        ],
        [
         2022,
         "AM",
         "EI",
         1.96
        ],
        [
         2022,
         "SE",
         "EI",
         1.94
        ],
        [
         2022,
         "BA",
         "EI",
         1.88
        ],
        [
         2022,
         "PA",
         "EI",
         1.8
        ],
        [
         2022,
         "MA",
         "EI",
         1.79
        ],
        [
         2022,
         "PB",
         "EI",
         1.79
        ],
        [
         2022,
         "AC",
         "EI",
         1.73
        ],
        [
         2022,
         "PI",
         "EI",
         1.7
        ],
        [
         2022,
         "AP",
         "EI",
         1.49
        ]
       ],
       "datasetInfos": [],
       "dbfsResultPath": null,
       "isJsonSchema": true,
       "metadata": {},
       "overflow": false,
       "plotOptions": {
        "customPlotOptions": {},
        "displayType": "table",
        "pivotAggregation": null,
        "pivotColumns": null,
        "xColumns": null,
        "yColumns": null
       },
       "removedWidgets": [],
       "schema": [
        {
         "metadata": "{}",
         "name": "ANO",
         "type": "\"integer\""
        },
        {
         "metadata": "{}",
         "name": "UF",
         "type": "\"string\""
        },
        {
         "metadata": "{}",
         "name": "NOME_SEGMENTO",
         "type": "\"string\""
        },
        {
         "metadata": "{}",
         "name": "MEDIA_TURMAS",
         "type": "\"double\""
        }
       ],
       "type": "table"
      }
     },
     "output_type": "display_data"
    }
   ],
   "source": [
    "%sql\n",
    "-- Consulta da média de turmas por UF e segmento para escolas em atividade\n",
    "SELECT\n",
    "    ig.ANO,\n",
    "    ig.UF,\n",
    "    ig.NOME_SEGMENTO,\n",
    "    ROUND(AVG(ig.QTD_TURMAS), 2) AS MEDIA_TURMAS\n",
    "\n",
    "FROM gold.vw_indicadores_completos ig\n",
    "\n",
    "WHERE ig.SITUACAO_FUNCIONAMENTO = 'Em Atividade'\n",
    "  AND ig.QTD_TURMAS IS NOT NULL\n",
    "\n",
    "GROUP BY ig.ANO, ig.UF, ig.NOME_SEGMENTO\n",
    "ORDER BY ig.ANO, MEDIA_TURMAS DESC;\n"
   ]
  }
 ],
 "metadata": {
  "application/vnd.databricks.v1+notebook": {
   "computePreferences": null,
   "dashboards": [],
   "environmentMetadata": {
    "base_environment": "",
    "environment_version": "1"
   },
   "inputWidgetPreferences": null,
   "language": "python",
   "notebookMetadata": {
    "mostRecentlyExecutedCommandWithImplicitDF": {
     "commandId": 239263196879110,
     "dataframes": [
      "_sqldf"
     ]
    },
    "pythonIndentUnit": 4
   },
   "notebookName": "POS",
   "widgets": {}
  }
 },
 "nbformat": 4,
 "nbformat_minor": 0
}